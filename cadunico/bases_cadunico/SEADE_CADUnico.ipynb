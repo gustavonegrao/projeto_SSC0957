{
  "cells": [
    {
      "cell_type": "code",
      "execution_count": 1,
      "metadata": {
        "id": "YkBkraFWyLon"
      },
      "outputs": [],
      "source": [
        "import pandas as pd\n",
        "import numpy as np\n",
        "import matplotlib.pyplot as plt\n",
        "import seaborn as sns"
      ]
    },
    {
      "cell_type": "markdown",
      "metadata": {
        "id": "IodXyS8hBmJf"
      },
      "source": [
        "#Dataset CadUnico #1\n",
        "\n",
        "https://repositorio.seade.gov.br/dataset/objetivo-estrategico-4-assistencia-social"
      ]
    },
    {
      "cell_type": "code",
      "execution_count": 2,
      "metadata": {
        "id": "WB85PuCb6HYG"
      },
      "outputs": [],
      "source": [
        "df1 = pd.read_csv(\"oe04_gini.csv\", sep = \";\")\n",
        "df2 = pd.read_csv(\"oe04_rend_dom_ate_meio_sm.csv\", sep = \";\")\n",
        "df3 = pd.read_csv(\"oe04_fam_situacao_rua.csv\", sep = \";\")\n",
        "df4 = pd.read_csv(\"oe04_rend_cadunico_meio_sm.csv\", sep = \";\")\n"
      ]
    },
    {
      "cell_type": "markdown",
      "metadata": {
        "id": "Te2O-eooJTaZ"
      },
      "source": [
        "Nessa seção, foi feita uma análise inicial dos dados. Foi possivel observar que temos 12 anos de informação em todos datasets, embora esses anos variem de acordo com o dataset (alguns sao de 2012 a 2023, alguns são de 2013 a 2024). Também verificamos que não existem dados nulos neste dataset, e que os dados municipais estão completos, incluindo com todos os anos que falamos que estão inclusos."
      ]
    },
    {
      "cell_type": "markdown",
      "metadata": {
        "id": "62GVhVC9CXls"
      },
      "source": [
        "##Gini -> Estatal (2012 - 2023)"
      ]
    },
    {
      "cell_type": "code",
      "execution_count": 3,
      "metadata": {
        "colab": {
          "base_uri": "https://localhost:8080/",
          "height": 206
        },
        "id": "3qaKLTbt5sKs",
        "outputId": "7fe0315b-e469-4371-cb1d-2cb9602c50ce"
      },
      "outputs": [
        {
          "data": {
            "text/html": [
              "<div>\n",
              "<style scoped>\n",
              "    .dataframe tbody tr th:only-of-type {\n",
              "        vertical-align: middle;\n",
              "    }\n",
              "\n",
              "    .dataframe tbody tr th {\n",
              "        vertical-align: top;\n",
              "    }\n",
              "\n",
              "    .dataframe thead th {\n",
              "        text-align: right;\n",
              "    }\n",
              "</style>\n",
              "<table border=\"1\" class=\"dataframe\">\n",
              "  <thead>\n",
              "    <tr style=\"text-align: right;\">\n",
              "      <th></th>\n",
              "      <th>ano</th>\n",
              "      <th>cod_ibge</th>\n",
              "      <th>ind_gini</th>\n",
              "    </tr>\n",
              "  </thead>\n",
              "  <tbody>\n",
              "    <tr>\n",
              "      <th>0</th>\n",
              "      <td>2023</td>\n",
              "      <td>35</td>\n",
              "      <td>0,504</td>\n",
              "    </tr>\n",
              "    <tr>\n",
              "      <th>1</th>\n",
              "      <td>2022</td>\n",
              "      <td>35</td>\n",
              "      <td>0,5</td>\n",
              "    </tr>\n",
              "    <tr>\n",
              "      <th>2</th>\n",
              "      <td>2021</td>\n",
              "      <td>35</td>\n",
              "      <td>0,533</td>\n",
              "    </tr>\n",
              "    <tr>\n",
              "      <th>3</th>\n",
              "      <td>2020</td>\n",
              "      <td>35</td>\n",
              "      <td>0,522</td>\n",
              "    </tr>\n",
              "    <tr>\n",
              "      <th>4</th>\n",
              "      <td>2019</td>\n",
              "      <td>35</td>\n",
              "      <td>0,526</td>\n",
              "    </tr>\n",
              "  </tbody>\n",
              "</table>\n",
              "</div>"
            ],
            "text/plain": [
              "    ano  cod_ibge ind_gini\n",
              "0  2023        35    0,504\n",
              "1  2022        35      0,5\n",
              "2  2021        35    0,533\n",
              "3  2020        35    0,522\n",
              "4  2019        35    0,526"
            ]
          },
          "execution_count": 3,
          "metadata": {},
          "output_type": "execute_result"
        }
      ],
      "source": [
        "df1.head()"
      ]
    },
    {
      "cell_type": "code",
      "execution_count": 4,
      "metadata": {
        "colab": {
          "base_uri": "https://localhost:8080/"
        },
        "id": "I2MtZzE1EUSB",
        "outputId": "79064191-95eb-48b1-fb7e-dbbc81af0e11"
      },
      "outputs": [
        {
          "data": {
            "text/plain": [
              "(12, 3)"
            ]
          },
          "execution_count": 4,
          "metadata": {},
          "output_type": "execute_result"
        }
      ],
      "source": [
        "df1.shape"
      ]
    },
    {
      "cell_type": "code",
      "execution_count": 5,
      "metadata": {
        "colab": {
          "base_uri": "https://localhost:8080/"
        },
        "id": "IY4uYwULEu05",
        "outputId": "3cb803b4-e237-4cae-96b1-10e2df604849"
      },
      "outputs": [
        {
          "data": {
            "text/plain": [
              "ano         0\n",
              "cod_ibge    0\n",
              "ind_gini    0\n",
              "dtype: int64"
            ]
          },
          "execution_count": 5,
          "metadata": {},
          "output_type": "execute_result"
        }
      ],
      "source": [
        "df1.isnull().sum()"
      ]
    },
    {
      "cell_type": "markdown",
      "metadata": {
        "id": "0MbM9Il3EZQM"
      },
      "source": [
        "Esse DataSet possui o indice de Gini para o Estado de São Paulo de 2012 a 2023\n",
        "\n"
      ]
    },
    {
      "cell_type": "markdown",
      "metadata": {
        "id": "KIkO-4KTCeG0"
      },
      "source": [
        "##Renda - Domiciliar PerCapita abaixo de 1/2 SM -> Por Região de SP (2012 - 2023)"
      ]
    },
    {
      "cell_type": "code",
      "execution_count": 6,
      "metadata": {
        "colab": {
          "base_uri": "https://localhost:8080/",
          "height": 206
        },
        "id": "N0rBBIlF-H4l",
        "outputId": "07e700af-9dca-4818-d685-d697d7eebab9"
      },
      "outputs": [
        {
          "data": {
            "text/html": [
              "<div>\n",
              "<style scoped>\n",
              "    .dataframe tbody tr th:only-of-type {\n",
              "        vertical-align: middle;\n",
              "    }\n",
              "\n",
              "    .dataframe tbody tr th {\n",
              "        vertical-align: top;\n",
              "    }\n",
              "\n",
              "    .dataframe thead th {\n",
              "        text-align: right;\n",
              "    }\n",
              "</style>\n",
              "<table border=\"1\" class=\"dataframe\">\n",
              "  <thead>\n",
              "    <tr style=\"text-align: right;\">\n",
              "      <th></th>\n",
              "      <th>ano</th>\n",
              "      <th>regiao_sp</th>\n",
              "      <th>pop_rd_ate_meio_sm</th>\n",
              "      <th>pop_pnadc</th>\n",
              "      <th>perc_rd_ate_meio_sm</th>\n",
              "    </tr>\n",
              "  </thead>\n",
              "  <tbody>\n",
              "    <tr>\n",
              "      <th>0</th>\n",
              "      <td>2023</td>\n",
              "      <td>ESP</td>\n",
              "      <td>7542004</td>\n",
              "      <td>47315515</td>\n",
              "      <td>15,9</td>\n",
              "    </tr>\n",
              "    <tr>\n",
              "      <th>1</th>\n",
              "      <td>2022</td>\n",
              "      <td>ESP</td>\n",
              "      <td>8594777</td>\n",
              "      <td>46972977</td>\n",
              "      <td>18,3</td>\n",
              "    </tr>\n",
              "    <tr>\n",
              "      <th>2</th>\n",
              "      <td>2021</td>\n",
              "      <td>ESP</td>\n",
              "      <td>10430493</td>\n",
              "      <td>46623128</td>\n",
              "      <td>22,4</td>\n",
              "    </tr>\n",
              "    <tr>\n",
              "      <th>3</th>\n",
              "      <td>2020</td>\n",
              "      <td>ESP</td>\n",
              "      <td>8906112</td>\n",
              "      <td>46269533</td>\n",
              "      <td>19,2</td>\n",
              "    </tr>\n",
              "    <tr>\n",
              "      <th>4</th>\n",
              "      <td>2019</td>\n",
              "      <td>ESP</td>\n",
              "      <td>7744515</td>\n",
              "      <td>45888809</td>\n",
              "      <td>16,9</td>\n",
              "    </tr>\n",
              "  </tbody>\n",
              "</table>\n",
              "</div>"
            ],
            "text/plain": [
              "    ano regiao_sp  pop_rd_ate_meio_sm  pop_pnadc perc_rd_ate_meio_sm\n",
              "0  2023       ESP             7542004   47315515                15,9\n",
              "1  2022       ESP             8594777   46972977                18,3\n",
              "2  2021       ESP            10430493   46623128                22,4\n",
              "3  2020       ESP             8906112   46269533                19,2\n",
              "4  2019       ESP             7744515   45888809                16,9"
            ]
          },
          "execution_count": 6,
          "metadata": {},
          "output_type": "execute_result"
        }
      ],
      "source": [
        "df2.head()"
      ]
    },
    {
      "cell_type": "code",
      "execution_count": 7,
      "metadata": {
        "colab": {
          "base_uri": "https://localhost:8080/"
        },
        "id": "JXQvDO8_EssQ",
        "outputId": "cdfb5d26-a31c-4c40-f303-60f89fd06624"
      },
      "outputs": [
        {
          "data": {
            "text/plain": [
              "(36, 5)"
            ]
          },
          "execution_count": 7,
          "metadata": {},
          "output_type": "execute_result"
        }
      ],
      "source": [
        "df2.shape"
      ]
    },
    {
      "cell_type": "code",
      "execution_count": 8,
      "metadata": {
        "colab": {
          "base_uri": "https://localhost:8080/",
          "height": 241
        },
        "id": "s6r_wdHzG91L",
        "outputId": "31aa574c-f48e-462a-e480-819079a9527c"
      },
      "outputs": [
        {
          "data": {
            "text/plain": [
              "ano                    0\n",
              "regiao_sp              0\n",
              "pop_rd_ate_meio_sm     0\n",
              "pop_pnadc              0\n",
              "perc_rd_ate_meio_sm    0\n",
              "dtype: int64"
            ]
          },
          "execution_count": 8,
          "metadata": {},
          "output_type": "execute_result"
        }
      ],
      "source": [
        "df2.isnull().sum()"
      ]
    },
    {
      "cell_type": "markdown",
      "metadata": {
        "id": "V3JbIfBtIoIq"
      },
      "source": [
        "Esse Dataset possui a populacao ate meio salario minimo, por regiao de sao paulo, de 2012 a 2023"
      ]
    },
    {
      "cell_type": "markdown",
      "metadata": {
        "id": "EAeXy-eeCpZt"
      },
      "source": [
        "##Famílias em Situação de Rua -> Municipal (2013 - 2024)"
      ]
    },
    {
      "cell_type": "code",
      "execution_count": 9,
      "metadata": {
        "colab": {
          "base_uri": "https://localhost:8080/",
          "height": 206
        },
        "id": "VlysDPcY-T8C",
        "outputId": "79069c61-d69b-4b97-f3e3-a1fa26736aa8"
      },
      "outputs": [
        {
          "data": {
            "text/html": [
              "<div>\n",
              "<style scoped>\n",
              "    .dataframe tbody tr th:only-of-type {\n",
              "        vertical-align: middle;\n",
              "    }\n",
              "\n",
              "    .dataframe tbody tr th {\n",
              "        vertical-align: top;\n",
              "    }\n",
              "\n",
              "    .dataframe thead th {\n",
              "        text-align: right;\n",
              "    }\n",
              "</style>\n",
              "<table border=\"1\" class=\"dataframe\">\n",
              "  <thead>\n",
              "    <tr style=\"text-align: right;\">\n",
              "      <th></th>\n",
              "      <th>ano</th>\n",
              "      <th>cod_ibge</th>\n",
              "      <th>n_fam_rua</th>\n",
              "    </tr>\n",
              "  </thead>\n",
              "  <tbody>\n",
              "    <tr>\n",
              "      <th>0</th>\n",
              "      <td>2024</td>\n",
              "      <td>35</td>\n",
              "      <td>135257</td>\n",
              "    </tr>\n",
              "    <tr>\n",
              "      <th>1</th>\n",
              "      <td>2023</td>\n",
              "      <td>35</td>\n",
              "      <td>103083</td>\n",
              "    </tr>\n",
              "    <tr>\n",
              "      <th>2</th>\n",
              "      <td>2022</td>\n",
              "      <td>35</td>\n",
              "      <td>80551</td>\n",
              "    </tr>\n",
              "    <tr>\n",
              "      <th>3</th>\n",
              "      <td>2021</td>\n",
              "      <td>35</td>\n",
              "      <td>62553</td>\n",
              "    </tr>\n",
              "    <tr>\n",
              "      <th>4</th>\n",
              "      <td>2020</td>\n",
              "      <td>35</td>\n",
              "      <td>61333</td>\n",
              "    </tr>\n",
              "  </tbody>\n",
              "</table>\n",
              "</div>"
            ],
            "text/plain": [
              "    ano  cod_ibge  n_fam_rua\n",
              "0  2024        35     135257\n",
              "1  2023        35     103083\n",
              "2  2022        35      80551\n",
              "3  2021        35      62553\n",
              "4  2020        35      61333"
            ]
          },
          "execution_count": 9,
          "metadata": {},
          "output_type": "execute_result"
        }
      ],
      "source": [
        "df3.head()"
      ]
    },
    {
      "cell_type": "code",
      "execution_count": 10,
      "metadata": {
        "colab": {
          "base_uri": "https://localhost:8080/"
        },
        "id": "zFzDh15WYYwJ",
        "outputId": "cf399e85-ac64-4471-945a-212943004408"
      },
      "outputs": [
        {
          "data": {
            "text/plain": [
              "array([     35, 3500105, 3500204, 3500303, 3500402, 3500501, 3500550,\n",
              "       3500600, 3500709, 3500758, 3500808, 3500907, 3501004, 3501103,\n",
              "       3501152, 3501202, 3501301, 3501400, 3501509, 3501608, 3501707,\n",
              "       3501806, 3501905, 3502002, 3502101, 3502200, 3502309, 3502408,\n",
              "       3502507, 3502606, 3502705, 3502754, 3502804, 3502903, 3503000,\n",
              "       3503109, 3503158, 3503208, 3503307, 3503356, 3503406, 3503505,\n",
              "       3503604, 3503703, 3503802, 3503901, 3503950, 3504008, 3504107,\n",
              "       3504206, 3504305, 3504404, 3504503, 3504602, 3504701, 3504800,\n",
              "       3504909, 3505005, 3505104, 3505203, 3505302, 3505351, 3505401,\n",
              "       3505500, 3505609, 3505708, 3505807, 3505906, 3506003, 3506102,\n",
              "       3506201, 3506300, 3506359, 3506409, 3506508, 3506607, 3506706,\n",
              "       3506805, 3506904, 3507001, 3507100, 3507159, 3507209, 3507308,\n",
              "       3507407, 3507456, 3507506, 3507605, 3507704, 3507753, 3507803,\n",
              "       3507902, 3508009, 3508108, 3508207, 3508306, 3508405, 3508504,\n",
              "       3508603, 3508702, 3508801, 3508900, 3509007, 3509106, 3509205,\n",
              "       3509254, 3509304, 3509403, 3509452, 3509502, 3509601, 3509700,\n",
              "       3509809, 3509908, 3509957, 3510005, 3510104, 3510153, 3510203,\n",
              "       3510302, 3510401, 3510500, 3510609, 3510708, 3510807, 3510906,\n",
              "       3511003, 3511102, 3511201, 3511300, 3511409, 3511508, 3511607,\n",
              "       3511706, 3511904, 3512001, 3512100, 3512209, 3512308, 3512407,\n",
              "       3512506, 3512605, 3512704, 3512803, 3512902, 3513009, 3513108,\n",
              "       3513207, 3513306, 3513405, 3513504, 3513603, 3513702, 3513801,\n",
              "       3513850, 3513900, 3514007, 3514106, 3514205, 3514304, 3514403,\n",
              "       3514502, 3514601, 3514700, 3514809, 3514908, 3514924, 3514957,\n",
              "       3515004, 3515103, 3515129, 3515152, 3515186, 3515194, 3515202,\n",
              "       3515301, 3515350, 3515400, 3515509, 3515608, 3515657, 3515707,\n",
              "       3515806, 3515905, 3516002, 3516101, 3516200, 3516309, 3516408,\n",
              "       3516507, 3516606, 3516705, 3516804, 3516853, 3516903, 3517000,\n",
              "       3517109, 3517208, 3517307, 3517406, 3517505, 3517604, 3517703,\n",
              "       3517802, 3517901, 3518008, 3518107, 3518206, 3518305, 3518404,\n",
              "       3518503, 3518602, 3518701, 3518800, 3518859, 3518909, 3519006,\n",
              "       3519055, 3519071, 3519105, 3519204, 3519253, 3519303, 3519402,\n",
              "       3519501, 3519600, 3519709, 3519808, 3519907, 3520004, 3520103,\n",
              "       3520202, 3520301, 3520400, 3520426, 3520442, 3520509, 3520608,\n",
              "       3520707, 3520806, 3520905, 3521002, 3521101, 3521150, 3521200,\n",
              "       3521309, 3521408, 3521507, 3521606, 3521705, 3521804, 3521903,\n",
              "       3522000, 3522109, 3522158, 3522208, 3522307, 3522406, 3522505,\n",
              "       3522604, 3522653, 3522703, 3522802, 3522901, 3523008, 3523107,\n",
              "       3523206, 3523305, 3523404, 3523503, 3523602, 3523701, 3523800,\n",
              "       3523909, 3524006, 3524105, 3524204, 3524303, 3524402, 3524501,\n",
              "       3524600, 3524709, 3524808, 3524907, 3525003, 3525102, 3525201,\n",
              "       3525300, 3525409, 3525508, 3525607, 3525706, 3525805, 3525854,\n",
              "       3525904, 3526001, 3526100, 3526209, 3526308, 3526407, 3526506,\n",
              "       3526605, 3526704, 3526803, 3526902, 3527009, 3527108, 3527207,\n",
              "       3527256, 3527306, 3527405, 3527504, 3527603, 3527702, 3527801,\n",
              "       3527900, 3528007, 3528106, 3528205, 3528304, 3528403, 3528502,\n",
              "       3528601, 3528700, 3528809, 3528858, 3528908, 3529005, 3529104,\n",
              "       3529203, 3529302, 3529401, 3529500, 3529609, 3529658, 3529708,\n",
              "       3529807, 3529906, 3530003, 3530102, 3530201, 3530300, 3530409,\n",
              "       3530508, 3530607, 3530706, 3530805, 3530904, 3531001, 3531100,\n",
              "       3531209, 3531308, 3531407, 3531506, 3531605, 3531704, 3531803,\n",
              "       3531902, 3532009, 3532058, 3532108, 3532157, 3532207, 3532306,\n",
              "       3532405, 3532504, 3532603, 3532702, 3532801, 3532827, 3532843,\n",
              "       3532868, 3532900, 3533007, 3533106, 3533205, 3533254, 3533304,\n",
              "       3533403, 3533502, 3533601, 3533700, 3533809, 3533908, 3534005,\n",
              "       3534104, 3534203, 3534302, 3534401, 3534500, 3534609, 3534708,\n",
              "       3534757, 3534807, 3534906, 3535002, 3535101, 3535200, 3535309,\n",
              "       3535408, 3535507, 3535606, 3535705, 3535804, 3535903, 3536000,\n",
              "       3536109, 3536208, 3536257, 3536307, 3536406, 3536505, 3536570,\n",
              "       3536604, 3536703, 3536802, 3536901, 3537008, 3537107, 3537156,\n",
              "       3537206, 3537305, 3537404, 3537503, 3537602, 3537701, 3537800,\n",
              "       3537909, 3538006, 3538105, 3538204, 3538303, 3538501, 3538600,\n",
              "       3538709, 3538808, 3538907, 3539004, 3539103, 3539202, 3539301,\n",
              "       3539400, 3539509, 3539608, 3539707, 3539806, 3539905, 3540002,\n",
              "       3540101, 3540200, 3540259, 3540309, 3540408, 3540507, 3540606,\n",
              "       3540705, 3540754, 3540804, 3540853, 3540903, 3541000, 3541059,\n",
              "       3541109, 3541208, 3541307, 3541406, 3541505, 3541604, 3541653,\n",
              "       3541703, 3541802, 3541901, 3542008, 3542107, 3542206, 3542305,\n",
              "       3542404, 3542503, 3542602, 3542701, 3542800, 3542909, 3543006,\n",
              "       3543105, 3543204, 3543238, 3543253, 3543303, 3543402, 3543501,\n",
              "       3543600, 3543709, 3543808, 3543907, 3544004, 3544103, 3544202,\n",
              "       3544251, 3544301, 3544400, 3544509, 3544608, 3544707, 3544806,\n",
              "       3544905, 3545001, 3545100, 3545159, 3545209, 3545308, 3545407,\n",
              "       3545506, 3545605, 3545704, 3545803, 3546009, 3546108, 3546207,\n",
              "       3546256, 3546306, 3546405, 3546504, 3546603, 3546702, 3546801,\n",
              "       3546900, 3547007, 3547106, 3547205, 3547304, 3547403, 3547502,\n",
              "       3547601, 3547650, 3547700, 3547809, 3547908, 3548005, 3548054,\n",
              "       3548104, 3548203, 3548302, 3548401, 3548500, 3548609, 3548708,\n",
              "       3548807, 3548906, 3549003, 3549102, 3549201, 3549250, 3549300,\n",
              "       3549409, 3549508, 3549607, 3549706, 3549805, 3549904, 3549953,\n",
              "       3550001, 3550100, 3550209, 3550308, 3550407, 3550506, 3550605,\n",
              "       3550704, 3550803, 3550902, 3551009, 3551108, 3551207, 3551306,\n",
              "       3551405, 3551504, 3551603, 3551702, 3551801, 3551900, 3552007,\n",
              "       3552106, 3552205, 3552304, 3552403, 3552502, 3552551, 3552601,\n",
              "       3552700, 3552809, 3552908, 3553005, 3553104, 3553203, 3553302,\n",
              "       3553401, 3553500, 3553609, 3553658, 3553708, 3553807, 3553856,\n",
              "       3553906, 3553955, 3554003, 3554102, 3554201, 3554300, 3554409,\n",
              "       3554508, 3554607, 3554656, 3554706, 3554755, 3554805, 3554904,\n",
              "       3554953, 3555000, 3555109, 3555208, 3555307, 3555356, 3555406,\n",
              "       3555505, 3555604, 3555703, 3555802, 3555901, 3556008, 3556107,\n",
              "       3556206, 3556305, 3556354, 3556404, 3556453, 3556503, 3556602,\n",
              "       3556701, 3556800, 3556909, 3556958, 3557006, 3557105, 3557154,\n",
              "       3557204, 3557303])"
            ]
          },
          "execution_count": 10,
          "metadata": {},
          "output_type": "execute_result"
        }
      ],
      "source": [
        "df3.cod_ibge.unique()"
      ]
    },
    {
      "cell_type": "code",
      "execution_count": 11,
      "metadata": {
        "colab": {
          "base_uri": "https://localhost:8080/"
        },
        "id": "87Mv-wYgHAjr",
        "outputId": "7f8e09ae-b144-4abe-8ee8-3fd5c89c716b"
      },
      "outputs": [
        {
          "data": {
            "text/plain": [
              "(7752, 3)"
            ]
          },
          "execution_count": 11,
          "metadata": {},
          "output_type": "execute_result"
        }
      ],
      "source": [
        "df3.shape"
      ]
    },
    {
      "cell_type": "markdown",
      "metadata": {
        "id": "3no9jYOUUBCJ"
      },
      "source": []
    },
    {
      "cell_type": "code",
      "execution_count": 12,
      "metadata": {
        "colab": {
          "base_uri": "https://localhost:8080/",
          "height": 35
        },
        "id": "ufk80IY4TsPA",
        "outputId": "62e1ad70-0798-4767-dc77-324ad25162bb"
      },
      "outputs": [
        {
          "data": {
            "text/plain": [
              "(5168, 3)"
            ]
          },
          "metadata": {},
          "output_type": "display_data"
        }
      ],
      "source": [
        "# Create df3_restrito by filtering df3 for the specified years\n",
        "df3_restrito = df3[(df3['ano'] == 2013) | (df3['ano'] == 2014) | (df3['ano'] == 2015) | (df3['ano'] == 2016) | (df3['ano'] == 2017) | (df3['ano'] == 2018) | (df3['ano'] == 2019) | (df3['ano'] == 2020)].copy()\n",
        "\n",
        "# Display the shape of df3_restrito\n",
        "display(df3_restrito.shape)"
      ]
    },
    {
      "cell_type": "code",
      "execution_count": 13,
      "metadata": {
        "colab": {
          "base_uri": "https://localhost:8080/"
        },
        "id": "eQjK96YNHliM",
        "outputId": "6175b17d-50b3-4f12-e77e-0937546066f7"
      },
      "outputs": [
        {
          "name": "stdout",
          "output_type": "stream",
          "text": [
            "Number of unique IBGE codes in df3: 646\n"
          ]
        }
      ],
      "source": [
        "# Número de Códigos IBGE\n",
        "num_unique_ibge_df3 = df3['cod_ibge'].nunique()\n",
        "print(f\"Number of unique IBGE codes in df3: {num_unique_ibge_df3}\")"
      ]
    },
    {
      "cell_type": "code",
      "execution_count": 14,
      "metadata": {
        "colab": {
          "base_uri": "https://localhost:8080/"
        },
        "id": "MUmw5p0aIbhV",
        "outputId": "aa2bba86-4429-4dd6-c0e8-19ba1e8f68d1"
      },
      "outputs": [
        {
          "name": "stdout",
          "output_type": "stream",
          "text": [
            "All unique IBGE codes in df3 have data for the years 2013 to 2024.\n"
          ]
        }
      ],
      "source": [
        "# Define the expected range of years\n",
        "expected_years_range = set(range(2013, 2025)) # Range is exclusive at the end, so 2025 for 2013-2024\n",
        "\n",
        "# Group by cod_ibge and get the unique years for each group\n",
        "years_by_ibge = df3.groupby('cod_ibge')['ano'].unique()\n",
        "\n",
        "# Check if the set of years for each IBGE code matches the expected range\n",
        "all_years_match = (years_by_ibge.apply(lambda x: set(x) == expected_years_range)).all()\n",
        "\n",
        "if all_years_match:\n",
        "    print(\"All unique IBGE codes in df3 have data for the years 2013 to 2024.\")\n",
        "else:\n",
        "    print(\"Not all unique IBGE codes in df3 have data for the years 2013 to 2024.\")\n",
        "    # Optionally, show which codes do not have the expected years\n",
        "    codes_with_different_years = years_by_ibge[years_by_ibge.apply(lambda x: set(x) != expected_years_range)]\n",
        "    print(\"\\nIBGE codes with years outside the 2013-2024 range:\")\n",
        "    display(codes_with_different_years)"
      ]
    },
    {
      "cell_type": "code",
      "execution_count": 15,
      "metadata": {
        "colab": {
          "base_uri": "https://localhost:8080/",
          "height": 178
        },
        "id": "a551CKrPHC7U",
        "outputId": "514b45eb-c4c7-4b55-d15c-6daffe8275b3"
      },
      "outputs": [
        {
          "data": {
            "text/plain": [
              "ano          0\n",
              "cod_ibge     0\n",
              "n_fam_rua    0\n",
              "dtype: int64"
            ]
          },
          "execution_count": 15,
          "metadata": {},
          "output_type": "execute_result"
        }
      ],
      "source": [
        "df3.isnull().sum()"
      ]
    },
    {
      "cell_type": "code",
      "execution_count": 16,
      "metadata": {
        "colab": {
          "base_uri": "https://localhost:8080/",
          "height": 423
        },
        "id": "Ty_syjE4ZJKI",
        "outputId": "2bda8f00-875c-432d-ec57-bcf3368ddff3"
      },
      "outputs": [
        {
          "data": {
            "text/html": [
              "<div>\n",
              "<style scoped>\n",
              "    .dataframe tbody tr th:only-of-type {\n",
              "        vertical-align: middle;\n",
              "    }\n",
              "\n",
              "    .dataframe tbody tr th {\n",
              "        vertical-align: top;\n",
              "    }\n",
              "\n",
              "    .dataframe thead th {\n",
              "        text-align: right;\n",
              "    }\n",
              "</style>\n",
              "<table border=\"1\" class=\"dataframe\">\n",
              "  <thead>\n",
              "    <tr style=\"text-align: right;\">\n",
              "      <th></th>\n",
              "      <th>ano</th>\n",
              "      <th>cod_ibge</th>\n",
              "      <th>n_fam_rua</th>\n",
              "    </tr>\n",
              "  </thead>\n",
              "  <tbody>\n",
              "    <tr>\n",
              "      <th>2592</th>\n",
              "      <td>2020</td>\n",
              "      <td>3500105</td>\n",
              "      <td>5</td>\n",
              "    </tr>\n",
              "    <tr>\n",
              "      <th>2593</th>\n",
              "      <td>2020</td>\n",
              "      <td>3500204</td>\n",
              "      <td>2</td>\n",
              "    </tr>\n",
              "    <tr>\n",
              "      <th>2594</th>\n",
              "      <td>2020</td>\n",
              "      <td>3500303</td>\n",
              "      <td>3</td>\n",
              "    </tr>\n",
              "    <tr>\n",
              "      <th>2595</th>\n",
              "      <td>2020</td>\n",
              "      <td>3500402</td>\n",
              "      <td>3</td>\n",
              "    </tr>\n",
              "    <tr>\n",
              "      <th>2596</th>\n",
              "      <td>2020</td>\n",
              "      <td>3500501</td>\n",
              "      <td>4</td>\n",
              "    </tr>\n",
              "    <tr>\n",
              "      <th>...</th>\n",
              "      <td>...</td>\n",
              "      <td>...</td>\n",
              "      <td>...</td>\n",
              "    </tr>\n",
              "    <tr>\n",
              "      <th>7747</th>\n",
              "      <td>2013</td>\n",
              "      <td>3557006</td>\n",
              "      <td>5</td>\n",
              "    </tr>\n",
              "    <tr>\n",
              "      <th>7748</th>\n",
              "      <td>2013</td>\n",
              "      <td>3557105</td>\n",
              "      <td>0</td>\n",
              "    </tr>\n",
              "    <tr>\n",
              "      <th>7749</th>\n",
              "      <td>2013</td>\n",
              "      <td>3557154</td>\n",
              "      <td>0</td>\n",
              "    </tr>\n",
              "    <tr>\n",
              "      <th>7750</th>\n",
              "      <td>2013</td>\n",
              "      <td>3557204</td>\n",
              "      <td>0</td>\n",
              "    </tr>\n",
              "    <tr>\n",
              "      <th>7751</th>\n",
              "      <td>2013</td>\n",
              "      <td>3557303</td>\n",
              "      <td>0</td>\n",
              "    </tr>\n",
              "  </tbody>\n",
              "</table>\n",
              "<p>5160 rows × 3 columns</p>\n",
              "</div>"
            ],
            "text/plain": [
              "       ano  cod_ibge  n_fam_rua\n",
              "2592  2020   3500105          5\n",
              "2593  2020   3500204          2\n",
              "2594  2020   3500303          3\n",
              "2595  2020   3500402          3\n",
              "2596  2020   3500501          4\n",
              "...    ...       ...        ...\n",
              "7747  2013   3557006          5\n",
              "7748  2013   3557105          0\n",
              "7749  2013   3557154          0\n",
              "7750  2013   3557204          0\n",
              "7751  2013   3557303          0\n",
              "\n",
              "[5160 rows x 3 columns]"
            ]
          },
          "execution_count": 16,
          "metadata": {},
          "output_type": "execute_result"
        }
      ],
      "source": [
        "df3_restrito.query('cod_ibge != 35')"
      ]
    },
    {
      "cell_type": "markdown",
      "metadata": {
        "id": "gIwLYb9AD4_n"
      },
      "source": [
        "##Renda - Domiciliar PerCapita abaixo de 1/2 SM -> Municipal (2013 - 2024)\n",
        "\n"
      ]
    },
    {
      "cell_type": "code",
      "execution_count": 17,
      "metadata": {
        "colab": {
          "base_uri": "https://localhost:8080/",
          "height": 206
        },
        "id": "ikzgZHXC-WEl",
        "outputId": "ccb3ba43-f94c-407a-b857-083194e6efec"
      },
      "outputs": [
        {
          "data": {
            "text/html": [
              "<div>\n",
              "<style scoped>\n",
              "    .dataframe tbody tr th:only-of-type {\n",
              "        vertical-align: middle;\n",
              "    }\n",
              "\n",
              "    .dataframe tbody tr th {\n",
              "        vertical-align: top;\n",
              "    }\n",
              "\n",
              "    .dataframe thead th {\n",
              "        text-align: right;\n",
              "    }\n",
              "</style>\n",
              "<table border=\"1\" class=\"dataframe\">\n",
              "  <thead>\n",
              "    <tr style=\"text-align: right;\">\n",
              "      <th></th>\n",
              "      <th>ano</th>\n",
              "      <th>cod_ibge</th>\n",
              "      <th>pes_rf_ate_meio_sm</th>\n",
              "      <th>pes_insc_cadun</th>\n",
              "      <th>perc_rf_ate_meio_sm</th>\n",
              "    </tr>\n",
              "  </thead>\n",
              "  <tbody>\n",
              "    <tr>\n",
              "      <th>0</th>\n",
              "      <td>2024</td>\n",
              "      <td>35</td>\n",
              "      <td>9329191</td>\n",
              "      <td>14061964</td>\n",
              "      <td>66,3</td>\n",
              "    </tr>\n",
              "    <tr>\n",
              "      <th>1</th>\n",
              "      <td>2023</td>\n",
              "      <td>35</td>\n",
              "      <td>10068823</td>\n",
              "      <td>14831766</td>\n",
              "      <td>67,9</td>\n",
              "    </tr>\n",
              "    <tr>\n",
              "      <th>2</th>\n",
              "      <td>2022</td>\n",
              "      <td>35</td>\n",
              "      <td>11326070</td>\n",
              "      <td>13910888</td>\n",
              "      <td>81,4</td>\n",
              "    </tr>\n",
              "    <tr>\n",
              "      <th>3</th>\n",
              "      <td>2021</td>\n",
              "      <td>35</td>\n",
              "      <td>9596213</td>\n",
              "      <td>11893122</td>\n",
              "      <td>80,7</td>\n",
              "    </tr>\n",
              "    <tr>\n",
              "      <th>4</th>\n",
              "      <td>2020</td>\n",
              "      <td>35</td>\n",
              "      <td>8524275</td>\n",
              "      <td>10685553</td>\n",
              "      <td>79,8</td>\n",
              "    </tr>\n",
              "  </tbody>\n",
              "</table>\n",
              "</div>"
            ],
            "text/plain": [
              "    ano  cod_ibge  pes_rf_ate_meio_sm  pes_insc_cadun perc_rf_ate_meio_sm\n",
              "0  2024        35             9329191        14061964                66,3\n",
              "1  2023        35            10068823        14831766                67,9\n",
              "2  2022        35            11326070        13910888                81,4\n",
              "3  2021        35             9596213        11893122                80,7\n",
              "4  2020        35             8524275        10685553                79,8"
            ]
          },
          "execution_count": 17,
          "metadata": {},
          "output_type": "execute_result"
        }
      ],
      "source": [
        "df4.head()"
      ]
    },
    {
      "cell_type": "code",
      "execution_count": 18,
      "metadata": {
        "colab": {
          "base_uri": "https://localhost:8080/"
        },
        "id": "RrAFJN2IJF4P",
        "outputId": "5577865e-3d03-428d-915e-e1b1fe3fe22d"
      },
      "outputs": [
        {
          "data": {
            "text/plain": [
              "(7752, 5)"
            ]
          },
          "execution_count": 18,
          "metadata": {},
          "output_type": "execute_result"
        }
      ],
      "source": [
        "df4.shape"
      ]
    },
    {
      "cell_type": "code",
      "execution_count": 19,
      "metadata": {
        "colab": {
          "base_uri": "https://localhost:8080/"
        },
        "id": "rj5zyfy7JCOK",
        "outputId": "11a9d69e-cd98-4219-e5a2-445568476727"
      },
      "outputs": [
        {
          "name": "stdout",
          "output_type": "stream",
          "text": [
            "Number of unique IBGE codes in df3: 646\n"
          ]
        }
      ],
      "source": [
        "# Número de Códigos IBGE\n",
        "num_unique_ibge_df4 = df4['cod_ibge'].nunique()\n",
        "print(f\"Number of unique IBGE codes in df3: {num_unique_ibge_df4}\")"
      ]
    },
    {
      "cell_type": "code",
      "execution_count": 20,
      "metadata": {
        "colab": {
          "base_uri": "https://localhost:8080/"
        },
        "id": "H3doBJTkJIPb",
        "outputId": "d1adefcb-c96b-43fc-974e-26691d50952d"
      },
      "outputs": [
        {
          "name": "stdout",
          "output_type": "stream",
          "text": [
            "All unique IBGE codes in df3 have data for the years 2013 to 2024.\n"
          ]
        }
      ],
      "source": [
        "# Define the expected range of years\n",
        "expected_years_range = set(range(2013, 2025)) # Range is exclusive at the end, so 2025 for 2013-2024\n",
        "\n",
        "# Group by cod_ibge and get the unique years for each group\n",
        "years_by_ibge = df4.groupby('cod_ibge')['ano'].unique()\n",
        "\n",
        "# Check if the set of years for each IBGE code matches the expected range\n",
        "all_years_match = (years_by_ibge.apply(lambda x: set(x) == expected_years_range)).all()\n",
        "\n",
        "if all_years_match:\n",
        "    print(\"All unique IBGE codes in df3 have data for the years 2013 to 2024.\")\n",
        "else:\n",
        "    print(\"Not all unique IBGE codes in df3 have data for the years 2013 to 2024.\")\n",
        "    # Optionally, show which codes do not have the expected years\n",
        "    codes_with_different_years = years_by_ibge[years_by_ibge.apply(lambda x: set(x) != expected_years_range)]\n",
        "    print(\"\\nIBGE codes with years outside the 2013-2024 range:\")\n",
        "    display(codes_with_different_years)"
      ]
    },
    {
      "cell_type": "code",
      "execution_count": 21,
      "metadata": {
        "colab": {
          "base_uri": "https://localhost:8080/",
          "height": 35
        },
        "id": "Uoa6dbLlbaPm",
        "outputId": "0bcbce0e-3e5f-4bc6-e479-df5216789e91"
      },
      "outputs": [
        {
          "data": {
            "text/plain": [
              "(5168, 5)"
            ]
          },
          "metadata": {},
          "output_type": "display_data"
        }
      ],
      "source": [
        "# Create df3_restrito by filtering df3 for the specified years\n",
        "df4_restrito = df4[(df4['ano'] == 2013) | (df4['ano'] == 2014) | (df4['ano'] == 2015) | (df4['ano'] == 2016) | (df4['ano'] == 2017) | (df4['ano'] == 2018) | (df4['ano'] == 2019) | (df4['ano'] == 2020)].copy()\n",
        "\n",
        "# Display the shape of df3_restrito\n",
        "display(df4_restrito.shape)"
      ]
    },
    {
      "cell_type": "code",
      "execution_count": 22,
      "metadata": {
        "colab": {
          "base_uri": "https://localhost:8080/",
          "height": 178
        },
        "id": "bl0OiQJCJN8n",
        "outputId": "13db74fe-727d-40ab-d2fe-62622a99f91b"
      },
      "outputs": [
        {
          "data": {
            "text/plain": [
              "ano          0\n",
              "cod_ibge     0\n",
              "n_fam_rua    0\n",
              "dtype: int64"
            ]
          },
          "execution_count": 22,
          "metadata": {},
          "output_type": "execute_result"
        }
      ],
      "source": [
        "df3.isnull().sum()"
      ]
    },
    {
      "cell_type": "code",
      "execution_count": 23,
      "metadata": {
        "colab": {
          "base_uri": "https://localhost:8080/",
          "height": 423
        },
        "id": "g_bysNJsZngh",
        "outputId": "30411bec-b384-48f4-d431-99dd5a19e0bf"
      },
      "outputs": [
        {
          "data": {
            "text/html": [
              "<div>\n",
              "<style scoped>\n",
              "    .dataframe tbody tr th:only-of-type {\n",
              "        vertical-align: middle;\n",
              "    }\n",
              "\n",
              "    .dataframe tbody tr th {\n",
              "        vertical-align: top;\n",
              "    }\n",
              "\n",
              "    .dataframe thead th {\n",
              "        text-align: right;\n",
              "    }\n",
              "</style>\n",
              "<table border=\"1\" class=\"dataframe\">\n",
              "  <thead>\n",
              "    <tr style=\"text-align: right;\">\n",
              "      <th></th>\n",
              "      <th>ano</th>\n",
              "      <th>cod_ibge</th>\n",
              "      <th>pes_rf_ate_meio_sm</th>\n",
              "      <th>pes_insc_cadun</th>\n",
              "      <th>perc_rf_ate_meio_sm</th>\n",
              "    </tr>\n",
              "  </thead>\n",
              "  <tbody>\n",
              "    <tr>\n",
              "      <th>4</th>\n",
              "      <td>2020</td>\n",
              "      <td>35</td>\n",
              "      <td>8524275</td>\n",
              "      <td>10685553</td>\n",
              "      <td>79,8</td>\n",
              "    </tr>\n",
              "    <tr>\n",
              "      <th>5</th>\n",
              "      <td>2019</td>\n",
              "      <td>35</td>\n",
              "      <td>8455169</td>\n",
              "      <td>10859041</td>\n",
              "      <td>77,9</td>\n",
              "    </tr>\n",
              "    <tr>\n",
              "      <th>6</th>\n",
              "      <td>2018</td>\n",
              "      <td>35</td>\n",
              "      <td>8263861</td>\n",
              "      <td>10309786</td>\n",
              "      <td>80,2</td>\n",
              "    </tr>\n",
              "    <tr>\n",
              "      <th>7</th>\n",
              "      <td>2017</td>\n",
              "      <td>35</td>\n",
              "      <td>8839373</td>\n",
              "      <td>10536889</td>\n",
              "      <td>83,9</td>\n",
              "    </tr>\n",
              "    <tr>\n",
              "      <th>8</th>\n",
              "      <td>2016</td>\n",
              "      <td>35</td>\n",
              "      <td>8543383</td>\n",
              "      <td>10460801</td>\n",
              "      <td>81,7</td>\n",
              "    </tr>\n",
              "    <tr>\n",
              "      <th>...</th>\n",
              "      <td>...</td>\n",
              "      <td>...</td>\n",
              "      <td>...</td>\n",
              "      <td>...</td>\n",
              "      <td>...</td>\n",
              "    </tr>\n",
              "    <tr>\n",
              "      <th>7747</th>\n",
              "      <td>2013</td>\n",
              "      <td>3557006</td>\n",
              "      <td>21894</td>\n",
              "      <td>23221</td>\n",
              "      <td>94,3</td>\n",
              "    </tr>\n",
              "    <tr>\n",
              "      <th>7748</th>\n",
              "      <td>2013</td>\n",
              "      <td>3557105</td>\n",
              "      <td>24078</td>\n",
              "      <td>32482</td>\n",
              "      <td>74,1</td>\n",
              "    </tr>\n",
              "    <tr>\n",
              "      <th>7749</th>\n",
              "      <td>2013</td>\n",
              "      <td>3557154</td>\n",
              "      <td>552</td>\n",
              "      <td>687</td>\n",
              "      <td>80,3</td>\n",
              "    </tr>\n",
              "    <tr>\n",
              "      <th>7750</th>\n",
              "      <td>2013</td>\n",
              "      <td>3557204</td>\n",
              "      <td>4379</td>\n",
              "      <td>4943</td>\n",
              "      <td>88,6</td>\n",
              "    </tr>\n",
              "    <tr>\n",
              "      <th>7751</th>\n",
              "      <td>2013</td>\n",
              "      <td>3557303</td>\n",
              "      <td>2601</td>\n",
              "      <td>2744</td>\n",
              "      <td>94,8</td>\n",
              "    </tr>\n",
              "  </tbody>\n",
              "</table>\n",
              "<p>5168 rows × 5 columns</p>\n",
              "</div>"
            ],
            "text/plain": [
              "       ano  cod_ibge  pes_rf_ate_meio_sm  pes_insc_cadun perc_rf_ate_meio_sm\n",
              "4     2020        35             8524275        10685553                79,8\n",
              "5     2019        35             8455169        10859041                77,9\n",
              "6     2018        35             8263861        10309786                80,2\n",
              "7     2017        35             8839373        10536889                83,9\n",
              "8     2016        35             8543383        10460801                81,7\n",
              "...    ...       ...                 ...             ...                 ...\n",
              "7747  2013   3557006               21894           23221                94,3\n",
              "7748  2013   3557105               24078           32482                74,1\n",
              "7749  2013   3557154                 552             687                80,3\n",
              "7750  2013   3557204                4379            4943                88,6\n",
              "7751  2013   3557303                2601            2744                94,8\n",
              "\n",
              "[5168 rows x 5 columns]"
            ]
          },
          "execution_count": 23,
          "metadata": {},
          "output_type": "execute_result"
        }
      ],
      "source": [
        "df4_restrito"
      ]
    },
    {
      "cell_type": "code",
      "execution_count": 24,
      "metadata": {
        "colab": {
          "base_uri": "https://localhost:8080/",
          "height": 423
        },
        "id": "2f7VJ33kZuUa",
        "outputId": "bf5a7341-a49e-4f63-a33f-5e415ad7529d"
      },
      "outputs": [
        {
          "data": {
            "text/html": [
              "<div>\n",
              "<style scoped>\n",
              "    .dataframe tbody tr th:only-of-type {\n",
              "        vertical-align: middle;\n",
              "    }\n",
              "\n",
              "    .dataframe tbody tr th {\n",
              "        vertical-align: top;\n",
              "    }\n",
              "\n",
              "    .dataframe thead th {\n",
              "        text-align: right;\n",
              "    }\n",
              "</style>\n",
              "<table border=\"1\" class=\"dataframe\">\n",
              "  <thead>\n",
              "    <tr style=\"text-align: right;\">\n",
              "      <th></th>\n",
              "      <th>ano</th>\n",
              "      <th>cod_ibge</th>\n",
              "      <th>pes_rf_ate_meio_sm</th>\n",
              "      <th>pes_insc_cadun</th>\n",
              "      <th>perc_rf_ate_meio_sm</th>\n",
              "    </tr>\n",
              "  </thead>\n",
              "  <tbody>\n",
              "    <tr>\n",
              "      <th>2592</th>\n",
              "      <td>2020</td>\n",
              "      <td>3500105</td>\n",
              "      <td>3132</td>\n",
              "      <td>5109</td>\n",
              "      <td>61,3</td>\n",
              "    </tr>\n",
              "    <tr>\n",
              "      <th>2593</th>\n",
              "      <td>2020</td>\n",
              "      <td>3500204</td>\n",
              "      <td>1183</td>\n",
              "      <td>1749</td>\n",
              "      <td>67,6</td>\n",
              "    </tr>\n",
              "    <tr>\n",
              "      <th>2594</th>\n",
              "      <td>2020</td>\n",
              "      <td>3500303</td>\n",
              "      <td>8013</td>\n",
              "      <td>9548</td>\n",
              "      <td>83,9</td>\n",
              "    </tr>\n",
              "    <tr>\n",
              "      <th>2595</th>\n",
              "      <td>2020</td>\n",
              "      <td>3500402</td>\n",
              "      <td>1331</td>\n",
              "      <td>2019</td>\n",
              "      <td>65,9</td>\n",
              "    </tr>\n",
              "    <tr>\n",
              "      <th>2596</th>\n",
              "      <td>2020</td>\n",
              "      <td>3500501</td>\n",
              "      <td>2386</td>\n",
              "      <td>3207</td>\n",
              "      <td>74,4</td>\n",
              "    </tr>\n",
              "    <tr>\n",
              "      <th>...</th>\n",
              "      <td>...</td>\n",
              "      <td>...</td>\n",
              "      <td>...</td>\n",
              "      <td>...</td>\n",
              "      <td>...</td>\n",
              "    </tr>\n",
              "    <tr>\n",
              "      <th>7747</th>\n",
              "      <td>2013</td>\n",
              "      <td>3557006</td>\n",
              "      <td>21894</td>\n",
              "      <td>23221</td>\n",
              "      <td>94,3</td>\n",
              "    </tr>\n",
              "    <tr>\n",
              "      <th>7748</th>\n",
              "      <td>2013</td>\n",
              "      <td>3557105</td>\n",
              "      <td>24078</td>\n",
              "      <td>32482</td>\n",
              "      <td>74,1</td>\n",
              "    </tr>\n",
              "    <tr>\n",
              "      <th>7749</th>\n",
              "      <td>2013</td>\n",
              "      <td>3557154</td>\n",
              "      <td>552</td>\n",
              "      <td>687</td>\n",
              "      <td>80,3</td>\n",
              "    </tr>\n",
              "    <tr>\n",
              "      <th>7750</th>\n",
              "      <td>2013</td>\n",
              "      <td>3557204</td>\n",
              "      <td>4379</td>\n",
              "      <td>4943</td>\n",
              "      <td>88,6</td>\n",
              "    </tr>\n",
              "    <tr>\n",
              "      <th>7751</th>\n",
              "      <td>2013</td>\n",
              "      <td>3557303</td>\n",
              "      <td>2601</td>\n",
              "      <td>2744</td>\n",
              "      <td>94,8</td>\n",
              "    </tr>\n",
              "  </tbody>\n",
              "</table>\n",
              "<p>5160 rows × 5 columns</p>\n",
              "</div>"
            ],
            "text/plain": [
              "       ano  cod_ibge  pes_rf_ate_meio_sm  pes_insc_cadun perc_rf_ate_meio_sm\n",
              "2592  2020   3500105                3132            5109                61,3\n",
              "2593  2020   3500204                1183            1749                67,6\n",
              "2594  2020   3500303                8013            9548                83,9\n",
              "2595  2020   3500402                1331            2019                65,9\n",
              "2596  2020   3500501                2386            3207                74,4\n",
              "...    ...       ...                 ...             ...                 ...\n",
              "7747  2013   3557006               21894           23221                94,3\n",
              "7748  2013   3557105               24078           32482                74,1\n",
              "7749  2013   3557154                 552             687                80,3\n",
              "7750  2013   3557204                4379            4943                88,6\n",
              "7751  2013   3557303                2601            2744                94,8\n",
              "\n",
              "[5160 rows x 5 columns]"
            ]
          },
          "execution_count": 24,
          "metadata": {},
          "output_type": "execute_result"
        }
      ],
      "source": [
        "df4_restrito.query('cod_ibge != 35')"
      ]
    },
    {
      "cell_type": "markdown",
      "metadata": {
        "id": "CvWajWevJPN3"
      },
      "source": []
    },
    {
      "cell_type": "markdown",
      "metadata": {
        "id": "5XnXUYXOKMya"
      },
      "source": [
        "#Dataset CadÚnico #2 (2018+)\n",
        "\n",
        "https://repositorio.seade.gov.br/dataset/transferencia-de-renda-painel"
      ]
    },
    {
      "cell_type": "code",
      "execution_count": 25,
      "metadata": {
        "colab": {
          "base_uri": "https://localhost:8080/"
        },
        "id": "N9JYEDJVKVNC",
        "outputId": "d2d7b7eb-ade0-40ee-e227-780b60f5915e"
      },
      "outputs": [
        {
          "name": "stderr",
          "output_type": "stream",
          "text": [
            "C:\\Users\\marcos\\AppData\\Local\\Temp\\ipykernel_17232\\1435830325.py:1: DtypeWarning: Columns (5,6,8,9,13,15,19,20) have mixed types. Specify dtype option on import or set low_memory=False.\n",
            "  df5 = pd.read_csv(\"bd_cad_pbf.csv\", sep = \";\", encoding='latin-1')\n"
          ]
        }
      ],
      "source": [
        "df5 = pd.read_csv(\"bd_cad_pbf.csv\", sep = \";\", encoding='latin-1')\n",
        "df6 = pd.read_csv(\"br_sp_var.csv\", sep = \";\", encoding='latin-1')\n",
        "df7 = pd.read_csv(\"bd_bpc.csv\", sep = \";\", encoding='latin-1')\n",
        "df8 = pd.read_csv(\"uf.csv\", sep = \";\", encoding='latin-1')"
      ]
    },
    {
      "cell_type": "code",
      "execution_count": 26,
      "metadata": {
        "id": "MlgqkhMIHihb"
      },
      "outputs": [],
      "source": [
        "df5dic = pd.read_csv(\"bd_cad_pbf_dicionario.csv\", sep = \";\", encoding='latin-1')\n",
        "df6dic = pd.read_csv(\"br_sp_var_dicionario.csv\", sep = \";\", encoding='latin-1')\n",
        "df7dic = pd.read_csv(\"bd_bpc_dicionario.csv\", sep = \";\", encoding='latin-1')\n",
        "df8dic = pd.read_csv(\"uf_dicionario.csv\", sep = \";\", encoding='latin-1')"
      ]
    },
    {
      "cell_type": "markdown",
      "metadata": {
        "id": "kWEgflYpFziD"
      },
      "source": [
        "##Cadastro Único - Programa Bolsa Família (PBF) - ESP"
      ]
    },
    {
      "cell_type": "code",
      "execution_count": 27,
      "metadata": {
        "colab": {
          "base_uri": "https://localhost:8080/",
          "height": 395
        },
        "id": "ofon0Z7vLrs9",
        "outputId": "4d74a9fc-8ff1-46c9-b031-36cafd08be08"
      },
      "outputs": [
        {
          "data": {
            "text/html": [
              "<div>\n",
              "<style scoped>\n",
              "    .dataframe tbody tr th:only-of-type {\n",
              "        vertical-align: middle;\n",
              "    }\n",
              "\n",
              "    .dataframe tbody tr th {\n",
              "        vertical-align: top;\n",
              "    }\n",
              "\n",
              "    .dataframe thead th {\n",
              "        text-align: right;\n",
              "    }\n",
              "</style>\n",
              "<table border=\"1\" class=\"dataframe\">\n",
              "  <thead>\n",
              "    <tr style=\"text-align: right;\">\n",
              "      <th></th>\n",
              "      <th>Cod_Mun</th>\n",
              "      <th>Mun</th>\n",
              "      <th>RA</th>\n",
              "      <th>Referência</th>\n",
              "      <th>Pes_PBF</th>\n",
              "      <th>Pes_Cad</th>\n",
              "      <th>Fam_Cad</th>\n",
              "      <th>Fam_PBF</th>\n",
              "      <th>Domic_20</th>\n",
              "      <th>Pop_20</th>\n",
              "      <th>...</th>\n",
              "      <th>MapSeq</th>\n",
              "      <th>F_PBF_EP</th>\n",
              "      <th>F_CAD_EP</th>\n",
              "      <th>Pes_Aux</th>\n",
              "      <th>Fam_Aux</th>\n",
              "      <th>Fam_PBF_Aux</th>\n",
              "      <th>Fam_PBF_2</th>\n",
              "      <th>F_Aux_Domi</th>\n",
              "      <th>Map_Aux</th>\n",
              "      <th>MapSeq_Aux</th>\n",
              "    </tr>\n",
              "  </thead>\n",
              "  <tbody>\n",
              "    <tr>\n",
              "      <th>0</th>\n",
              "      <td>3500105</td>\n",
              "      <td>Adamantina</td>\n",
              "      <td>RA de Presidente Prudente</td>\n",
              "      <td>jan/18</td>\n",
              "      <td>1012.0</td>\n",
              "      <td>5306</td>\n",
              "      <td>1871</td>\n",
              "      <td>291.0</td>\n",
              "      <td>12328</td>\n",
              "      <td>33894</td>\n",
              "      <td>...</td>\n",
              "      <td>4</td>\n",
              "      <td>72</td>\n",
              "      <td>85.0</td>\n",
              "      <td>1012</td>\n",
              "      <td>NaN</td>\n",
              "      <td>291.0</td>\n",
              "      <td>NaN</td>\n",
              "      <td>NaN</td>\n",
              "      <td>NaN</td>\n",
              "      <td>NaN</td>\n",
              "    </tr>\n",
              "    <tr>\n",
              "      <th>1</th>\n",
              "      <td>3500204</td>\n",
              "      <td>Adolfo</td>\n",
              "      <td>RA de São José do Rio Preto</td>\n",
              "      <td>jan/18</td>\n",
              "      <td>552.0</td>\n",
              "      <td>1559</td>\n",
              "      <td>581</td>\n",
              "      <td>175.0</td>\n",
              "      <td>1280</td>\n",
              "      <td>3447</td>\n",
              "      <td>...</td>\n",
              "      <td>3</td>\n",
              "      <td>124</td>\n",
              "      <td>148.0</td>\n",
              "      <td>552</td>\n",
              "      <td>NaN</td>\n",
              "      <td>175.0</td>\n",
              "      <td>NaN</td>\n",
              "      <td>NaN</td>\n",
              "      <td>NaN</td>\n",
              "      <td>NaN</td>\n",
              "    </tr>\n",
              "    <tr>\n",
              "      <th>2</th>\n",
              "      <td>3500303</td>\n",
              "      <td>Aguaí</td>\n",
              "      <td>RA de Campinas</td>\n",
              "      <td>jan/18</td>\n",
              "      <td>5074.0</td>\n",
              "      <td>12637</td>\n",
              "      <td>4213</td>\n",
              "      <td>1402.0</td>\n",
              "      <td>12063</td>\n",
              "      <td>35608</td>\n",
              "      <td>...</td>\n",
              "      <td>3</td>\n",
              "      <td>680</td>\n",
              "      <td>809.0</td>\n",
              "      <td>5074</td>\n",
              "      <td>NaN</td>\n",
              "      <td>1402.0</td>\n",
              "      <td>NaN</td>\n",
              "      <td>NaN</td>\n",
              "      <td>NaN</td>\n",
              "      <td>NaN</td>\n",
              "    </tr>\n",
              "    <tr>\n",
              "      <th>3</th>\n",
              "      <td>3500402</td>\n",
              "      <td>Águas da Prata</td>\n",
              "      <td>RA de Campinas</td>\n",
              "      <td>jan/18</td>\n",
              "      <td>577.0</td>\n",
              "      <td>1749</td>\n",
              "      <td>542</td>\n",
              "      <td>144.0</td>\n",
              "      <td>2780</td>\n",
              "      <td>7797</td>\n",
              "      <td>...</td>\n",
              "      <td>4</td>\n",
              "      <td>85</td>\n",
              "      <td>104.0</td>\n",
              "      <td>577</td>\n",
              "      <td>NaN</td>\n",
              "      <td>144.0</td>\n",
              "      <td>NaN</td>\n",
              "      <td>NaN</td>\n",
              "      <td>NaN</td>\n",
              "      <td>NaN</td>\n",
              "    </tr>\n",
              "    <tr>\n",
              "      <th>4</th>\n",
              "      <td>3500501</td>\n",
              "      <td>Águas de Lindóia</td>\n",
              "      <td>RA de Campinas</td>\n",
              "      <td>jan/18</td>\n",
              "      <td>953.0</td>\n",
              "      <td>2510</td>\n",
              "      <td>868</td>\n",
              "      <td>297.0</td>\n",
              "      <td>6305</td>\n",
              "      <td>18374</td>\n",
              "      <td>...</td>\n",
              "      <td>4</td>\n",
              "      <td>148</td>\n",
              "      <td>186.0</td>\n",
              "      <td>953</td>\n",
              "      <td>NaN</td>\n",
              "      <td>297.0</td>\n",
              "      <td>NaN</td>\n",
              "      <td>NaN</td>\n",
              "      <td>NaN</td>\n",
              "      <td>NaN</td>\n",
              "    </tr>\n",
              "  </tbody>\n",
              "</table>\n",
              "<p>5 rows × 22 columns</p>\n",
              "</div>"
            ],
            "text/plain": [
              "   Cod_Mun               Mun                           RA Referência  Pes_PBF  \\\n",
              "0  3500105        Adamantina    RA de Presidente Prudente     jan/18   1012.0   \n",
              "1  3500204            Adolfo  RA de São José do Rio Preto     jan/18    552.0   \n",
              "2  3500303             Aguaí               RA de Campinas     jan/18   5074.0   \n",
              "3  3500402    Águas da Prata               RA de Campinas     jan/18    577.0   \n",
              "4  3500501  Águas de Lindóia               RA de Campinas     jan/18    953.0   \n",
              "\n",
              "  Pes_Cad Fam_Cad  Fam_PBF Domic_20 Pop_20  ... MapSeq F_PBF_EP  F_CAD_EP  \\\n",
              "0    5306    1871    291.0    12328  33894  ...      4       72      85.0   \n",
              "1    1559     581    175.0     1280   3447  ...      3      124     148.0   \n",
              "2   12637    4213   1402.0    12063  35608  ...      3      680     809.0   \n",
              "3    1749     542    144.0     2780   7797  ...      4       85     104.0   \n",
              "4    2510     868    297.0     6305  18374  ...      4      148     186.0   \n",
              "\n",
              "  Pes_Aux  Fam_Aux Fam_PBF_Aux  Fam_PBF_2  F_Aux_Domi  Map_Aux MapSeq_Aux  \n",
              "0    1012      NaN       291.0        NaN         NaN      NaN        NaN  \n",
              "1     552      NaN       175.0        NaN         NaN      NaN        NaN  \n",
              "2    5074      NaN      1402.0        NaN         NaN      NaN        NaN  \n",
              "3     577      NaN       144.0        NaN         NaN      NaN        NaN  \n",
              "4     953      NaN       297.0        NaN         NaN      NaN        NaN  \n",
              "\n",
              "[5 rows x 22 columns]"
            ]
          },
          "execution_count": 27,
          "metadata": {},
          "output_type": "execute_result"
        }
      ],
      "source": [
        "df5.head()"
      ]
    },
    {
      "cell_type": "code",
      "execution_count": 28,
      "metadata": {
        "colab": {
          "base_uri": "https://localhost:8080/"
        },
        "id": "XG131USwMexA",
        "outputId": "16f3e136-26ef-4a81-a84d-b0fcfc114e47"
      },
      "outputs": [
        {
          "data": {
            "text/plain": [
              "(57405, 22)"
            ]
          },
          "execution_count": 28,
          "metadata": {},
          "output_type": "execute_result"
        }
      ],
      "source": [
        "df5.shape\n"
      ]
    },
    {
      "cell_type": "code",
      "execution_count": 29,
      "metadata": {
        "colab": {
          "base_uri": "https://localhost:8080/",
          "height": 747
        },
        "id": "2TJmq9hqMSMP",
        "outputId": "fdca4b77-b1d5-41bc-cf0e-67237f70efba"
      },
      "outputs": [
        {
          "data": {
            "text/html": [
              "<div>\n",
              "<style scoped>\n",
              "    .dataframe tbody tr th:only-of-type {\n",
              "        vertical-align: middle;\n",
              "    }\n",
              "\n",
              "    .dataframe tbody tr th {\n",
              "        vertical-align: top;\n",
              "    }\n",
              "\n",
              "    .dataframe thead th {\n",
              "        text-align: right;\n",
              "    }\n",
              "</style>\n",
              "<table border=\"1\" class=\"dataframe\">\n",
              "  <thead>\n",
              "    <tr style=\"text-align: right;\">\n",
              "      <th></th>\n",
              "      <th>Variáveis</th>\n",
              "      <th>Nome</th>\n",
              "      <th>Fonte</th>\n",
              "    </tr>\n",
              "  </thead>\n",
              "  <tbody>\n",
              "    <tr>\n",
              "      <th>0</th>\n",
              "      <td>Cod_Mun</td>\n",
              "      <td>Códido do Município</td>\n",
              "      <td>IBGE</td>\n",
              "    </tr>\n",
              "    <tr>\n",
              "      <th>1</th>\n",
              "      <td>Mun</td>\n",
              "      <td>Nome do Município</td>\n",
              "      <td>IBGE</td>\n",
              "    </tr>\n",
              "    <tr>\n",
              "      <th>2</th>\n",
              "      <td>RA</td>\n",
              "      <td>Nome da Região Administrativa</td>\n",
              "      <td>Fundação Seade.</td>\n",
              "    </tr>\n",
              "    <tr>\n",
              "      <th>3</th>\n",
              "      <td>Referência</td>\n",
              "      <td>Data (mês e ano)</td>\n",
              "      <td>Ministério do Desenvolvimento e Assistência So...</td>\n",
              "    </tr>\n",
              "    <tr>\n",
              "      <th>4</th>\n",
              "      <td>Pes_PBF</td>\n",
              "      <td>Número de pessoas beneficiárias do Programa Bo...</td>\n",
              "      <td>Ministério do Desenvolvimento e Assistência So...</td>\n",
              "    </tr>\n",
              "    <tr>\n",
              "      <th>5</th>\n",
              "      <td>Pes_Cad</td>\n",
              "      <td>Número de pessoas inscritas no CadÚnico</td>\n",
              "      <td>Ministério do Desenvolvimento e Assistência So...</td>\n",
              "    </tr>\n",
              "    <tr>\n",
              "      <th>6</th>\n",
              "      <td>Fam_Cad</td>\n",
              "      <td>Número de famílias incritas no CadÚnico</td>\n",
              "      <td>Ministério do Desenvolvimento e Assistência So...</td>\n",
              "    </tr>\n",
              "    <tr>\n",
              "      <th>7</th>\n",
              "      <td>Fam_PBF</td>\n",
              "      <td>Número de famílias beneficiárias do PBF</td>\n",
              "      <td>Ministério do Desenvolvimento e Assistência So...</td>\n",
              "    </tr>\n",
              "    <tr>\n",
              "      <th>8</th>\n",
              "      <td>Domic_20</td>\n",
              "      <td>Número de domicílios</td>\n",
              "      <td>Fundação Seade. Estimativas Populacionais. IBG...</td>\n",
              "    </tr>\n",
              "    <tr>\n",
              "      <th>9</th>\n",
              "      <td>Pop_20</td>\n",
              "      <td>Número de pessoas</td>\n",
              "      <td>Fundação Seade. Estimativas Populacionais. IBG...</td>\n",
              "    </tr>\n",
              "    <tr>\n",
              "      <th>10</th>\n",
              "      <td>F_PBF_Domi</td>\n",
              "      <td>Participação das famílias beneficiárias do PBF...</td>\n",
              "      <td>Fundação Seade.</td>\n",
              "    </tr>\n",
              "    <tr>\n",
              "      <th>11</th>\n",
              "      <td>Map</td>\n",
              "      <td>Legenda do mapas</td>\n",
              "      <td>Fundação Seade.</td>\n",
              "    </tr>\n",
              "    <tr>\n",
              "      <th>12</th>\n",
              "      <td>MapSeq</td>\n",
              "      <td>Sequeência da legenda do mapa</td>\n",
              "      <td>Fundação Seade.</td>\n",
              "    </tr>\n",
              "    <tr>\n",
              "      <th>13</th>\n",
              "      <td>F_PBF_EP</td>\n",
              "      <td>Número de famílias beneficiárias do PBF com re...</td>\n",
              "      <td>Ministério do Desenvolvimento e Assistência So...</td>\n",
              "    </tr>\n",
              "    <tr>\n",
              "      <th>14</th>\n",
              "      <td>F_CAD_EP</td>\n",
              "      <td>Número de famílias inscritas no Cadúnico com r...</td>\n",
              "      <td>Ministério do Desenvolvimento e Assistência So...</td>\n",
              "    </tr>\n",
              "  </tbody>\n",
              "</table>\n",
              "</div>"
            ],
            "text/plain": [
              "     Variáveis                                               Nome  \\\n",
              "0      Cod_Mun                                Códido do Município   \n",
              "1          Mun                                  Nome do Município   \n",
              "2           RA                      Nome da Região Administrativa   \n",
              "3   Referência                                   Data (mês e ano)   \n",
              "4      Pes_PBF  Número de pessoas beneficiárias do Programa Bo...   \n",
              "5      Pes_Cad            Número de pessoas inscritas no CadÚnico   \n",
              "6      Fam_Cad            Número de famílias incritas no CadÚnico   \n",
              "7      Fam_PBF            Número de famílias beneficiárias do PBF   \n",
              "8     Domic_20                               Número de domicílios   \n",
              "9       Pop_20                                  Número de pessoas   \n",
              "10  F_PBF_Domi  Participação das famílias beneficiárias do PBF...   \n",
              "11         Map                                   Legenda do mapas   \n",
              "12      MapSeq                      Sequeência da legenda do mapa   \n",
              "13    F_PBF_EP  Número de famílias beneficiárias do PBF com re...   \n",
              "14    F_CAD_EP  Número de famílias inscritas no Cadúnico com r...   \n",
              "\n",
              "                                                Fonte  \n",
              "0                                                IBGE  \n",
              "1                                                IBGE  \n",
              "2                                     Fundação Seade.  \n",
              "3   Ministério do Desenvolvimento e Assistência So...  \n",
              "4   Ministério do Desenvolvimento e Assistência So...  \n",
              "5   Ministério do Desenvolvimento e Assistência So...  \n",
              "6   Ministério do Desenvolvimento e Assistência So...  \n",
              "7   Ministério do Desenvolvimento e Assistência So...  \n",
              "8   Fundação Seade. Estimativas Populacionais. IBG...  \n",
              "9   Fundação Seade. Estimativas Populacionais. IBG...  \n",
              "10                                    Fundação Seade.  \n",
              "11                                    Fundação Seade.  \n",
              "12                                    Fundação Seade.  \n",
              "13  Ministério do Desenvolvimento e Assistência So...  \n",
              "14  Ministério do Desenvolvimento e Assistência So...  "
            ]
          },
          "execution_count": 29,
          "metadata": {},
          "output_type": "execute_result"
        }
      ],
      "source": [
        "df5dic\n"
      ]
    },
    {
      "cell_type": "code",
      "execution_count": 30,
      "metadata": {
        "colab": {
          "base_uri": "https://localhost:8080/"
        },
        "id": "03DCM80PMjK-",
        "outputId": "868e8bc7-2b87-4274-e12a-aab040d7a107"
      },
      "outputs": [
        {
          "name": "stdout",
          "output_type": "stream",
          "text": [
            "Number of unique Cod_Mun in df5: 645\n"
          ]
        }
      ],
      "source": [
        "num_unique_cod_mun_df5 = df5['Cod_Mun'].nunique()\n",
        "print(f\"Number of unique Cod_Mun in df5: {num_unique_cod_mun_df5}\")"
      ]
    },
    {
      "cell_type": "code",
      "execution_count": 31,
      "metadata": {
        "id": "xw4ozf7oM367"
      },
      "outputs": [],
      "source": [
        "df5[['mes', 'ano']] = df5['Referência'].str.split('/', expand=True)\n"
      ]
    },
    {
      "cell_type": "code",
      "execution_count": 32,
      "metadata": {
        "colab": {
          "base_uri": "https://localhost:8080/"
        },
        "id": "3W65qIJTbOCn",
        "outputId": "4c997856-967a-4b93-ac8a-d950378031d4"
      },
      "outputs": [
        {
          "data": {
            "text/plain": [
              "array(['18', '19', '20', '21', '22', '23', '24', '25'], dtype=object)"
            ]
          },
          "execution_count": 32,
          "metadata": {},
          "output_type": "execute_result"
        }
      ],
      "source": [
        "df5.ano.unique()"
      ]
    },
    {
      "cell_type": "code",
      "execution_count": 33,
      "metadata": {
        "colab": {
          "base_uri": "https://localhost:8080/",
          "height": 686
        },
        "id": "9ngOeNYpbW-K",
        "outputId": "59b48435-b09c-4cd6-fd40-09ea075fc41c"
      },
      "outputs": [
        {
          "data": {
            "text/html": [
              "<div>\n",
              "<style scoped>\n",
              "    .dataframe tbody tr th:only-of-type {\n",
              "        vertical-align: middle;\n",
              "    }\n",
              "\n",
              "    .dataframe tbody tr th {\n",
              "        vertical-align: top;\n",
              "    }\n",
              "\n",
              "    .dataframe thead th {\n",
              "        text-align: right;\n",
              "    }\n",
              "</style>\n",
              "<table border=\"1\" class=\"dataframe\">\n",
              "  <thead>\n",
              "    <tr style=\"text-align: right;\">\n",
              "      <th></th>\n",
              "      <th>Cod_Mun</th>\n",
              "      <th>Mun</th>\n",
              "      <th>RA</th>\n",
              "      <th>Referência</th>\n",
              "      <th>Pes_PBF</th>\n",
              "      <th>Pes_Cad</th>\n",
              "      <th>Fam_Cad</th>\n",
              "      <th>Fam_PBF</th>\n",
              "      <th>Domic_20</th>\n",
              "      <th>Pop_20</th>\n",
              "      <th>...</th>\n",
              "      <th>F_CAD_EP</th>\n",
              "      <th>Pes_Aux</th>\n",
              "      <th>Fam_Aux</th>\n",
              "      <th>Fam_PBF_Aux</th>\n",
              "      <th>Fam_PBF_2</th>\n",
              "      <th>F_Aux_Domi</th>\n",
              "      <th>Map_Aux</th>\n",
              "      <th>MapSeq_Aux</th>\n",
              "      <th>mes</th>\n",
              "      <th>ano</th>\n",
              "    </tr>\n",
              "  </thead>\n",
              "  <tbody>\n",
              "    <tr>\n",
              "      <th>0</th>\n",
              "      <td>3500105</td>\n",
              "      <td>Adamantina</td>\n",
              "      <td>RA de Presidente Prudente</td>\n",
              "      <td>jan/18</td>\n",
              "      <td>1012.0</td>\n",
              "      <td>5306</td>\n",
              "      <td>1871</td>\n",
              "      <td>291.0</td>\n",
              "      <td>12328</td>\n",
              "      <td>33894</td>\n",
              "      <td>...</td>\n",
              "      <td>85.0</td>\n",
              "      <td>1012</td>\n",
              "      <td>NaN</td>\n",
              "      <td>291.0</td>\n",
              "      <td>NaN</td>\n",
              "      <td>NaN</td>\n",
              "      <td>NaN</td>\n",
              "      <td>NaN</td>\n",
              "      <td>jan</td>\n",
              "      <td>18</td>\n",
              "    </tr>\n",
              "    <tr>\n",
              "      <th>1</th>\n",
              "      <td>3500204</td>\n",
              "      <td>Adolfo</td>\n",
              "      <td>RA de São José do Rio Preto</td>\n",
              "      <td>jan/18</td>\n",
              "      <td>552.0</td>\n",
              "      <td>1559</td>\n",
              "      <td>581</td>\n",
              "      <td>175.0</td>\n",
              "      <td>1280</td>\n",
              "      <td>3447</td>\n",
              "      <td>...</td>\n",
              "      <td>148.0</td>\n",
              "      <td>552</td>\n",
              "      <td>NaN</td>\n",
              "      <td>175.0</td>\n",
              "      <td>NaN</td>\n",
              "      <td>NaN</td>\n",
              "      <td>NaN</td>\n",
              "      <td>NaN</td>\n",
              "      <td>jan</td>\n",
              "      <td>18</td>\n",
              "    </tr>\n",
              "    <tr>\n",
              "      <th>2</th>\n",
              "      <td>3500303</td>\n",
              "      <td>Aguaí</td>\n",
              "      <td>RA de Campinas</td>\n",
              "      <td>jan/18</td>\n",
              "      <td>5074.0</td>\n",
              "      <td>12637</td>\n",
              "      <td>4213</td>\n",
              "      <td>1402.0</td>\n",
              "      <td>12063</td>\n",
              "      <td>35608</td>\n",
              "      <td>...</td>\n",
              "      <td>809.0</td>\n",
              "      <td>5074</td>\n",
              "      <td>NaN</td>\n",
              "      <td>1402.0</td>\n",
              "      <td>NaN</td>\n",
              "      <td>NaN</td>\n",
              "      <td>NaN</td>\n",
              "      <td>NaN</td>\n",
              "      <td>jan</td>\n",
              "      <td>18</td>\n",
              "    </tr>\n",
              "    <tr>\n",
              "      <th>3</th>\n",
              "      <td>3500402</td>\n",
              "      <td>Águas da Prata</td>\n",
              "      <td>RA de Campinas</td>\n",
              "      <td>jan/18</td>\n",
              "      <td>577.0</td>\n",
              "      <td>1749</td>\n",
              "      <td>542</td>\n",
              "      <td>144.0</td>\n",
              "      <td>2780</td>\n",
              "      <td>7797</td>\n",
              "      <td>...</td>\n",
              "      <td>104.0</td>\n",
              "      <td>577</td>\n",
              "      <td>NaN</td>\n",
              "      <td>144.0</td>\n",
              "      <td>NaN</td>\n",
              "      <td>NaN</td>\n",
              "      <td>NaN</td>\n",
              "      <td>NaN</td>\n",
              "      <td>jan</td>\n",
              "      <td>18</td>\n",
              "    </tr>\n",
              "    <tr>\n",
              "      <th>4</th>\n",
              "      <td>3500501</td>\n",
              "      <td>Águas de Lindóia</td>\n",
              "      <td>RA de Campinas</td>\n",
              "      <td>jan/18</td>\n",
              "      <td>953.0</td>\n",
              "      <td>2510</td>\n",
              "      <td>868</td>\n",
              "      <td>297.0</td>\n",
              "      <td>6305</td>\n",
              "      <td>18374</td>\n",
              "      <td>...</td>\n",
              "      <td>186.0</td>\n",
              "      <td>953</td>\n",
              "      <td>NaN</td>\n",
              "      <td>297.0</td>\n",
              "      <td>NaN</td>\n",
              "      <td>NaN</td>\n",
              "      <td>NaN</td>\n",
              "      <td>NaN</td>\n",
              "      <td>jan</td>\n",
              "      <td>18</td>\n",
              "    </tr>\n",
              "    <tr>\n",
              "      <th>...</th>\n",
              "      <td>...</td>\n",
              "      <td>...</td>\n",
              "      <td>...</td>\n",
              "      <td>...</td>\n",
              "      <td>...</td>\n",
              "      <td>...</td>\n",
              "      <td>...</td>\n",
              "      <td>...</td>\n",
              "      <td>...</td>\n",
              "      <td>...</td>\n",
              "      <td>...</td>\n",
              "      <td>...</td>\n",
              "      <td>...</td>\n",
              "      <td>...</td>\n",
              "      <td>...</td>\n",
              "      <td>...</td>\n",
              "      <td>...</td>\n",
              "      <td>...</td>\n",
              "      <td>...</td>\n",
              "      <td>...</td>\n",
              "      <td>...</td>\n",
              "    </tr>\n",
              "    <tr>\n",
              "      <th>23215</th>\n",
              "      <td>3557006</td>\n",
              "      <td>Votorantim</td>\n",
              "      <td>RA de Sorocaba</td>\n",
              "      <td>dez/20</td>\n",
              "      <td>10294.0</td>\n",
              "      <td>20361</td>\n",
              "      <td>7163</td>\n",
              "      <td>3412.0</td>\n",
              "      <td>39510</td>\n",
              "      <td>119824</td>\n",
              "      <td>...</td>\n",
              "      <td>3158.0</td>\n",
              "      <td>10294</td>\n",
              "      <td>NaN</td>\n",
              "      <td>3412.0</td>\n",
              "      <td>NaN</td>\n",
              "      <td>NaN</td>\n",
              "      <td>NaN</td>\n",
              "      <td>NaN</td>\n",
              "      <td>dez</td>\n",
              "      <td>20</td>\n",
              "    </tr>\n",
              "    <tr>\n",
              "      <th>23216</th>\n",
              "      <td>3557105</td>\n",
              "      <td>Votuporanga</td>\n",
              "      <td>RA de São José do Rio Preto</td>\n",
              "      <td>dez/20</td>\n",
              "      <td>6709.0</td>\n",
              "      <td>20422</td>\n",
              "      <td>8686</td>\n",
              "      <td>2559.0</td>\n",
              "      <td>34514</td>\n",
              "      <td>91760</td>\n",
              "      <td>...</td>\n",
              "      <td>2683.0</td>\n",
              "      <td>6709</td>\n",
              "      <td>NaN</td>\n",
              "      <td>2559.0</td>\n",
              "      <td>NaN</td>\n",
              "      <td>NaN</td>\n",
              "      <td>NaN</td>\n",
              "      <td>NaN</td>\n",
              "      <td>dez</td>\n",
              "      <td>20</td>\n",
              "    </tr>\n",
              "    <tr>\n",
              "      <th>23217</th>\n",
              "      <td>3557154</td>\n",
              "      <td>Zacarias</td>\n",
              "      <td>RA de São José do Rio Preto</td>\n",
              "      <td>dez/20</td>\n",
              "      <td>272.0</td>\n",
              "      <td>1207</td>\n",
              "      <td>453</td>\n",
              "      <td>84.0</td>\n",
              "      <td>952</td>\n",
              "      <td>2560</td>\n",
              "      <td>...</td>\n",
              "      <td>49.0</td>\n",
              "      <td>272</td>\n",
              "      <td>NaN</td>\n",
              "      <td>84.0</td>\n",
              "      <td>NaN</td>\n",
              "      <td>NaN</td>\n",
              "      <td>NaN</td>\n",
              "      <td>NaN</td>\n",
              "      <td>dez</td>\n",
              "      <td>20</td>\n",
              "    </tr>\n",
              "    <tr>\n",
              "      <th>23218</th>\n",
              "      <td>3557204</td>\n",
              "      <td>Chavantes</td>\n",
              "      <td>RA de Marília</td>\n",
              "      <td>dez/20</td>\n",
              "      <td>2018.0</td>\n",
              "      <td>4012</td>\n",
              "      <td>1442</td>\n",
              "      <td>642.0</td>\n",
              "      <td>4049</td>\n",
              "      <td>12223</td>\n",
              "      <td>...</td>\n",
              "      <td>615.0</td>\n",
              "      <td>2018</td>\n",
              "      <td>NaN</td>\n",
              "      <td>642.0</td>\n",
              "      <td>NaN</td>\n",
              "      <td>NaN</td>\n",
              "      <td>NaN</td>\n",
              "      <td>NaN</td>\n",
              "      <td>dez</td>\n",
              "      <td>20</td>\n",
              "    </tr>\n",
              "    <tr>\n",
              "      <th>23219</th>\n",
              "      <td>3557303</td>\n",
              "      <td>Estiva Gerbi</td>\n",
              "      <td>RA de Campinas</td>\n",
              "      <td>dez/20</td>\n",
              "      <td>958.0</td>\n",
              "      <td>2415</td>\n",
              "      <td>878</td>\n",
              "      <td>333.0</td>\n",
              "      <td>3629</td>\n",
              "      <td>11079</td>\n",
              "      <td>...</td>\n",
              "      <td>344.0</td>\n",
              "      <td>958</td>\n",
              "      <td>NaN</td>\n",
              "      <td>333.0</td>\n",
              "      <td>NaN</td>\n",
              "      <td>NaN</td>\n",
              "      <td>NaN</td>\n",
              "      <td>NaN</td>\n",
              "      <td>dez</td>\n",
              "      <td>20</td>\n",
              "    </tr>\n",
              "  </tbody>\n",
              "</table>\n",
              "<p>23220 rows × 24 columns</p>\n",
              "</div>"
            ],
            "text/plain": [
              "       Cod_Mun               Mun                           RA Referência  \\\n",
              "0      3500105        Adamantina    RA de Presidente Prudente     jan/18   \n",
              "1      3500204            Adolfo  RA de São José do Rio Preto     jan/18   \n",
              "2      3500303             Aguaí               RA de Campinas     jan/18   \n",
              "3      3500402    Águas da Prata               RA de Campinas     jan/18   \n",
              "4      3500501  Águas de Lindóia               RA de Campinas     jan/18   \n",
              "...        ...               ...                          ...        ...   \n",
              "23215  3557006        Votorantim               RA de Sorocaba     dez/20   \n",
              "23216  3557105       Votuporanga  RA de São José do Rio Preto     dez/20   \n",
              "23217  3557154          Zacarias  RA de São José do Rio Preto     dez/20   \n",
              "23218  3557204         Chavantes                RA de Marília     dez/20   \n",
              "23219  3557303      Estiva Gerbi               RA de Campinas     dez/20   \n",
              "\n",
              "       Pes_PBF Pes_Cad Fam_Cad  Fam_PBF Domic_20  Pop_20  ... F_CAD_EP  \\\n",
              "0       1012.0    5306    1871    291.0    12328   33894  ...     85.0   \n",
              "1        552.0    1559     581    175.0     1280    3447  ...    148.0   \n",
              "2       5074.0   12637    4213   1402.0    12063   35608  ...    809.0   \n",
              "3        577.0    1749     542    144.0     2780    7797  ...    104.0   \n",
              "4        953.0    2510     868    297.0     6305   18374  ...    186.0   \n",
              "...        ...     ...     ...      ...      ...     ...  ...      ...   \n",
              "23215  10294.0   20361    7163   3412.0    39510  119824  ...   3158.0   \n",
              "23216   6709.0   20422    8686   2559.0    34514   91760  ...   2683.0   \n",
              "23217    272.0    1207     453     84.0      952    2560  ...     49.0   \n",
              "23218   2018.0    4012    1442    642.0     4049   12223  ...    615.0   \n",
              "23219    958.0    2415     878    333.0     3629   11079  ...    344.0   \n",
              "\n",
              "      Pes_Aux  Fam_Aux Fam_PBF_Aux  Fam_PBF_2 F_Aux_Domi  Map_Aux  MapSeq_Aux  \\\n",
              "0        1012      NaN       291.0        NaN        NaN      NaN         NaN   \n",
              "1         552      NaN       175.0        NaN        NaN      NaN         NaN   \n",
              "2        5074      NaN      1402.0        NaN        NaN      NaN         NaN   \n",
              "3         577      NaN       144.0        NaN        NaN      NaN         NaN   \n",
              "4         953      NaN       297.0        NaN        NaN      NaN         NaN   \n",
              "...       ...      ...         ...        ...        ...      ...         ...   \n",
              "23215   10294      NaN      3412.0        NaN        NaN      NaN         NaN   \n",
              "23216    6709      NaN      2559.0        NaN        NaN      NaN         NaN   \n",
              "23217     272      NaN        84.0        NaN        NaN      NaN         NaN   \n",
              "23218    2018      NaN       642.0        NaN        NaN      NaN         NaN   \n",
              "23219     958      NaN       333.0        NaN        NaN      NaN         NaN   \n",
              "\n",
              "       mes ano  \n",
              "0      jan  18  \n",
              "1      jan  18  \n",
              "2      jan  18  \n",
              "3      jan  18  \n",
              "4      jan  18  \n",
              "...    ...  ..  \n",
              "23215  dez  20  \n",
              "23216  dez  20  \n",
              "23217  dez  20  \n",
              "23218  dez  20  \n",
              "23219  dez  20  \n",
              "\n",
              "[23220 rows x 24 columns]"
            ]
          },
          "execution_count": 33,
          "metadata": {},
          "output_type": "execute_result"
        }
      ],
      "source": [
        "df5[df5['ano'].isin(['18', '19', '20'])]"
      ]
    },
    {
      "cell_type": "code",
      "execution_count": 34,
      "metadata": {
        "colab": {
          "base_uri": "https://localhost:8080/",
          "height": 572
        },
        "id": "WOZZ86n8GE7-",
        "outputId": "927343a0-f61d-45b1-d23f-0df27927bf51"
      },
      "outputs": [],
      "source": [
        "#df5_restrito = df5[df5['ano' == '18' or 'ano' == '19' or 'ano' == '20']]\n",
        "df5_restrito = df5[(df5['ano'] == '18') | (df5['ano'] == '19') | (df5['ano'] == '20')].copy()"
      ]
    },
    {
      "cell_type": "code",
      "execution_count": 35,
      "metadata": {
        "colab": {
          "base_uri": "https://localhost:8080/"
        },
        "id": "cV-OVbOqS46i",
        "outputId": "80a34a67-adfe-4296-9f60-d1b6e6fb908e"
      },
      "outputs": [
        {
          "data": {
            "text/plain": [
              "(23220, 24)"
            ]
          },
          "execution_count": 35,
          "metadata": {},
          "output_type": "execute_result"
        }
      ],
      "source": [
        "df5_restrito.shape"
      ]
    },
    {
      "cell_type": "code",
      "execution_count": 36,
      "metadata": {
        "colab": {
          "base_uri": "https://localhost:8080/",
          "height": 837
        },
        "id": "TiY8GkdDSzPw",
        "outputId": "4c5a474b-8283-486b-c237-22becf3342db"
      },
      "outputs": [
        {
          "data": {
            "text/plain": [
              "Cod_Mun            0\n",
              "Mun                0\n",
              "RA                 0\n",
              "Referência         0\n",
              "Pes_PBF            0\n",
              "Pes_Cad            0\n",
              "Fam_Cad            0\n",
              "Fam_PBF            0\n",
              "Domic_20           0\n",
              "Pop_20             0\n",
              "F_PBF_Domi         0\n",
              "Map                0\n",
              "MapSeq             0\n",
              "F_PBF_EP           0\n",
              "F_CAD_EP           0\n",
              "Pes_Aux            0\n",
              "Fam_Aux        23220\n",
              "Fam_PBF_Aux        0\n",
              "Fam_PBF_2      23220\n",
              "F_Aux_Domi     23220\n",
              "Map_Aux        23220\n",
              "MapSeq_Aux     23220\n",
              "mes                0\n",
              "ano                0\n",
              "dtype: int64"
            ]
          },
          "execution_count": 36,
          "metadata": {},
          "output_type": "execute_result"
        }
      ],
      "source": [
        "df5_restrito.isnull().sum()"
      ]
    },
    {
      "cell_type": "code",
      "execution_count": 37,
      "metadata": {
        "colab": {
          "base_uri": "https://localhost:8080/",
          "height": 837
        },
        "id": "MfasmNSpVo8-",
        "outputId": "16e00895-d38f-4429-efe8-c47da086489a"
      },
      "outputs": [
        {
          "data": {
            "text/plain": [
              "Cod_Mun            0\n",
              "Mun                0\n",
              "RA                 0\n",
              "Referência         0\n",
              "Pes_PBF        27735\n",
              "Pes_Cad            0\n",
              "Fam_Cad            0\n",
              "Fam_PBF        27735\n",
              "Domic_20           0\n",
              "Pop_20             0\n",
              "F_PBF_Domi         0\n",
              "Map                0\n",
              "MapSeq             0\n",
              "F_PBF_EP        1290\n",
              "F_CAD_EP           5\n",
              "Pes_Aux            0\n",
              "Fam_Aux        47085\n",
              "Fam_PBF_Aux        0\n",
              "Fam_PBF_2      39990\n",
              "F_Aux_Domi     39345\n",
              "Map_Aux        39345\n",
              "MapSeq_Aux     39345\n",
              "mes                0\n",
              "ano                0\n",
              "dtype: int64"
            ]
          },
          "execution_count": 37,
          "metadata": {},
          "output_type": "execute_result"
        }
      ],
      "source": [
        " df5.isnull().sum()\n"
      ]
    },
    {
      "cell_type": "markdown",
      "metadata": {
        "id": "Cop2iOJaF9qs"
      },
      "source": [
        "##Cadastro Único - Programa Bolsa Família - Brasil e ESP"
      ]
    },
    {
      "cell_type": "code",
      "execution_count": 38,
      "metadata": {
        "colab": {
          "base_uri": "https://localhost:8080/",
          "height": 331
        },
        "collapsed": true,
        "id": "M06RszX6GUQv",
        "outputId": "7cf31155-ad0d-40bd-f16e-077531b1c5b8"
      },
      "outputs": [
        {
          "data": {
            "text/html": [
              "<div>\n",
              "<style scoped>\n",
              "    .dataframe tbody tr th:only-of-type {\n",
              "        vertical-align: middle;\n",
              "    }\n",
              "\n",
              "    .dataframe tbody tr th {\n",
              "        vertical-align: top;\n",
              "    }\n",
              "\n",
              "    .dataframe thead th {\n",
              "        text-align: right;\n",
              "    }\n",
              "</style>\n",
              "<table border=\"1\" class=\"dataframe\">\n",
              "  <thead>\n",
              "    <tr style=\"text-align: right;\">\n",
              "      <th></th>\n",
              "      <th>Anomes</th>\n",
              "      <th>BR_CAD_F</th>\n",
              "      <th>BR_PBF_F</th>\n",
              "      <th>BR_PBF_FV</th>\n",
              "      <th>SP_CAD_F</th>\n",
              "      <th>SP_PBF_F</th>\n",
              "      <th>SP_PBF_FV</th>\n",
              "      <th>Unnamed: 7</th>\n",
              "      <th>Unnamed: 8</th>\n",
              "      <th>Unnamed: 9</th>\n",
              "    </tr>\n",
              "  </thead>\n",
              "  <tbody>\n",
              "    <tr>\n",
              "      <th>0</th>\n",
              "      <td>2018-01</td>\n",
              "      <td>23.426.757</td>\n",
              "      <td>12.436.457</td>\n",
              "      <td>NaN</td>\n",
              "      <td>3.868.154</td>\n",
              "      <td>1.564.882</td>\n",
              "      <td>NaN</td>\n",
              "      <td>NaN</td>\n",
              "      <td>NaN</td>\n",
              "      <td>NaN</td>\n",
              "    </tr>\n",
              "    <tr>\n",
              "      <th>1</th>\n",
              "      <td>2018-02</td>\n",
              "      <td>23.651.349</td>\n",
              "      <td>12.497.668</td>\n",
              "      <td>0,5</td>\n",
              "      <td>3.915.457</td>\n",
              "      <td>1.583.160</td>\n",
              "      <td>1,2</td>\n",
              "      <td>NaN</td>\n",
              "      <td>NaN</td>\n",
              "      <td>NaN</td>\n",
              "    </tr>\n",
              "    <tr>\n",
              "      <th>2</th>\n",
              "      <td>2018-03</td>\n",
              "      <td>22.913.242</td>\n",
              "      <td>12.564.170</td>\n",
              "      <td>0,5</td>\n",
              "      <td>3.785.046</td>\n",
              "      <td>1.600.868</td>\n",
              "      <td>1,1</td>\n",
              "      <td>NaN</td>\n",
              "      <td>NaN</td>\n",
              "      <td>NaN</td>\n",
              "    </tr>\n",
              "    <tr>\n",
              "      <th>3</th>\n",
              "      <td>2018-04</td>\n",
              "      <td>23.195.047</td>\n",
              "      <td>12.249.285</td>\n",
              "      <td>-2,5</td>\n",
              "      <td>3.842.336</td>\n",
              "      <td>1.523.619</td>\n",
              "      <td>-4,8</td>\n",
              "      <td>NaN</td>\n",
              "      <td>NaN</td>\n",
              "      <td>NaN</td>\n",
              "    </tr>\n",
              "    <tr>\n",
              "      <th>4</th>\n",
              "      <td>2018-05</td>\n",
              "      <td>23.547.867</td>\n",
              "      <td>12.380.654</td>\n",
              "      <td>1,1</td>\n",
              "      <td>3.917.587</td>\n",
              "      <td>1.538.775</td>\n",
              "      <td>1,0</td>\n",
              "      <td>NaN</td>\n",
              "      <td>NaN</td>\n",
              "      <td>NaN</td>\n",
              "    </tr>\n",
              "  </tbody>\n",
              "</table>\n",
              "</div>"
            ],
            "text/plain": [
              "    Anomes    BR_CAD_F    BR_PBF_F BR_PBF_FV   SP_CAD_F   SP_PBF_F SP_PBF_FV  \\\n",
              "0  2018-01  23.426.757  12.436.457       NaN  3.868.154  1.564.882       NaN   \n",
              "1  2018-02  23.651.349  12.497.668       0,5  3.915.457  1.583.160       1,2   \n",
              "2  2018-03  22.913.242  12.564.170       0,5  3.785.046  1.600.868       1,1   \n",
              "3  2018-04  23.195.047  12.249.285      -2,5  3.842.336  1.523.619      -4,8   \n",
              "4  2018-05  23.547.867  12.380.654       1,1  3.917.587  1.538.775       1,0   \n",
              "\n",
              "   Unnamed: 7  Unnamed: 8  Unnamed: 9  \n",
              "0         NaN         NaN         NaN  \n",
              "1         NaN         NaN         NaN  \n",
              "2         NaN         NaN         NaN  \n",
              "3         NaN         NaN         NaN  \n",
              "4         NaN         NaN         NaN  "
            ]
          },
          "execution_count": 38,
          "metadata": {},
          "output_type": "execute_result"
        }
      ],
      "source": [
        "df6.head()"
      ]
    },
    {
      "cell_type": "code",
      "execution_count": 39,
      "metadata": {
        "colab": {
          "base_uri": "https://localhost:8080/",
          "height": 783
        },
        "id": "uV1FgBzQHbLK",
        "outputId": "ed9d8929-ff5a-4351-e148-9f6f40485e0f"
      },
      "outputs": [
        {
          "data": {
            "text/html": [
              "<div>\n",
              "<style scoped>\n",
              "    .dataframe tbody tr th:only-of-type {\n",
              "        vertical-align: middle;\n",
              "    }\n",
              "\n",
              "    .dataframe tbody tr th {\n",
              "        vertical-align: top;\n",
              "    }\n",
              "\n",
              "    .dataframe thead th {\n",
              "        text-align: right;\n",
              "    }\n",
              "</style>\n",
              "<table border=\"1\" class=\"dataframe\">\n",
              "  <thead>\n",
              "    <tr style=\"text-align: right;\">\n",
              "      <th></th>\n",
              "      <th>Variáveis</th>\n",
              "      <th>Nome</th>\n",
              "      <th>Fonte</th>\n",
              "      <th>Nota</th>\n",
              "    </tr>\n",
              "  </thead>\n",
              "  <tbody>\n",
              "    <tr>\n",
              "      <th>0</th>\n",
              "      <td>Anomes</td>\n",
              "      <td>Data (mês e ano)</td>\n",
              "      <td>Ministério do Desenvolvimento e Assistência So...</td>\n",
              "      <td>NaN</td>\n",
              "    </tr>\n",
              "    <tr>\n",
              "      <th>1</th>\n",
              "      <td>BR_CAD_F</td>\n",
              "      <td>Número de famílias inscritas no CadÚnico (Bras...</td>\n",
              "      <td>Ministério do Desenvolvimento e Assistência So...</td>\n",
              "      <td>NaN</td>\n",
              "    </tr>\n",
              "    <tr>\n",
              "      <th>2</th>\n",
              "      <td>BR_PBF_F</td>\n",
              "      <td>Número de famílias beneficiárias do PBF (Brasi...</td>\n",
              "      <td>Ministério do Desenvolvimento e Assistência So...</td>\n",
              "      <td>O Programa Bolsa Família - PBF esteve vigente ...</td>\n",
              "    </tr>\n",
              "    <tr>\n",
              "      <th>3</th>\n",
              "      <td>NaN</td>\n",
              "      <td>NaN</td>\n",
              "      <td>NaN</td>\n",
              "      <td>NaN</td>\n",
              "    </tr>\n",
              "    <tr>\n",
              "      <th>4</th>\n",
              "      <td>BR_PBF_FV</td>\n",
              "      <td>Variação percentual do número de famílias bene...</td>\n",
              "      <td>Fundação Seade.</td>\n",
              "      <td>NaN</td>\n",
              "    </tr>\n",
              "    <tr>\n",
              "      <th>5</th>\n",
              "      <td>SP_CAD_F</td>\n",
              "      <td>Número de famílias inscritas no CadÚnico (Esta...</td>\n",
              "      <td>Ministério do Desenvolvimento e Assistência So...</td>\n",
              "      <td>NaN</td>\n",
              "    </tr>\n",
              "    <tr>\n",
              "      <th>6</th>\n",
              "      <td>SP_PBF_F</td>\n",
              "      <td>Número de famílias beneficiárias do PBF (Estad...</td>\n",
              "      <td>Ministério do Desenvolvimento e Assistência So...</td>\n",
              "      <td>O Programa Bolsa Família - PBF esteve vigente ...</td>\n",
              "    </tr>\n",
              "    <tr>\n",
              "      <th>7</th>\n",
              "      <td>NaN</td>\n",
              "      <td>NaN</td>\n",
              "      <td>NaN</td>\n",
              "      <td>NaN</td>\n",
              "    </tr>\n",
              "    <tr>\n",
              "      <th>8</th>\n",
              "      <td>SP_PBF_FV</td>\n",
              "      <td>Variação percentual do número de famílias bene...</td>\n",
              "      <td>Fundação Seade.</td>\n",
              "      <td>NaN</td>\n",
              "    </tr>\n",
              "  </tbody>\n",
              "</table>\n",
              "</div>"
            ],
            "text/plain": [
              "   Variáveis                                               Nome  \\\n",
              "0     Anomes                                   Data (mês e ano)   \n",
              "1   BR_CAD_F  Número de famílias inscritas no CadÚnico (Bras...   \n",
              "2   BR_PBF_F  Número de famílias beneficiárias do PBF (Brasi...   \n",
              "3        NaN                                                NaN   \n",
              "4  BR_PBF_FV  Variação percentual do número de famílias bene...   \n",
              "5   SP_CAD_F  Número de famílias inscritas no CadÚnico (Esta...   \n",
              "6   SP_PBF_F  Número de famílias beneficiárias do PBF (Estad...   \n",
              "7        NaN                                                NaN   \n",
              "8  SP_PBF_FV  Variação percentual do número de famílias bene...   \n",
              "\n",
              "                                               Fonte  \\\n",
              "0  Ministério do Desenvolvimento e Assistência So...   \n",
              "1  Ministério do Desenvolvimento e Assistência So...   \n",
              "2  Ministério do Desenvolvimento e Assistência So...   \n",
              "3                                                NaN   \n",
              "4                                    Fundação Seade.   \n",
              "5  Ministério do Desenvolvimento e Assistência So...   \n",
              "6  Ministério do Desenvolvimento e Assistência So...   \n",
              "7                                                NaN   \n",
              "8                                    Fundação Seade.   \n",
              "\n",
              "                                                Nota  \n",
              "0                                                NaN  \n",
              "1                                                NaN  \n",
              "2  O Programa Bolsa Família - PBF esteve vigente ...  \n",
              "3                                                NaN  \n",
              "4                                                NaN  \n",
              "5                                                NaN  \n",
              "6  O Programa Bolsa Família - PBF esteve vigente ...  \n",
              "7                                                NaN  \n",
              "8                                                NaN  "
            ]
          },
          "execution_count": 39,
          "metadata": {},
          "output_type": "execute_result"
        }
      ],
      "source": [
        "df6dic"
      ]
    },
    {
      "cell_type": "code",
      "execution_count": 40,
      "metadata": {
        "colab": {
          "base_uri": "https://localhost:8080/",
          "height": 331
        },
        "id": "b289242f",
        "outputId": "a4413928-351f-48dd-f5b4-bd04f463184f"
      },
      "outputs": [
        {
          "data": {
            "text/html": [
              "<div>\n",
              "<style scoped>\n",
              "    .dataframe tbody tr th:only-of-type {\n",
              "        vertical-align: middle;\n",
              "    }\n",
              "\n",
              "    .dataframe tbody tr th {\n",
              "        vertical-align: top;\n",
              "    }\n",
              "\n",
              "    .dataframe thead th {\n",
              "        text-align: right;\n",
              "    }\n",
              "</style>\n",
              "<table border=\"1\" class=\"dataframe\">\n",
              "  <thead>\n",
              "    <tr style=\"text-align: right;\">\n",
              "      <th></th>\n",
              "      <th>Anomes</th>\n",
              "      <th>BR_CAD_F</th>\n",
              "      <th>BR_PBF_F</th>\n",
              "      <th>BR_PBF_FV</th>\n",
              "      <th>SP_CAD_F</th>\n",
              "      <th>SP_PBF_F</th>\n",
              "      <th>SP_PBF_FV</th>\n",
              "      <th>Unnamed: 7</th>\n",
              "      <th>Unnamed: 8</th>\n",
              "      <th>Unnamed: 9</th>\n",
              "      <th>Ano</th>\n",
              "      <th>Mes</th>\n",
              "    </tr>\n",
              "  </thead>\n",
              "  <tbody>\n",
              "    <tr>\n",
              "      <th>0</th>\n",
              "      <td>2018-01</td>\n",
              "      <td>23.426.757</td>\n",
              "      <td>12.436.457</td>\n",
              "      <td>NaN</td>\n",
              "      <td>3.868.154</td>\n",
              "      <td>1.564.882</td>\n",
              "      <td>NaN</td>\n",
              "      <td>NaN</td>\n",
              "      <td>NaN</td>\n",
              "      <td>NaN</td>\n",
              "      <td>2018</td>\n",
              "      <td>01</td>\n",
              "    </tr>\n",
              "    <tr>\n",
              "      <th>1</th>\n",
              "      <td>2018-02</td>\n",
              "      <td>23.651.349</td>\n",
              "      <td>12.497.668</td>\n",
              "      <td>0,5</td>\n",
              "      <td>3.915.457</td>\n",
              "      <td>1.583.160</td>\n",
              "      <td>1,2</td>\n",
              "      <td>NaN</td>\n",
              "      <td>NaN</td>\n",
              "      <td>NaN</td>\n",
              "      <td>2018</td>\n",
              "      <td>02</td>\n",
              "    </tr>\n",
              "    <tr>\n",
              "      <th>2</th>\n",
              "      <td>2018-03</td>\n",
              "      <td>22.913.242</td>\n",
              "      <td>12.564.170</td>\n",
              "      <td>0,5</td>\n",
              "      <td>3.785.046</td>\n",
              "      <td>1.600.868</td>\n",
              "      <td>1,1</td>\n",
              "      <td>NaN</td>\n",
              "      <td>NaN</td>\n",
              "      <td>NaN</td>\n",
              "      <td>2018</td>\n",
              "      <td>03</td>\n",
              "    </tr>\n",
              "    <tr>\n",
              "      <th>3</th>\n",
              "      <td>2018-04</td>\n",
              "      <td>23.195.047</td>\n",
              "      <td>12.249.285</td>\n",
              "      <td>-2,5</td>\n",
              "      <td>3.842.336</td>\n",
              "      <td>1.523.619</td>\n",
              "      <td>-4,8</td>\n",
              "      <td>NaN</td>\n",
              "      <td>NaN</td>\n",
              "      <td>NaN</td>\n",
              "      <td>2018</td>\n",
              "      <td>04</td>\n",
              "    </tr>\n",
              "    <tr>\n",
              "      <th>4</th>\n",
              "      <td>2018-05</td>\n",
              "      <td>23.547.867</td>\n",
              "      <td>12.380.654</td>\n",
              "      <td>1,1</td>\n",
              "      <td>3.917.587</td>\n",
              "      <td>1.538.775</td>\n",
              "      <td>1,0</td>\n",
              "      <td>NaN</td>\n",
              "      <td>NaN</td>\n",
              "      <td>NaN</td>\n",
              "      <td>2018</td>\n",
              "      <td>05</td>\n",
              "    </tr>\n",
              "  </tbody>\n",
              "</table>\n",
              "</div>"
            ],
            "text/plain": [
              "    Anomes    BR_CAD_F    BR_PBF_F BR_PBF_FV   SP_CAD_F   SP_PBF_F SP_PBF_FV  \\\n",
              "0  2018-01  23.426.757  12.436.457       NaN  3.868.154  1.564.882       NaN   \n",
              "1  2018-02  23.651.349  12.497.668       0,5  3.915.457  1.583.160       1,2   \n",
              "2  2018-03  22.913.242  12.564.170       0,5  3.785.046  1.600.868       1,1   \n",
              "3  2018-04  23.195.047  12.249.285      -2,5  3.842.336  1.523.619      -4,8   \n",
              "4  2018-05  23.547.867  12.380.654       1,1  3.917.587  1.538.775       1,0   \n",
              "\n",
              "   Unnamed: 7  Unnamed: 8  Unnamed: 9   Ano Mes  \n",
              "0         NaN         NaN         NaN  2018  01  \n",
              "1         NaN         NaN         NaN  2018  02  \n",
              "2         NaN         NaN         NaN  2018  03  \n",
              "3         NaN         NaN         NaN  2018  04  \n",
              "4         NaN         NaN         NaN  2018  05  "
            ]
          },
          "metadata": {},
          "output_type": "display_data"
        }
      ],
      "source": [
        "df6[['Ano', 'Mes']] = df6['Anomes'].str.split('-', expand=True)\n",
        "display(df6.head())"
      ]
    },
    {
      "cell_type": "code",
      "execution_count": 41,
      "metadata": {
        "colab": {
          "base_uri": "https://localhost:8080/"
        },
        "id": "c1c29469",
        "outputId": "d2372819-2a82-4f17-98f8-64deaca691ae"
      },
      "outputs": [
        {
          "name": "stdout",
          "output_type": "stream",
          "text": [
            "Column 'Unnamed: 7' (index 7) is all NaN: True\n",
            "Column 'Unnamed: 8' (index 8) is all NaN: True\n",
            "Column 'Unnamed: 9' (index 9) is all NaN: True\n"
          ]
        }
      ],
      "source": [
        "for i in range(7, 10):\n",
        "    col_name = df6.columns[i]\n",
        "    is_all_nan = df6[col_name].isnull().all()\n",
        "    print(f\"Column '{col_name}' (index {i}) is all NaN: {is_all_nan}\")"
      ]
    },
    {
      "cell_type": "code",
      "execution_count": 42,
      "metadata": {
        "id": "sDHx8qZgJR4W"
      },
      "outputs": [],
      "source": [
        "colunas_nulas = ['Unnamed: 7', 'Unnamed: 8', 'Unnamed: 9']\n",
        "df6.drop(colunas_nulas, axis=1, inplace=True)\n",
        "df6.drop('Anomes', axis =1, inplace = True)"
      ]
    },
    {
      "cell_type": "code",
      "execution_count": 43,
      "metadata": {
        "colab": {
          "base_uri": "https://localhost:8080/"
        },
        "id": "vURBpeeFGyf0",
        "outputId": "5182edcc-5b67-41ea-ea4f-d188a0e9220c"
      },
      "outputs": [
        {
          "data": {
            "text/plain": [
              "(96, 8)"
            ]
          },
          "execution_count": 43,
          "metadata": {},
          "output_type": "execute_result"
        }
      ],
      "source": [
        "df6.shape"
      ]
    },
    {
      "cell_type": "code",
      "execution_count": 44,
      "metadata": {
        "colab": {
          "base_uri": "https://localhost:8080/",
          "height": 366
        },
        "id": "vcjX8b8JKmPj",
        "outputId": "f7b44f9b-2b16-4814-f72b-70fca52ea3c7"
      },
      "outputs": [
        {
          "data": {
            "text/plain": [
              "Ano\n",
              "2018    12\n",
              "2019    12\n",
              "2020    12\n",
              "2021    12\n",
              "2022    12\n",
              "2023    12\n",
              "2024    12\n",
              "2025     5\n",
              "Name: Mes, dtype: int64"
            ]
          },
          "execution_count": 44,
          "metadata": {},
          "output_type": "execute_result"
        }
      ],
      "source": [
        "meses_por_ano = df6.groupby('Ano')['Mes'].nunique()\n",
        "meses_por_ano"
      ]
    },
    {
      "cell_type": "markdown",
      "metadata": {
        "id": "htUz_KQ2LlbB"
      },
      "source": [
        "Se o shape é (96,7), eu estou esperando 96 instâncias, entretanto, acima só existem 89. Vou tentar descobrir abaico onde estão as restantes."
      ]
    },
    {
      "cell_type": "code",
      "execution_count": 45,
      "metadata": {
        "colab": {
          "base_uri": "https://localhost:8080/",
          "height": 269
        },
        "id": "727d4bf4",
        "outputId": "4acd72c7-5dc9-4fe5-dbce-042aa431bf01"
      },
      "outputs": [
        {
          "data": {
            "text/html": [
              "<div>\n",
              "<style scoped>\n",
              "    .dataframe tbody tr th:only-of-type {\n",
              "        vertical-align: middle;\n",
              "    }\n",
              "\n",
              "    .dataframe tbody tr th {\n",
              "        vertical-align: top;\n",
              "    }\n",
              "\n",
              "    .dataframe thead th {\n",
              "        text-align: right;\n",
              "    }\n",
              "</style>\n",
              "<table border=\"1\" class=\"dataframe\">\n",
              "  <thead>\n",
              "    <tr style=\"text-align: right;\">\n",
              "      <th></th>\n",
              "      <th>BR_CAD_F</th>\n",
              "      <th>BR_PBF_F</th>\n",
              "      <th>BR_PBF_FV</th>\n",
              "      <th>SP_CAD_F</th>\n",
              "      <th>SP_PBF_F</th>\n",
              "      <th>SP_PBF_FV</th>\n",
              "      <th>Ano</th>\n",
              "      <th>Mes</th>\n",
              "    </tr>\n",
              "  </thead>\n",
              "  <tbody>\n",
              "    <tr>\n",
              "      <th>89</th>\n",
              "      <td>NaN</td>\n",
              "      <td>NaN</td>\n",
              "      <td>NaN</td>\n",
              "      <td>NaN</td>\n",
              "      <td>NaN</td>\n",
              "      <td>NaN</td>\n",
              "      <td>NaN</td>\n",
              "      <td>NaN</td>\n",
              "    </tr>\n",
              "    <tr>\n",
              "      <th>90</th>\n",
              "      <td>NaN</td>\n",
              "      <td>NaN</td>\n",
              "      <td>NaN</td>\n",
              "      <td>NaN</td>\n",
              "      <td>NaN</td>\n",
              "      <td>NaN</td>\n",
              "      <td>NaN</td>\n",
              "      <td>NaN</td>\n",
              "    </tr>\n",
              "    <tr>\n",
              "      <th>91</th>\n",
              "      <td>NaN</td>\n",
              "      <td>NaN</td>\n",
              "      <td>NaN</td>\n",
              "      <td>NaN</td>\n",
              "      <td>NaN</td>\n",
              "      <td>NaN</td>\n",
              "      <td>NaN</td>\n",
              "      <td>NaN</td>\n",
              "    </tr>\n",
              "    <tr>\n",
              "      <th>92</th>\n",
              "      <td>NaN</td>\n",
              "      <td>NaN</td>\n",
              "      <td>NaN</td>\n",
              "      <td>NaN</td>\n",
              "      <td>NaN</td>\n",
              "      <td>NaN</td>\n",
              "      <td>NaN</td>\n",
              "      <td>NaN</td>\n",
              "    </tr>\n",
              "    <tr>\n",
              "      <th>93</th>\n",
              "      <td>NaN</td>\n",
              "      <td>NaN</td>\n",
              "      <td>NaN</td>\n",
              "      <td>NaN</td>\n",
              "      <td>NaN</td>\n",
              "      <td>NaN</td>\n",
              "      <td>NaN</td>\n",
              "      <td>NaN</td>\n",
              "    </tr>\n",
              "    <tr>\n",
              "      <th>94</th>\n",
              "      <td>NaN</td>\n",
              "      <td>NaN</td>\n",
              "      <td>NaN</td>\n",
              "      <td>NaN</td>\n",
              "      <td>NaN</td>\n",
              "      <td>NaN</td>\n",
              "      <td>NaN</td>\n",
              "      <td>NaN</td>\n",
              "    </tr>\n",
              "    <tr>\n",
              "      <th>95</th>\n",
              "      <td>NaN</td>\n",
              "      <td>NaN</td>\n",
              "      <td>NaN</td>\n",
              "      <td>NaN</td>\n",
              "      <td>NaN</td>\n",
              "      <td>NaN</td>\n",
              "      <td>NaN</td>\n",
              "      <td>NaN</td>\n",
              "    </tr>\n",
              "  </tbody>\n",
              "</table>\n",
              "</div>"
            ],
            "text/plain": [
              "   BR_CAD_F BR_PBF_F BR_PBF_FV SP_CAD_F SP_PBF_F SP_PBF_FV  Ano  Mes\n",
              "89      NaN      NaN       NaN      NaN      NaN       NaN  NaN  NaN\n",
              "90      NaN      NaN       NaN      NaN      NaN       NaN  NaN  NaN\n",
              "91      NaN      NaN       NaN      NaN      NaN       NaN  NaN  NaN\n",
              "92      NaN      NaN       NaN      NaN      NaN       NaN  NaN  NaN\n",
              "93      NaN      NaN       NaN      NaN      NaN       NaN  NaN  NaN\n",
              "94      NaN      NaN       NaN      NaN      NaN       NaN  NaN  NaN\n",
              "95      NaN      NaN       NaN      NaN      NaN       NaN  NaN  NaN"
            ]
          },
          "metadata": {},
          "output_type": "display_data"
        }
      ],
      "source": [
        "colunas_sem_ano = df6[df6['Ano'].isnull()]\n",
        "display(colunas_sem_ano)\n"
      ]
    },
    {
      "cell_type": "markdown",
      "metadata": {
        "id": "EYCodzRwL48w"
      },
      "source": [
        "Faz sentido que elas estejam aqui para um dia serem preenchidas com os demais dados de 2025? Sim. Faz sentidos que elas estejam aqui para esse projeto? Não mesmo."
      ]
    },
    {
      "cell_type": "code",
      "execution_count": 46,
      "metadata": {
        "colab": {
          "base_uri": "https://localhost:8080/",
          "height": 34
        },
        "id": "3EJYIKq3L4hU",
        "outputId": "fbf4002e-8fc7-4e63-db4a-f2349b4ffd0c"
      },
      "outputs": [
        {
          "data": {
            "text/plain": [
              "(89, 8)"
            ]
          },
          "metadata": {},
          "output_type": "display_data"
        }
      ],
      "source": [
        "df6.dropna(how='all', inplace=True)\n",
        "display(df6.shape)"
      ]
    },
    {
      "cell_type": "code",
      "execution_count": 47,
      "metadata": {
        "colab": {
          "base_uri": "https://localhost:8080/",
          "height": 81
        },
        "id": "21a1bb0d",
        "outputId": "b8a0fc07-089b-4c69-924b-49f04c550884"
      },
      "outputs": [
        {
          "data": {
            "text/html": [
              "<div>\n",
              "<style scoped>\n",
              "    .dataframe tbody tr th:only-of-type {\n",
              "        vertical-align: middle;\n",
              "    }\n",
              "\n",
              "    .dataframe tbody tr th {\n",
              "        vertical-align: top;\n",
              "    }\n",
              "\n",
              "    .dataframe thead th {\n",
              "        text-align: right;\n",
              "    }\n",
              "</style>\n",
              "<table border=\"1\" class=\"dataframe\">\n",
              "  <thead>\n",
              "    <tr style=\"text-align: right;\">\n",
              "      <th></th>\n",
              "      <th>BR_CAD_F</th>\n",
              "      <th>BR_PBF_F</th>\n",
              "      <th>BR_PBF_FV</th>\n",
              "      <th>SP_CAD_F</th>\n",
              "      <th>SP_PBF_F</th>\n",
              "      <th>SP_PBF_FV</th>\n",
              "      <th>Ano</th>\n",
              "      <th>Mes</th>\n",
              "    </tr>\n",
              "  </thead>\n",
              "  <tbody>\n",
              "    <tr>\n",
              "      <th>0</th>\n",
              "      <td>23.426.757</td>\n",
              "      <td>12.436.457</td>\n",
              "      <td>NaN</td>\n",
              "      <td>3.868.154</td>\n",
              "      <td>1.564.882</td>\n",
              "      <td>NaN</td>\n",
              "      <td>2018</td>\n",
              "      <td>01</td>\n",
              "    </tr>\n",
              "  </tbody>\n",
              "</table>\n",
              "</div>"
            ],
            "text/plain": [
              "     BR_CAD_F    BR_PBF_F BR_PBF_FV   SP_CAD_F   SP_PBF_F SP_PBF_FV   Ano Mes\n",
              "0  23.426.757  12.436.457       NaN  3.868.154  1.564.882       NaN  2018  01"
            ]
          },
          "execution_count": 47,
          "metadata": {},
          "output_type": "execute_result"
        }
      ],
      "source": [
        "df6[df6.isnull().any(axis=1)]\n"
      ]
    },
    {
      "cell_type": "markdown",
      "metadata": {
        "id": "hZRdbWPXogsn"
      },
      "source": [
        "Essa linha com NaN é porque o cálculo da variação percentual ao perido anterior, e aqui nao há informação referente a esse período."
      ]
    },
    {
      "cell_type": "markdown",
      "metadata": {
        "id": "lpmjyB6MGKbu"
      },
      "source": [
        "##Benefício de Prestação Continuada (BPC) - ESP"
      ]
    },
    {
      "cell_type": "code",
      "execution_count": 48,
      "metadata": {
        "colab": {
          "base_uri": "https://localhost:8080/",
          "height": 365
        },
        "collapsed": true,
        "id": "XTgALTrHGUjk",
        "outputId": "af1ffcac-2db9-4cc4-ef9a-5519546c74cc"
      },
      "outputs": [
        {
          "data": {
            "text/html": [
              "<div>\n",
              "<style scoped>\n",
              "    .dataframe tbody tr th:only-of-type {\n",
              "        vertical-align: middle;\n",
              "    }\n",
              "\n",
              "    .dataframe tbody tr th {\n",
              "        vertical-align: top;\n",
              "    }\n",
              "\n",
              "    .dataframe thead th {\n",
              "        text-align: right;\n",
              "    }\n",
              "</style>\n",
              "<table border=\"1\" class=\"dataframe\">\n",
              "  <thead>\n",
              "    <tr style=\"text-align: right;\">\n",
              "      <th></th>\n",
              "      <th>Cod_Mun</th>\n",
              "      <th>Mun</th>\n",
              "      <th>RA</th>\n",
              "      <th>Referência</th>\n",
              "      <th>PCD_BPC</th>\n",
              "      <th>Ido_BPC</th>\n",
              "      <th>Bem_BPC</th>\n",
              "      <th>Pop_65_mais</th>\n",
              "      <th>Pop_2020</th>\n",
              "      <th>Ido_BPC_Idoso65%</th>\n",
              "      <th>BPC_Pop%</th>\n",
              "      <th>Map</th>\n",
              "      <th>MapSeq</th>\n",
              "      <th>65_menos_Idoso_BPC</th>\n",
              "      <th>Unnamed: 14</th>\n",
              "    </tr>\n",
              "  </thead>\n",
              "  <tbody>\n",
              "    <tr>\n",
              "      <th>0</th>\n",
              "      <td>3500105</td>\n",
              "      <td>Adamantina</td>\n",
              "      <td>RA de Presidente Prudente</td>\n",
              "      <td>jan/18</td>\n",
              "      <td>384.0</td>\n",
              "      <td>206.0</td>\n",
              "      <td>590</td>\n",
              "      <td>5282</td>\n",
              "      <td>33894</td>\n",
              "      <td>3,9</td>\n",
              "      <td>1,7</td>\n",
              "      <td>1 a 1,9</td>\n",
              "      <td>3</td>\n",
              "      <td>5076.0</td>\n",
              "      <td>NaN</td>\n",
              "    </tr>\n",
              "    <tr>\n",
              "      <th>1</th>\n",
              "      <td>3500204</td>\n",
              "      <td>Adolfo</td>\n",
              "      <td>RA de São José do Rio Preto</td>\n",
              "      <td>jan/18</td>\n",
              "      <td>21.0</td>\n",
              "      <td>19.0</td>\n",
              "      <td>40</td>\n",
              "      <td>521</td>\n",
              "      <td>3447</td>\n",
              "      <td>3,6</td>\n",
              "      <td>1,2</td>\n",
              "      <td>1 a 1,9</td>\n",
              "      <td>3</td>\n",
              "      <td>502.0</td>\n",
              "      <td>NaN</td>\n",
              "    </tr>\n",
              "    <tr>\n",
              "      <th>2</th>\n",
              "      <td>3500303</td>\n",
              "      <td>Aguaí</td>\n",
              "      <td>RA de Campinas</td>\n",
              "      <td>jan/18</td>\n",
              "      <td>337.0</td>\n",
              "      <td>184.0</td>\n",
              "      <td>521</td>\n",
              "      <td>3527</td>\n",
              "      <td>35608</td>\n",
              "      <td>5,2</td>\n",
              "      <td>1,5</td>\n",
              "      <td>1 a 1,9</td>\n",
              "      <td>3</td>\n",
              "      <td>3343.0</td>\n",
              "      <td>NaN</td>\n",
              "    </tr>\n",
              "    <tr>\n",
              "      <th>3</th>\n",
              "      <td>3500402</td>\n",
              "      <td>Águas da Prata</td>\n",
              "      <td>RA de Campinas</td>\n",
              "      <td>jan/18</td>\n",
              "      <td>47.0</td>\n",
              "      <td>79.0</td>\n",
              "      <td>126</td>\n",
              "      <td>1236</td>\n",
              "      <td>7797</td>\n",
              "      <td>6,4</td>\n",
              "      <td>1,6</td>\n",
              "      <td>1 a 1,9</td>\n",
              "      <td>3</td>\n",
              "      <td>1157.0</td>\n",
              "      <td>NaN</td>\n",
              "    </tr>\n",
              "    <tr>\n",
              "      <th>4</th>\n",
              "      <td>3500501</td>\n",
              "      <td>Águas de Lindóia</td>\n",
              "      <td>RA de Campinas</td>\n",
              "      <td>jan/18</td>\n",
              "      <td>161.0</td>\n",
              "      <td>129.0</td>\n",
              "      <td>290</td>\n",
              "      <td>2301</td>\n",
              "      <td>18374</td>\n",
              "      <td>5,6</td>\n",
              "      <td>1,6</td>\n",
              "      <td>1 a 1,9</td>\n",
              "      <td>3</td>\n",
              "      <td>2172.0</td>\n",
              "      <td>NaN</td>\n",
              "    </tr>\n",
              "  </tbody>\n",
              "</table>\n",
              "</div>"
            ],
            "text/plain": [
              "   Cod_Mun               Mun                           RA Referência  PCD_BPC  \\\n",
              "0  3500105        Adamantina    RA de Presidente Prudente     jan/18    384.0   \n",
              "1  3500204            Adolfo  RA de São José do Rio Preto     jan/18     21.0   \n",
              "2  3500303             Aguaí               RA de Campinas     jan/18    337.0   \n",
              "3  3500402    Águas da Prata               RA de Campinas     jan/18     47.0   \n",
              "4  3500501  Águas de Lindóia               RA de Campinas     jan/18    161.0   \n",
              "\n",
              "   Ido_BPC Bem_BPC  Pop_65_mais  Pop_2020 Ido_BPC_Idoso65% BPC_Pop%      Map  \\\n",
              "0    206.0     590         5282     33894              3,9      1,7  1 a 1,9   \n",
              "1     19.0      40          521      3447              3,6      1,2  1 a 1,9   \n",
              "2    184.0     521         3527     35608              5,2      1,5  1 a 1,9   \n",
              "3     79.0     126         1236      7797              6,4      1,6  1 a 1,9   \n",
              "4    129.0     290         2301     18374              5,6      1,6  1 a 1,9   \n",
              "\n",
              "  MapSeq  65_menos_Idoso_BPC  Unnamed: 14  \n",
              "0      3              5076.0          NaN  \n",
              "1      3               502.0          NaN  \n",
              "2      3              3343.0          NaN  \n",
              "3      3              1157.0          NaN  \n",
              "4      3              2172.0          NaN  "
            ]
          },
          "execution_count": 48,
          "metadata": {},
          "output_type": "execute_result"
        }
      ],
      "source": [
        "df7.head()"
      ]
    },
    {
      "cell_type": "code",
      "execution_count": 49,
      "metadata": {
        "colab": {
          "base_uri": "https://localhost:8080/",
          "height": 613
        },
        "collapsed": true,
        "id": "RI2lEFdHPG4B",
        "outputId": "74596c9f-4d67-44b3-cf82-814a0376794c"
      },
      "outputs": [
        {
          "data": {
            "text/html": [
              "<div>\n",
              "<style scoped>\n",
              "    .dataframe tbody tr th:only-of-type {\n",
              "        vertical-align: middle;\n",
              "    }\n",
              "\n",
              "    .dataframe tbody tr th {\n",
              "        vertical-align: top;\n",
              "    }\n",
              "\n",
              "    .dataframe thead th {\n",
              "        text-align: right;\n",
              "    }\n",
              "</style>\n",
              "<table border=\"1\" class=\"dataframe\">\n",
              "  <thead>\n",
              "    <tr style=\"text-align: right;\">\n",
              "      <th></th>\n",
              "      <th>Variáveis</th>\n",
              "      <th>Nome</th>\n",
              "      <th>Fonte</th>\n",
              "    </tr>\n",
              "  </thead>\n",
              "  <tbody>\n",
              "    <tr>\n",
              "      <th>0</th>\n",
              "      <td>Cod_Mun</td>\n",
              "      <td>Códido do Município</td>\n",
              "      <td>IBGE</td>\n",
              "    </tr>\n",
              "    <tr>\n",
              "      <th>1</th>\n",
              "      <td>Mun</td>\n",
              "      <td>Nome do Município</td>\n",
              "      <td>IBGE</td>\n",
              "    </tr>\n",
              "    <tr>\n",
              "      <th>2</th>\n",
              "      <td>RA</td>\n",
              "      <td>Nome da Região Administrativa</td>\n",
              "      <td>Fundação Seade.</td>\n",
              "    </tr>\n",
              "    <tr>\n",
              "      <th>3</th>\n",
              "      <td>Referência</td>\n",
              "      <td>Data (mês e ano)</td>\n",
              "      <td>Ministério do Desenvolvimento e Assistência So...</td>\n",
              "    </tr>\n",
              "    <tr>\n",
              "      <th>4</th>\n",
              "      <td>PCD_BPC</td>\n",
              "      <td>Número de pessoas com decifiência beneficiária...</td>\n",
              "      <td>Ministério do Desenvolvimento e Assistência So...</td>\n",
              "    </tr>\n",
              "    <tr>\n",
              "      <th>5</th>\n",
              "      <td>Ido_BPC</td>\n",
              "      <td>Número de pessoas idosas  beneficiárias do BPC</td>\n",
              "      <td>Ministério do Desenvolvimento e Assistência So...</td>\n",
              "    </tr>\n",
              "    <tr>\n",
              "      <th>6</th>\n",
              "      <td>Bem_BPC</td>\n",
              "      <td>Número de pessoas beneficiárias do BPC</td>\n",
              "      <td>Ministério do Desenvolvimento e Assistência So...</td>\n",
              "    </tr>\n",
              "    <tr>\n",
              "      <th>7</th>\n",
              "      <td>Pop_65_mais</td>\n",
              "      <td>Número de pessoas com 65 anos ou mais</td>\n",
              "      <td>Fundação Seade. Estimativas Populacionais.</td>\n",
              "    </tr>\n",
              "    <tr>\n",
              "      <th>8</th>\n",
              "      <td>Pop_2021</td>\n",
              "      <td>Número de pessoas</td>\n",
              "      <td>Fundação Seade. Estimativas Populacionais.</td>\n",
              "    </tr>\n",
              "    <tr>\n",
              "      <th>9</th>\n",
              "      <td>Ido_BPC_Idoso65%</td>\n",
              "      <td>Participação de pessoas idosas beneficiárias d...</td>\n",
              "      <td>Fundação Seade.</td>\n",
              "    </tr>\n",
              "    <tr>\n",
              "      <th>10</th>\n",
              "      <td>BPC_Pop%</td>\n",
              "      <td>Participação de beneficiários do BPC na população</td>\n",
              "      <td>Fundação Seade.</td>\n",
              "    </tr>\n",
              "    <tr>\n",
              "      <th>11</th>\n",
              "      <td>Map</td>\n",
              "      <td>Legenda do mapa</td>\n",
              "      <td>Fundação Seade.</td>\n",
              "    </tr>\n",
              "    <tr>\n",
              "      <th>12</th>\n",
              "      <td>MapSeq</td>\n",
              "      <td>Sequência da legenda do mapa</td>\n",
              "      <td>Fundação Seade.</td>\n",
              "    </tr>\n",
              "    <tr>\n",
              "      <th>13</th>\n",
              "      <td>65_menos_Idoso_BPC</td>\n",
              "      <td>Pessoas de 65 anos ou mais não beneficiárias d...</td>\n",
              "      <td>Fundação Seade.</td>\n",
              "    </tr>\n",
              "    <tr>\n",
              "      <th>14</th>\n",
              "      <td>NaN</td>\n",
              "      <td>NaN</td>\n",
              "      <td>NaN</td>\n",
              "    </tr>\n",
              "    <tr>\n",
              "      <th>15</th>\n",
              "      <td>NaN</td>\n",
              "      <td>NaN</td>\n",
              "      <td>NaN</td>\n",
              "    </tr>\n",
              "    <tr>\n",
              "      <th>16</th>\n",
              "      <td>NaN</td>\n",
              "      <td>NaN</td>\n",
              "      <td>NaN</td>\n",
              "    </tr>\n",
              "    <tr>\n",
              "      <th>17</th>\n",
              "      <td>NaN</td>\n",
              "      <td>NaN</td>\n",
              "      <td>NaN</td>\n",
              "    </tr>\n",
              "  </tbody>\n",
              "</table>\n",
              "</div>"
            ],
            "text/plain": [
              "             Variáveis                                               Nome  \\\n",
              "0              Cod_Mun                                Códido do Município   \n",
              "1                  Mun                                  Nome do Município   \n",
              "2                   RA                      Nome da Região Administrativa   \n",
              "3           Referência                                   Data (mês e ano)   \n",
              "4              PCD_BPC  Número de pessoas com decifiência beneficiária...   \n",
              "5              Ido_BPC     Número de pessoas idosas  beneficiárias do BPC   \n",
              "6              Bem_BPC             Número de pessoas beneficiárias do BPC   \n",
              "7          Pop_65_mais              Número de pessoas com 65 anos ou mais   \n",
              "8             Pop_2021                                  Número de pessoas   \n",
              "9     Ido_BPC_Idoso65%  Participação de pessoas idosas beneficiárias d...   \n",
              "10            BPC_Pop%  Participação de beneficiários do BPC na população   \n",
              "11                 Map                                    Legenda do mapa   \n",
              "12              MapSeq                       Sequência da legenda do mapa   \n",
              "13  65_menos_Idoso_BPC  Pessoas de 65 anos ou mais não beneficiárias d...   \n",
              "14                 NaN                                                NaN   \n",
              "15                 NaN                                                NaN   \n",
              "16                 NaN                                                NaN   \n",
              "17                 NaN                                                NaN   \n",
              "\n",
              "                                                Fonte  \n",
              "0                                                IBGE  \n",
              "1                                                IBGE  \n",
              "2                                     Fundação Seade.  \n",
              "3   Ministério do Desenvolvimento e Assistência So...  \n",
              "4   Ministério do Desenvolvimento e Assistência So...  \n",
              "5   Ministério do Desenvolvimento e Assistência So...  \n",
              "6   Ministério do Desenvolvimento e Assistência So...  \n",
              "7          Fundação Seade. Estimativas Populacionais.  \n",
              "8          Fundação Seade. Estimativas Populacionais.  \n",
              "9                                     Fundação Seade.  \n",
              "10                                    Fundação Seade.  \n",
              "11                                    Fundação Seade.  \n",
              "12                                    Fundação Seade.  \n",
              "13                                    Fundação Seade.  \n",
              "14                                                NaN  \n",
              "15                                                NaN  \n",
              "16                                                NaN  \n",
              "17                                                NaN  "
            ]
          },
          "execution_count": 49,
          "metadata": {},
          "output_type": "execute_result"
        }
      ],
      "source": [
        "df7dic"
      ]
    },
    {
      "cell_type": "code",
      "execution_count": 50,
      "metadata": {
        "colab": {
          "base_uri": "https://localhost:8080/"
        },
        "id": "8e4970a2",
        "outputId": "f2e44881-a9ac-405b-eba9-4fb6215929d5"
      },
      "outputs": [
        {
          "name": "stdout",
          "output_type": "stream",
          "text": [
            "True\n"
          ]
        }
      ],
      "source": [
        "print(df7.iloc[:, -1].isnull().all())\n"
      ]
    },
    {
      "cell_type": "code",
      "execution_count": 51,
      "metadata": {
        "colab": {
          "base_uri": "https://localhost:8080/",
          "height": 72
        },
        "id": "_V5LJiVyOd03",
        "outputId": "53e89639-521d-4a88-9a35-bdf716f65bea"
      },
      "outputs": [
        {
          "name": "stdout",
          "output_type": "stream",
          "text": [
            "Dropada.\n",
            "Shape\n"
          ]
        },
        {
          "data": {
            "text/plain": [
              "(57405, 14)"
            ]
          },
          "metadata": {},
          "output_type": "display_data"
        }
      ],
      "source": [
        "\n",
        "if df7.iloc[:, -1].isnull().all():\n",
        "    # Drop the last column\n",
        "    df7.drop(df7.columns[-1], axis=1, inplace=True)\n",
        "    print(\"Dropada.\")\n",
        "else:\n",
        "    print(\"Existiam valores. Mais análise é necessária.\")\n",
        "\n",
        "# Display the shape to confirm\n",
        "print(\"Shape\")\n",
        "display(df7.shape)"
      ]
    },
    {
      "cell_type": "code",
      "execution_count": 52,
      "metadata": {
        "id": "4SWh2hJCqzdL"
      },
      "outputs": [],
      "source": [
        "df7[['mes', 'ano']] = df7['Referência'].str.split('/', expand=True)\n"
      ]
    },
    {
      "cell_type": "code",
      "execution_count": null,
      "metadata": {
        "id": "zFzZqNnXaAlb"
      },
      "outputs": [],
      "source": []
    },
    {
      "cell_type": "code",
      "execution_count": 53,
      "metadata": {
        "colab": {
          "base_uri": "https://localhost:8080/",
          "height": 206
        },
        "id": "-2y7DwQvo-mp",
        "outputId": "0d28851a-c91e-477d-8703-f64f059fdbb4"
      },
      "outputs": [
        {
          "data": {
            "text/html": [
              "<div>\n",
              "<style scoped>\n",
              "    .dataframe tbody tr th:only-of-type {\n",
              "        vertical-align: middle;\n",
              "    }\n",
              "\n",
              "    .dataframe tbody tr th {\n",
              "        vertical-align: top;\n",
              "    }\n",
              "\n",
              "    .dataframe thead th {\n",
              "        text-align: right;\n",
              "    }\n",
              "</style>\n",
              "<table border=\"1\" class=\"dataframe\">\n",
              "  <thead>\n",
              "    <tr style=\"text-align: right;\">\n",
              "      <th></th>\n",
              "      <th>Cod_Mun</th>\n",
              "      <th>Mun</th>\n",
              "    </tr>\n",
              "  </thead>\n",
              "  <tbody>\n",
              "    <tr>\n",
              "      <th>0</th>\n",
              "      <td>3500105</td>\n",
              "      <td>Adamantina</td>\n",
              "    </tr>\n",
              "    <tr>\n",
              "      <th>1</th>\n",
              "      <td>3500204</td>\n",
              "      <td>Adolfo</td>\n",
              "    </tr>\n",
              "    <tr>\n",
              "      <th>2</th>\n",
              "      <td>3500303</td>\n",
              "      <td>Aguaí</td>\n",
              "    </tr>\n",
              "    <tr>\n",
              "      <th>3</th>\n",
              "      <td>3500402</td>\n",
              "      <td>Águas Da Prata</td>\n",
              "    </tr>\n",
              "    <tr>\n",
              "      <th>4</th>\n",
              "      <td>3500501</td>\n",
              "      <td>Águas De Lindóia</td>\n",
              "    </tr>\n",
              "  </tbody>\n",
              "</table>\n",
              "</div>"
            ],
            "text/plain": [
              "   Cod_Mun               Mun\n",
              "0  3500105        Adamantina\n",
              "1  3500204            Adolfo\n",
              "2  3500303             Aguaí\n",
              "3  3500402    Águas Da Prata\n",
              "4  3500501  Águas De Lindóia"
            ]
          },
          "metadata": {},
          "output_type": "display_data"
        }
      ],
      "source": [
        "df7['Mun'] = df7['Mun'].str.title()\n",
        "display(df7[['Cod_Mun', 'Mun']].head())"
      ]
    },
    {
      "cell_type": "code",
      "execution_count": 54,
      "metadata": {
        "colab": {
          "base_uri": "https://localhost:8080/",
          "height": 396
        },
        "id": "OOWEHLd0o_Hs",
        "outputId": "ef573794-25d2-4aa6-91d6-26477c45008f"
      },
      "outputs": [
        {
          "data": {
            "text/html": [
              "<div>\n",
              "<style scoped>\n",
              "    .dataframe tbody tr th:only-of-type {\n",
              "        vertical-align: middle;\n",
              "    }\n",
              "\n",
              "    .dataframe tbody tr th {\n",
              "        vertical-align: top;\n",
              "    }\n",
              "\n",
              "    .dataframe thead th {\n",
              "        text-align: right;\n",
              "    }\n",
              "</style>\n",
              "<table border=\"1\" class=\"dataframe\">\n",
              "  <thead>\n",
              "    <tr style=\"text-align: right;\">\n",
              "      <th></th>\n",
              "      <th>Cod_Mun</th>\n",
              "      <th>Mun</th>\n",
              "      <th>RA</th>\n",
              "      <th>Referência</th>\n",
              "      <th>PCD_BPC</th>\n",
              "      <th>Ido_BPC</th>\n",
              "      <th>Bem_BPC</th>\n",
              "      <th>Pop_65_mais</th>\n",
              "      <th>Pop_2020</th>\n",
              "      <th>Ido_BPC_Idoso65%</th>\n",
              "      <th>BPC_Pop%</th>\n",
              "      <th>Map</th>\n",
              "      <th>MapSeq</th>\n",
              "      <th>65_menos_Idoso_BPC</th>\n",
              "      <th>mes</th>\n",
              "      <th>ano</th>\n",
              "    </tr>\n",
              "  </thead>\n",
              "  <tbody>\n",
              "    <tr>\n",
              "      <th>51036</th>\n",
              "      <td>3507209</td>\n",
              "      <td>Borá</td>\n",
              "      <td>RA de Marília</td>\n",
              "      <td>ago/24</td>\n",
              "      <td>NaN</td>\n",
              "      <td>NaN</td>\n",
              "      <td>NaN</td>\n",
              "      <td>93</td>\n",
              "      <td>810</td>\n",
              "      <td>NaN</td>\n",
              "      <td>NaN</td>\n",
              "      <td>NaN</td>\n",
              "      <td>NaN</td>\n",
              "      <td>NaN</td>\n",
              "      <td>ago</td>\n",
              "      <td>24</td>\n",
              "    </tr>\n",
              "    <tr>\n",
              "      <th>51057</th>\n",
              "      <td>3509106</td>\n",
              "      <td>Caiuá</td>\n",
              "      <td>RA de Presidente Prudente</td>\n",
              "      <td>ago/24</td>\n",
              "      <td>NaN</td>\n",
              "      <td>NaN</td>\n",
              "      <td>NaN</td>\n",
              "      <td>760</td>\n",
              "      <td>5729</td>\n",
              "      <td>NaN</td>\n",
              "      <td>NaN</td>\n",
              "      <td>NaN</td>\n",
              "      <td>NaN</td>\n",
              "      <td>NaN</td>\n",
              "      <td>ago</td>\n",
              "      <td>24</td>\n",
              "    </tr>\n",
              "    <tr>\n",
              "      <th>51424</th>\n",
              "      <td>3541802</td>\n",
              "      <td>Queiroz</td>\n",
              "      <td>RA de Marília</td>\n",
              "      <td>ago/24</td>\n",
              "      <td>NaN</td>\n",
              "      <td>NaN</td>\n",
              "      <td>NaN</td>\n",
              "      <td>308</td>\n",
              "      <td>3400</td>\n",
              "      <td>NaN</td>\n",
              "      <td>NaN</td>\n",
              "      <td>NaN</td>\n",
              "      <td>NaN</td>\n",
              "      <td>NaN</td>\n",
              "      <td>ago</td>\n",
              "      <td>24</td>\n",
              "    </tr>\n",
              "    <tr>\n",
              "      <th>51433</th>\n",
              "      <td>3542701</td>\n",
              "      <td>Restinga</td>\n",
              "      <td>RA de Franca</td>\n",
              "      <td>ago/24</td>\n",
              "      <td>NaN</td>\n",
              "      <td>NaN</td>\n",
              "      <td>NaN</td>\n",
              "      <td>702</td>\n",
              "      <td>7740</td>\n",
              "      <td>0,00</td>\n",
              "      <td>NaN</td>\n",
              "      <td>NaN</td>\n",
              "      <td>NaN</td>\n",
              "      <td>702.0</td>\n",
              "      <td>ago</td>\n",
              "      <td>24</td>\n",
              "    </tr>\n",
              "    <tr>\n",
              "      <th>51444</th>\n",
              "      <td>3543600</td>\n",
              "      <td>Rifaina</td>\n",
              "      <td>RA de Franca</td>\n",
              "      <td>ago/24</td>\n",
              "      <td>NaN</td>\n",
              "      <td>NaN</td>\n",
              "      <td>NaN</td>\n",
              "      <td>509</td>\n",
              "      <td>3474</td>\n",
              "      <td>NaN</td>\n",
              "      <td>NaN</td>\n",
              "      <td>NaN</td>\n",
              "      <td>NaN</td>\n",
              "      <td>NaN</td>\n",
              "      <td>ago</td>\n",
              "      <td>24</td>\n",
              "    </tr>\n",
              "    <tr>\n",
              "      <th>51579</th>\n",
              "      <td>3555703</td>\n",
              "      <td>União Paulista</td>\n",
              "      <td>RA de São José do Rio Preto</td>\n",
              "      <td>ago/24</td>\n",
              "      <td>NaN</td>\n",
              "      <td>NaN</td>\n",
              "      <td>NaN</td>\n",
              "      <td>215</td>\n",
              "      <td>1775</td>\n",
              "      <td>NaN</td>\n",
              "      <td>NaN</td>\n",
              "      <td>NaN</td>\n",
              "      <td>NaN</td>\n",
              "      <td>NaN</td>\n",
              "      <td>ago</td>\n",
              "      <td>24</td>\n",
              "    </tr>\n",
              "  </tbody>\n",
              "</table>\n",
              "</div>"
            ],
            "text/plain": [
              "       Cod_Mun             Mun                           RA Referência  \\\n",
              "51036  3507209            Borá                RA de Marília     ago/24   \n",
              "51057  3509106           Caiuá    RA de Presidente Prudente     ago/24   \n",
              "51424  3541802         Queiroz                RA de Marília     ago/24   \n",
              "51433  3542701        Restinga                 RA de Franca     ago/24   \n",
              "51444  3543600         Rifaina                 RA de Franca     ago/24   \n",
              "51579  3555703  União Paulista  RA de São José do Rio Preto     ago/24   \n",
              "\n",
              "       PCD_BPC  Ido_BPC Bem_BPC  Pop_65_mais  Pop_2020 Ido_BPC_Idoso65%  \\\n",
              "51036      NaN      NaN     NaN           93       810              NaN   \n",
              "51057      NaN      NaN     NaN          760      5729              NaN   \n",
              "51424      NaN      NaN     NaN          308      3400              NaN   \n",
              "51433      NaN      NaN     NaN          702      7740             0,00   \n",
              "51444      NaN      NaN     NaN          509      3474              NaN   \n",
              "51579      NaN      NaN     NaN          215      1775              NaN   \n",
              "\n",
              "      BPC_Pop%  Map MapSeq  65_menos_Idoso_BPC  mes ano  \n",
              "51036      NaN  NaN    NaN                 NaN  ago  24  \n",
              "51057      NaN  NaN    NaN                 NaN  ago  24  \n",
              "51424      NaN  NaN    NaN                 NaN  ago  24  \n",
              "51433      NaN  NaN    NaN               702.0  ago  24  \n",
              "51444      NaN  NaN    NaN                 NaN  ago  24  \n",
              "51579      NaN  NaN    NaN                 NaN  ago  24  "
            ]
          },
          "execution_count": 54,
          "metadata": {},
          "output_type": "execute_result"
        }
      ],
      "source": [
        "df7[df7.isnull().any(axis=1)]\n"
      ]
    },
    {
      "cell_type": "code",
      "execution_count": 55,
      "metadata": {
        "colab": {
          "base_uri": "https://localhost:8080/"
        },
        "id": "8kWZv6wvAlSp",
        "outputId": "bcfe81e5-41fb-441f-bad0-7b7e0394753b"
      },
      "outputs": [
        {
          "data": {
            "text/html": [
              "<div>\n",
              "<style scoped>\n",
              "    .dataframe tbody tr th:only-of-type {\n",
              "        vertical-align: middle;\n",
              "    }\n",
              "\n",
              "    .dataframe tbody tr th {\n",
              "        vertical-align: top;\n",
              "    }\n",
              "\n",
              "    .dataframe thead th {\n",
              "        text-align: right;\n",
              "    }\n",
              "</style>\n",
              "<table border=\"1\" class=\"dataframe\">\n",
              "  <thead>\n",
              "    <tr style=\"text-align: right;\">\n",
              "      <th></th>\n",
              "      <th>Cod_Mun</th>\n",
              "      <th>Mun</th>\n",
              "      <th>RA</th>\n",
              "      <th>Referência</th>\n",
              "      <th>PCD_BPC</th>\n",
              "      <th>Ido_BPC</th>\n",
              "      <th>Bem_BPC</th>\n",
              "      <th>Pop_65_mais</th>\n",
              "      <th>Pop_2020</th>\n",
              "      <th>Ido_BPC_Idoso65%</th>\n",
              "      <th>BPC_Pop%</th>\n",
              "      <th>Map</th>\n",
              "      <th>MapSeq</th>\n",
              "      <th>65_menos_Idoso_BPC</th>\n",
              "      <th>mes</th>\n",
              "      <th>ano</th>\n",
              "    </tr>\n",
              "  </thead>\n",
              "  <tbody>\n",
              "    <tr>\n",
              "      <th>0</th>\n",
              "      <td>3500105</td>\n",
              "      <td>Adamantina</td>\n",
              "      <td>RA de Presidente Prudente</td>\n",
              "      <td>jan/18</td>\n",
              "      <td>384.0</td>\n",
              "      <td>206.0</td>\n",
              "      <td>590</td>\n",
              "      <td>5282</td>\n",
              "      <td>33894</td>\n",
              "      <td>3,9</td>\n",
              "      <td>1,7</td>\n",
              "      <td>1 a 1,9</td>\n",
              "      <td>3</td>\n",
              "      <td>5076.0</td>\n",
              "      <td>jan</td>\n",
              "      <td>18</td>\n",
              "    </tr>\n",
              "    <tr>\n",
              "      <th>1</th>\n",
              "      <td>3500204</td>\n",
              "      <td>Adolfo</td>\n",
              "      <td>RA de São José do Rio Preto</td>\n",
              "      <td>jan/18</td>\n",
              "      <td>21.0</td>\n",
              "      <td>19.0</td>\n",
              "      <td>40</td>\n",
              "      <td>521</td>\n",
              "      <td>3447</td>\n",
              "      <td>3,6</td>\n",
              "      <td>1,2</td>\n",
              "      <td>1 a 1,9</td>\n",
              "      <td>3</td>\n",
              "      <td>502.0</td>\n",
              "      <td>jan</td>\n",
              "      <td>18</td>\n",
              "    </tr>\n",
              "    <tr>\n",
              "      <th>2</th>\n",
              "      <td>3500303</td>\n",
              "      <td>Aguaí</td>\n",
              "      <td>RA de Campinas</td>\n",
              "      <td>jan/18</td>\n",
              "      <td>337.0</td>\n",
              "      <td>184.0</td>\n",
              "      <td>521</td>\n",
              "      <td>3527</td>\n",
              "      <td>35608</td>\n",
              "      <td>5,2</td>\n",
              "      <td>1,5</td>\n",
              "      <td>1 a 1,9</td>\n",
              "      <td>3</td>\n",
              "      <td>3343.0</td>\n",
              "      <td>jan</td>\n",
              "      <td>18</td>\n",
              "    </tr>\n",
              "    <tr>\n",
              "      <th>3</th>\n",
              "      <td>3500402</td>\n",
              "      <td>Águas Da Prata</td>\n",
              "      <td>RA de Campinas</td>\n",
              "      <td>jan/18</td>\n",
              "      <td>47.0</td>\n",
              "      <td>79.0</td>\n",
              "      <td>126</td>\n",
              "      <td>1236</td>\n",
              "      <td>7797</td>\n",
              "      <td>6,4</td>\n",
              "      <td>1,6</td>\n",
              "      <td>1 a 1,9</td>\n",
              "      <td>3</td>\n",
              "      <td>1157.0</td>\n",
              "      <td>jan</td>\n",
              "      <td>18</td>\n",
              "    </tr>\n",
              "    <tr>\n",
              "      <th>4</th>\n",
              "      <td>3500501</td>\n",
              "      <td>Águas De Lindóia</td>\n",
              "      <td>RA de Campinas</td>\n",
              "      <td>jan/18</td>\n",
              "      <td>161.0</td>\n",
              "      <td>129.0</td>\n",
              "      <td>290</td>\n",
              "      <td>2301</td>\n",
              "      <td>18374</td>\n",
              "      <td>5,6</td>\n",
              "      <td>1,6</td>\n",
              "      <td>1 a 1,9</td>\n",
              "      <td>3</td>\n",
              "      <td>2172.0</td>\n",
              "      <td>jan</td>\n",
              "      <td>18</td>\n",
              "    </tr>\n",
              "    <tr>\n",
              "      <th>...</th>\n",
              "      <td>...</td>\n",
              "      <td>...</td>\n",
              "      <td>...</td>\n",
              "      <td>...</td>\n",
              "      <td>...</td>\n",
              "      <td>...</td>\n",
              "      <td>...</td>\n",
              "      <td>...</td>\n",
              "      <td>...</td>\n",
              "      <td>...</td>\n",
              "      <td>...</td>\n",
              "      <td>...</td>\n",
              "      <td>...</td>\n",
              "      <td>...</td>\n",
              "      <td>...</td>\n",
              "      <td>...</td>\n",
              "    </tr>\n",
              "    <tr>\n",
              "      <th>57400</th>\n",
              "      <td>3557006</td>\n",
              "      <td>Votorantim</td>\n",
              "      <td>RA de Sorocaba</td>\n",
              "      <td>mai/25</td>\n",
              "      <td>825.0</td>\n",
              "      <td>809.0</td>\n",
              "      <td>1634</td>\n",
              "      <td>12340</td>\n",
              "      <td>122356</td>\n",
              "      <td>6,56</td>\n",
              "      <td>1,34</td>\n",
              "      <td>1 a 1,9</td>\n",
              "      <td>3</td>\n",
              "      <td>11531.0</td>\n",
              "      <td>mai</td>\n",
              "      <td>25</td>\n",
              "    </tr>\n",
              "    <tr>\n",
              "      <th>57401</th>\n",
              "      <td>3557105</td>\n",
              "      <td>Votuporanga</td>\n",
              "      <td>RA de São José do Rio Preto</td>\n",
              "      <td>mai/25</td>\n",
              "      <td>1679.0</td>\n",
              "      <td>1151.0</td>\n",
              "      <td>2830</td>\n",
              "      <td>13230</td>\n",
              "      <td>93066</td>\n",
              "      <td>8,70</td>\n",
              "      <td>3,04</td>\n",
              "      <td>3 e mais</td>\n",
              "      <td>1</td>\n",
              "      <td>12079.0</td>\n",
              "      <td>mai</td>\n",
              "      <td>25</td>\n",
              "    </tr>\n",
              "    <tr>\n",
              "      <th>57402</th>\n",
              "      <td>3557154</td>\n",
              "      <td>Zacarias</td>\n",
              "      <td>RA de São José do Rio Preto</td>\n",
              "      <td>mai/25</td>\n",
              "      <td>19.0</td>\n",
              "      <td>5.0</td>\n",
              "      <td>24</td>\n",
              "      <td>373</td>\n",
              "      <td>2602</td>\n",
              "      <td>1,34</td>\n",
              "      <td>0,92</td>\n",
              "      <td>0 a 0,9</td>\n",
              "      <td>4</td>\n",
              "      <td>368.0</td>\n",
              "      <td>mai</td>\n",
              "      <td>25</td>\n",
              "    </tr>\n",
              "    <tr>\n",
              "      <th>57403</th>\n",
              "      <td>3557204</td>\n",
              "      <td>Chavantes</td>\n",
              "      <td>RA de Marília</td>\n",
              "      <td>mai/25</td>\n",
              "      <td>186.0</td>\n",
              "      <td>111.0</td>\n",
              "      <td>297</td>\n",
              "      <td>1591</td>\n",
              "      <td>12241</td>\n",
              "      <td>6,98</td>\n",
              "      <td>2,43</td>\n",
              "      <td>2 a 2,9</td>\n",
              "      <td>2</td>\n",
              "      <td>1480.0</td>\n",
              "      <td>mai</td>\n",
              "      <td>25</td>\n",
              "    </tr>\n",
              "    <tr>\n",
              "      <th>57404</th>\n",
              "      <td>3557303</td>\n",
              "      <td>Estiva Gerbi</td>\n",
              "      <td>RA de Campinas</td>\n",
              "      <td>mai/25</td>\n",
              "      <td>98.0</td>\n",
              "      <td>88.0</td>\n",
              "      <td>186</td>\n",
              "      <td>1220</td>\n",
              "      <td>11313</td>\n",
              "      <td>7,21</td>\n",
              "      <td>1,64</td>\n",
              "      <td>1 a 1,9</td>\n",
              "      <td>3</td>\n",
              "      <td>1132.0</td>\n",
              "      <td>mai</td>\n",
              "      <td>25</td>\n",
              "    </tr>\n",
              "  </tbody>\n",
              "</table>\n",
              "<p>57405 rows × 16 columns</p>\n",
              "</div>"
            ],
            "text/plain": [
              "       Cod_Mun               Mun                           RA Referência  \\\n",
              "0      3500105        Adamantina    RA de Presidente Prudente     jan/18   \n",
              "1      3500204            Adolfo  RA de São José do Rio Preto     jan/18   \n",
              "2      3500303             Aguaí               RA de Campinas     jan/18   \n",
              "3      3500402    Águas Da Prata               RA de Campinas     jan/18   \n",
              "4      3500501  Águas De Lindóia               RA de Campinas     jan/18   \n",
              "...        ...               ...                          ...        ...   \n",
              "57400  3557006        Votorantim               RA de Sorocaba     mai/25   \n",
              "57401  3557105       Votuporanga  RA de São José do Rio Preto     mai/25   \n",
              "57402  3557154          Zacarias  RA de São José do Rio Preto     mai/25   \n",
              "57403  3557204         Chavantes                RA de Marília     mai/25   \n",
              "57404  3557303      Estiva Gerbi               RA de Campinas     mai/25   \n",
              "\n",
              "       PCD_BPC  Ido_BPC Bem_BPC  Pop_65_mais  Pop_2020 Ido_BPC_Idoso65%  \\\n",
              "0        384.0    206.0     590         5282     33894              3,9   \n",
              "1         21.0     19.0      40          521      3447              3,6   \n",
              "2        337.0    184.0     521         3527     35608              5,2   \n",
              "3         47.0     79.0     126         1236      7797              6,4   \n",
              "4        161.0    129.0     290         2301     18374              5,6   \n",
              "...        ...      ...     ...          ...       ...              ...   \n",
              "57400    825.0    809.0    1634        12340    122356             6,56   \n",
              "57401   1679.0   1151.0    2830        13230     93066             8,70   \n",
              "57402     19.0      5.0      24          373      2602             1,34   \n",
              "57403    186.0    111.0     297         1591     12241             6,98   \n",
              "57404     98.0     88.0     186         1220     11313             7,21   \n",
              "\n",
              "      BPC_Pop%       Map MapSeq  65_menos_Idoso_BPC  mes ano  \n",
              "0          1,7   1 a 1,9      3              5076.0  jan  18  \n",
              "1          1,2   1 a 1,9      3               502.0  jan  18  \n",
              "2          1,5   1 a 1,9      3              3343.0  jan  18  \n",
              "3          1,6   1 a 1,9      3              1157.0  jan  18  \n",
              "4          1,6   1 a 1,9      3              2172.0  jan  18  \n",
              "...        ...       ...    ...                 ...  ...  ..  \n",
              "57400     1,34   1 a 1,9      3             11531.0  mai  25  \n",
              "57401     3,04  3 e mais      1             12079.0  mai  25  \n",
              "57402     0,92   0 a 0,9      4               368.0  mai  25  \n",
              "57403     2,43   2 a 2,9      2              1480.0  mai  25  \n",
              "57404     1,64   1 a 1,9      3              1132.0  mai  25  \n",
              "\n",
              "[57405 rows x 16 columns]"
            ]
          },
          "execution_count": 55,
          "metadata": {},
          "output_type": "execute_result"
        }
      ],
      "source": [
        "df7"
      ]
    },
    {
      "cell_type": "code",
      "execution_count": 56,
      "metadata": {
        "colab": {
          "base_uri": "https://localhost:8080/",
          "height": 219
        },
        "id": "m6xPgAPzaTjb",
        "outputId": "d81ba750-d0a8-41f8-a8a4-2df3d209ad51"
      },
      "outputs": [
        {
          "data": {
            "text/plain": [
              "(23220, 16)"
            ]
          },
          "metadata": {},
          "output_type": "display_data"
        }
      ],
      "source": [
        "# Create df7_restrito by filtering df7 for years '20', '19', or '18'\n",
        "df7_restrito = df7[(df7['ano'] == '20') | (df7['ano'] == '19') | (df7['ano'] == '18')].copy()\n",
        "\n",
        "# Display the shape of df7_restrito\n",
        "display(df7_restrito.shape)"
      ]
    },
    {
      "cell_type": "code",
      "execution_count": 57,
      "metadata": {
        "colab": {
          "base_uri": "https://localhost:8080/",
          "height": 1000
        },
        "id": "BVjLnIUr1RtQ",
        "outputId": "7d2f7288-81b3-4678-d808-44379d68c167"
      },
      "outputs": [
        {
          "data": {
            "image/png": "[encoded data removed]",
            "text/plain": [
              "<Figure size 1200x600 with 1 Axes>"
            ]
          },
          "metadata": {},
          "output_type": "display_data"
        },
        {
          "data": {
            "image/png": "[encoded data removed]",
            "text/plain": [
              "<Figure size 1200x600 with 1 Axes>"
            ]
          },
          "metadata": {},
          "output_type": "display_data"
        },
        {
          "data": {
            "image/png": "[encoded data removed]",
            "text/plain": [
              "<Figure size 1200x600 with 1 Axes>"
            ]
          },
          "metadata": {},
          "output_type": "display_data"
        },
        {
          "data": {
            "image/png": "[encoded data removed]",
            "text/plain": [
              "<Figure size 1200x600 with 1 Axes>"
            ]
          },
          "metadata": {},
          "output_type": "display_data"
        },
        {
          "data": {
            "image/png": "[encoded data removed]",
            "text/plain": [
              "<Figure size 1200x600 with 1 Axes>"
            ]
          },
          "metadata": {},
          "output_type": "display_data"
        },
        {
          "data": {
            "image/png": "[encoded data removed]",
            "text/plain": [
              "<Figure size 1200x600 with 1 Axes>"
            ]
          },
          "metadata": {},
          "output_type": "display_data"
        },
        {
          "data": {
            "image/png": "[encoded data removed]",
            "text/plain": [
              "<Figure size 1200x600 with 1 Axes>"
            ]
          },
          "metadata": {},
          "output_type": "display_data"
        },
        {
          "data": {
            "image/png": "[encoded data removed]",
            "text/plain": [
              "<Figure size 1200x600 with 1 Axes>"
            ]
          },
          "metadata": {},
          "output_type": "display_data"
        }
      ],
      "source": [
        "\n",
        "mun_with_nulls_2024 = df7[df7.isnull().any(axis=1) & (df7['ano'] == '24')]\n",
        "mun_codes_with_nulls = mun_with_nulls_2024['Cod_Mun'].unique()\n",
        "\n",
        "\n",
        "# Define the specific columns to plot\n",
        "cols_to_plot = ['PCD_BPC', 'Ido_BPC', 'Bem_BPC', 'Ido_BPC_Idoso65%', 'BPC_Pop%', 'Map', 'MapSeq', '65_menos_Idoso_BPC']\n",
        "\n",
        "# 2. Filter Data for Plotting\n",
        "df7_plotting_data = df7[(df7['Cod_Mun'].isin(mun_codes_with_nulls)) & (df7['ano'] == '24')].copy()\n",
        "\n",
        "# 3. Data Preparation for Plotting\n",
        "# Ensure 'mes' is string type before mapping\n",
        "df7_plotting_data['mes'] = df7_plotting_data['mes'].astype(str)\n",
        "month_map = {'jan': 1, 'fev': 2, 'mar': 3, 'abr': 4, 'mai': 5, 'jun': 6,\n",
        "             'jul': 7, 'ago': 8, 'set': 9, 'out': 10, 'nov': 11, 'dez': 12}\n",
        "df7_plotting_data['month_num'] = df7_plotting_data['mes'].map(month_map)\n",
        "df7_plotting_data['date'] = pd.to_datetime('20' + df7_plotting_data['ano'].astype(str) + '-' + df7_plotting_data['month_num'].astype(str))\n",
        "\n",
        "# Sort by date for correct plotting order\n",
        "df7_plotting_data.sort_values(by=['Cod_Mun', 'date'], inplace=True)\n",
        "\n",
        "# 4. Iterate and Plot through specified columns\n",
        "for col in cols_to_plot:\n",
        "    # Attempt to convert the column to numeric, coercing errors\n",
        "    # Some columns might not be numeric, handle potential errors or skip\n",
        "    try:\n",
        "        df7_plotting_data[col] = pd.to_numeric(df7_plotting_data[col], errors='coerce')\n",
        "\n",
        "        plt.figure(figsize=(12, 6))\n",
        "        sns.lineplot(data=df7_plotting_data, x='date', y=col, hue='Mun')\n",
        "\n",
        "        # 5. Refine Plot\n",
        "        plt.title(f'{col} in Municipalities with Nulls in 2024')\n",
        "        plt.xlabel('Date')\n",
        "        plt.ylabel(col)\n",
        "        plt.xticks(rotation=45)\n",
        "        plt.tight_layout()\n",
        "\n",
        "        # 6. Finish task (display each plot)\n",
        "        plt.show()\n",
        "    except Exception as e:\n",
        "        print(f\"Could not plot column {col} due to error: {e}\")\n",
        "        pass # Continue to the next column if plotting fails"
      ]
    },
    {
      "cell_type": "markdown",
      "metadata": {
        "id": "_jKOvwsppSQf"
      },
      "source": [
        "Vários municípios tiveram aparentes falhas nos cadastros no mês de agosto de 2024. Como lidar? 1-> Tomar a média da RA para o periodo? 2-> Analisar os valores dos meses anteriores e seguintes dos municipios defeituosos?"
      ]
    },
    {
      "cell_type": "code",
      "execution_count": 58,
      "metadata": {
        "colab": {
          "base_uri": "https://localhost:8080/",
          "height": 878
        },
        "id": "pnWJoTsrjvtI",
        "outputId": "d81b10b0-4cc5-4184-f8d8-b49cc87b40de"
      },
      "outputs": [
        {
          "data": {
            "text/html": [
              "<div>\n",
              "<style scoped>\n",
              "    .dataframe tbody tr th:only-of-type {\n",
              "        vertical-align: middle;\n",
              "    }\n",
              "\n",
              "    .dataframe tbody tr th {\n",
              "        vertical-align: top;\n",
              "    }\n",
              "\n",
              "    .dataframe thead th {\n",
              "        text-align: right;\n",
              "    }\n",
              "</style>\n",
              "<table border=\"1\" class=\"dataframe\">\n",
              "  <thead>\n",
              "    <tr style=\"text-align: right;\">\n",
              "      <th></th>\n",
              "      <th>Cod_Mun</th>\n",
              "      <th>Mun</th>\n",
              "      <th>RA</th>\n",
              "      <th>Referência</th>\n",
              "      <th>PCD_BPC</th>\n",
              "      <th>Ido_BPC</th>\n",
              "      <th>Bem_BPC</th>\n",
              "      <th>Pop_65_mais</th>\n",
              "      <th>Pop_2020</th>\n",
              "      <th>Ido_BPC_Idoso65%</th>\n",
              "      <th>BPC_Pop%</th>\n",
              "      <th>Map</th>\n",
              "      <th>MapSeq</th>\n",
              "      <th>65_menos_Idoso_BPC</th>\n",
              "      <th>mes</th>\n",
              "      <th>ano</th>\n",
              "      <th>month_num</th>\n",
              "      <th>date</th>\n",
              "    </tr>\n",
              "  </thead>\n",
              "  <tbody>\n",
              "    <tr>\n",
              "      <th>46521</th>\n",
              "      <td>3507209</td>\n",
              "      <td>Borá</td>\n",
              "      <td>RA de Marília</td>\n",
              "      <td>jan/24</td>\n",
              "      <td>10.0</td>\n",
              "      <td>4.0</td>\n",
              "      <td>14.0</td>\n",
              "      <td>93</td>\n",
              "      <td>810</td>\n",
              "      <td>NaN</td>\n",
              "      <td>NaN</td>\n",
              "      <td>NaN</td>\n",
              "      <td>3.0</td>\n",
              "      <td>89.0</td>\n",
              "      <td>jan</td>\n",
              "      <td>24</td>\n",
              "      <td>1</td>\n",
              "      <td>2024-01-01</td>\n",
              "    </tr>\n",
              "    <tr>\n",
              "      <th>47166</th>\n",
              "      <td>3507209</td>\n",
              "      <td>Borá</td>\n",
              "      <td>RA de Marília</td>\n",
              "      <td>fev/24</td>\n",
              "      <td>10.0</td>\n",
              "      <td>5.0</td>\n",
              "      <td>15.0</td>\n",
              "      <td>93</td>\n",
              "      <td>810</td>\n",
              "      <td>NaN</td>\n",
              "      <td>NaN</td>\n",
              "      <td>NaN</td>\n",
              "      <td>3.0</td>\n",
              "      <td>88.0</td>\n",
              "      <td>fev</td>\n",
              "      <td>24</td>\n",
              "      <td>2</td>\n",
              "      <td>2024-02-01</td>\n",
              "    </tr>\n",
              "    <tr>\n",
              "      <th>47811</th>\n",
              "      <td>3507209</td>\n",
              "      <td>Borá</td>\n",
              "      <td>RA de Marília</td>\n",
              "      <td>mar/24</td>\n",
              "      <td>10.0</td>\n",
              "      <td>4.0</td>\n",
              "      <td>14.0</td>\n",
              "      <td>93</td>\n",
              "      <td>810</td>\n",
              "      <td>NaN</td>\n",
              "      <td>NaN</td>\n",
              "      <td>NaN</td>\n",
              "      <td>3.0</td>\n",
              "      <td>89.0</td>\n",
              "      <td>mar</td>\n",
              "      <td>24</td>\n",
              "      <td>3</td>\n",
              "      <td>2024-03-01</td>\n",
              "    </tr>\n",
              "    <tr>\n",
              "      <th>48456</th>\n",
              "      <td>3507209</td>\n",
              "      <td>Borá</td>\n",
              "      <td>RA de Marília</td>\n",
              "      <td>abr/24</td>\n",
              "      <td>12.0</td>\n",
              "      <td>4.0</td>\n",
              "      <td>16.0</td>\n",
              "      <td>93</td>\n",
              "      <td>810</td>\n",
              "      <td>NaN</td>\n",
              "      <td>NaN</td>\n",
              "      <td>NaN</td>\n",
              "      <td>3.0</td>\n",
              "      <td>89.0</td>\n",
              "      <td>abr</td>\n",
              "      <td>24</td>\n",
              "      <td>4</td>\n",
              "      <td>2024-04-01</td>\n",
              "    </tr>\n",
              "    <tr>\n",
              "      <th>49101</th>\n",
              "      <td>3507209</td>\n",
              "      <td>Borá</td>\n",
              "      <td>RA de Marília</td>\n",
              "      <td>mai/24</td>\n",
              "      <td>12.0</td>\n",
              "      <td>4.0</td>\n",
              "      <td>16.0</td>\n",
              "      <td>93</td>\n",
              "      <td>810</td>\n",
              "      <td>NaN</td>\n",
              "      <td>NaN</td>\n",
              "      <td>NaN</td>\n",
              "      <td>3.0</td>\n",
              "      <td>89.0</td>\n",
              "      <td>mai</td>\n",
              "      <td>24</td>\n",
              "      <td>5</td>\n",
              "      <td>2024-05-01</td>\n",
              "    </tr>\n",
              "    <tr>\n",
              "      <th>...</th>\n",
              "      <td>...</td>\n",
              "      <td>...</td>\n",
              "      <td>...</td>\n",
              "      <td>...</td>\n",
              "      <td>...</td>\n",
              "      <td>...</td>\n",
              "      <td>...</td>\n",
              "      <td>...</td>\n",
              "      <td>...</td>\n",
              "      <td>...</td>\n",
              "      <td>...</td>\n",
              "      <td>...</td>\n",
              "      <td>...</td>\n",
              "      <td>...</td>\n",
              "      <td>...</td>\n",
              "      <td>...</td>\n",
              "      <td>...</td>\n",
              "      <td>...</td>\n",
              "    </tr>\n",
              "    <tr>\n",
              "      <th>51579</th>\n",
              "      <td>3555703</td>\n",
              "      <td>União Paulista</td>\n",
              "      <td>RA de São José do Rio Preto</td>\n",
              "      <td>ago/24</td>\n",
              "      <td>NaN</td>\n",
              "      <td>NaN</td>\n",
              "      <td>NaN</td>\n",
              "      <td>215</td>\n",
              "      <td>1775</td>\n",
              "      <td>NaN</td>\n",
              "      <td>NaN</td>\n",
              "      <td>NaN</td>\n",
              "      <td>NaN</td>\n",
              "      <td>NaN</td>\n",
              "      <td>ago</td>\n",
              "      <td>24</td>\n",
              "      <td>8</td>\n",
              "      <td>2024-08-01</td>\n",
              "    </tr>\n",
              "    <tr>\n",
              "      <th>52224</th>\n",
              "      <td>3555703</td>\n",
              "      <td>União Paulista</td>\n",
              "      <td>RA de São José do Rio Preto</td>\n",
              "      <td>set/24</td>\n",
              "      <td>5.0</td>\n",
              "      <td>2.0</td>\n",
              "      <td>7.0</td>\n",
              "      <td>215</td>\n",
              "      <td>1775</td>\n",
              "      <td>NaN</td>\n",
              "      <td>NaN</td>\n",
              "      <td>NaN</td>\n",
              "      <td>4.0</td>\n",
              "      <td>213.0</td>\n",
              "      <td>set</td>\n",
              "      <td>24</td>\n",
              "      <td>9</td>\n",
              "      <td>2024-09-01</td>\n",
              "    </tr>\n",
              "    <tr>\n",
              "      <th>52869</th>\n",
              "      <td>3555703</td>\n",
              "      <td>União Paulista</td>\n",
              "      <td>RA de São José do Rio Preto</td>\n",
              "      <td>out/24</td>\n",
              "      <td>6.0</td>\n",
              "      <td>2.0</td>\n",
              "      <td>8.0</td>\n",
              "      <td>215</td>\n",
              "      <td>1775</td>\n",
              "      <td>NaN</td>\n",
              "      <td>NaN</td>\n",
              "      <td>NaN</td>\n",
              "      <td>4.0</td>\n",
              "      <td>213.0</td>\n",
              "      <td>out</td>\n",
              "      <td>24</td>\n",
              "      <td>10</td>\n",
              "      <td>2024-10-01</td>\n",
              "    </tr>\n",
              "    <tr>\n",
              "      <th>53514</th>\n",
              "      <td>3555703</td>\n",
              "      <td>União Paulista</td>\n",
              "      <td>RA de São José do Rio Preto</td>\n",
              "      <td>nov/24</td>\n",
              "      <td>6.0</td>\n",
              "      <td>2.0</td>\n",
              "      <td>8.0</td>\n",
              "      <td>215</td>\n",
              "      <td>1775</td>\n",
              "      <td>NaN</td>\n",
              "      <td>NaN</td>\n",
              "      <td>NaN</td>\n",
              "      <td>4.0</td>\n",
              "      <td>213.0</td>\n",
              "      <td>nov</td>\n",
              "      <td>24</td>\n",
              "      <td>11</td>\n",
              "      <td>2024-11-01</td>\n",
              "    </tr>\n",
              "    <tr>\n",
              "      <th>54159</th>\n",
              "      <td>3555703</td>\n",
              "      <td>União Paulista</td>\n",
              "      <td>RA de São José do Rio Preto</td>\n",
              "      <td>dez/24</td>\n",
              "      <td>6.0</td>\n",
              "      <td>2.0</td>\n",
              "      <td>8.0</td>\n",
              "      <td>215</td>\n",
              "      <td>1775</td>\n",
              "      <td>NaN</td>\n",
              "      <td>NaN</td>\n",
              "      <td>NaN</td>\n",
              "      <td>4.0</td>\n",
              "      <td>213.0</td>\n",
              "      <td>dez</td>\n",
              "      <td>24</td>\n",
              "      <td>12</td>\n",
              "      <td>2024-12-01</td>\n",
              "    </tr>\n",
              "  </tbody>\n",
              "</table>\n",
              "<p>72 rows × 18 columns</p>\n",
              "</div>"
            ],
            "text/plain": [
              "       Cod_Mun             Mun                           RA Referência  \\\n",
              "46521  3507209            Borá                RA de Marília     jan/24   \n",
              "47166  3507209            Borá                RA de Marília     fev/24   \n",
              "47811  3507209            Borá                RA de Marília     mar/24   \n",
              "48456  3507209            Borá                RA de Marília     abr/24   \n",
              "49101  3507209            Borá                RA de Marília     mai/24   \n",
              "...        ...             ...                          ...        ...   \n",
              "51579  3555703  União Paulista  RA de São José do Rio Preto     ago/24   \n",
              "52224  3555703  União Paulista  RA de São José do Rio Preto     set/24   \n",
              "52869  3555703  União Paulista  RA de São José do Rio Preto     out/24   \n",
              "53514  3555703  União Paulista  RA de São José do Rio Preto     nov/24   \n",
              "54159  3555703  União Paulista  RA de São José do Rio Preto     dez/24   \n",
              "\n",
              "       PCD_BPC  Ido_BPC  Bem_BPC  Pop_65_mais  Pop_2020  Ido_BPC_Idoso65%  \\\n",
              "46521     10.0      4.0     14.0           93       810               NaN   \n",
              "47166     10.0      5.0     15.0           93       810               NaN   \n",
              "47811     10.0      4.0     14.0           93       810               NaN   \n",
              "48456     12.0      4.0     16.0           93       810               NaN   \n",
              "49101     12.0      4.0     16.0           93       810               NaN   \n",
              "...        ...      ...      ...          ...       ...               ...   \n",
              "51579      NaN      NaN      NaN          215      1775               NaN   \n",
              "52224      5.0      2.0      7.0          215      1775               NaN   \n",
              "52869      6.0      2.0      8.0          215      1775               NaN   \n",
              "53514      6.0      2.0      8.0          215      1775               NaN   \n",
              "54159      6.0      2.0      8.0          215      1775               NaN   \n",
              "\n",
              "       BPC_Pop%  Map  MapSeq  65_menos_Idoso_BPC  mes ano  month_num  \\\n",
              "46521       NaN  NaN     3.0                89.0  jan  24          1   \n",
              "47166       NaN  NaN     3.0                88.0  fev  24          2   \n",
              "47811       NaN  NaN     3.0                89.0  mar  24          3   \n",
              "48456       NaN  NaN     3.0                89.0  abr  24          4   \n",
              "49101       NaN  NaN     3.0                89.0  mai  24          5   \n",
              "...         ...  ...     ...                 ...  ...  ..        ...   \n",
              "51579       NaN  NaN     NaN                 NaN  ago  24          8   \n",
              "52224       NaN  NaN     4.0               213.0  set  24          9   \n",
              "52869       NaN  NaN     4.0               213.0  out  24         10   \n",
              "53514       NaN  NaN     4.0               213.0  nov  24         11   \n",
              "54159       NaN  NaN     4.0               213.0  dez  24         12   \n",
              "\n",
              "            date  \n",
              "46521 2024-01-01  \n",
              "47166 2024-02-01  \n",
              "47811 2024-03-01  \n",
              "48456 2024-04-01  \n",
              "49101 2024-05-01  \n",
              "...          ...  \n",
              "51579 2024-08-01  \n",
              "52224 2024-09-01  \n",
              "52869 2024-10-01  \n",
              "53514 2024-11-01  \n",
              "54159 2024-12-01  \n",
              "\n",
              "[72 rows x 18 columns]"
            ]
          },
          "execution_count": 58,
          "metadata": {},
          "output_type": "execute_result"
        }
      ],
      "source": [
        "df7_plotting_data"
      ]
    },
    {
      "cell_type": "code",
      "execution_count": null,
      "metadata": {
        "cellView": "form",
        "colab": {
          "base_uri": "https://localhost:8080/",
          "height": 321
        },
        "id": "_UszL8vNA0hR",
        "outputId": "e1cb9feb-7de5-4c4f-ffa2-962dbe5b5494"
      },
      "outputs": [],
      "source": []
    },
    {
      "cell_type": "markdown",
      "metadata": {
        "id": "ghZrxhM0GOxg"
      },
      "source": [
        "##Cadastro Único por Unidade da Federação"
      ]
    },
    {
      "cell_type": "code",
      "execution_count": 59,
      "metadata": {
        "colab": {
          "base_uri": "https://localhost:8080/",
          "height": 206
        },
        "id": "1SnNHui-GU21",
        "outputId": "a777ede4-fe8e-4208-9644-b54d0bcc8eaf"
      },
      "outputs": [
        {
          "data": {
            "text/html": [
              "<div>\n",
              "<style scoped>\n",
              "    .dataframe tbody tr th:only-of-type {\n",
              "        vertical-align: middle;\n",
              "    }\n",
              "\n",
              "    .dataframe tbody tr th {\n",
              "        vertical-align: top;\n",
              "    }\n",
              "\n",
              "    .dataframe thead th {\n",
              "        text-align: right;\n",
              "    }\n",
              "</style>\n",
              "<table border=\"1\" class=\"dataframe\">\n",
              "  <thead>\n",
              "    <tr style=\"text-align: right;\">\n",
              "      <th></th>\n",
              "      <th>Cod</th>\n",
              "      <th>UF</th>\n",
              "      <th>Referência</th>\n",
              "      <th>CAD</th>\n",
              "      <th>PBF</th>\n",
              "      <th>Domic</th>\n",
              "      <th>CAD_Par</th>\n",
              "      <th>PBF_Par</th>\n",
              "    </tr>\n",
              "  </thead>\n",
              "  <tbody>\n",
              "    <tr>\n",
              "      <th>0</th>\n",
              "      <td>11</td>\n",
              "      <td>RONDÔNIA</td>\n",
              "      <td>mai/25</td>\n",
              "      <td>357.491</td>\n",
              "      <td>133.495</td>\n",
              "      <td>555.023</td>\n",
              "      <td>64,4</td>\n",
              "      <td>24,1</td>\n",
              "    </tr>\n",
              "    <tr>\n",
              "      <th>1</th>\n",
              "      <td>12</td>\n",
              "      <td>ACRE</td>\n",
              "      <td>mai/25</td>\n",
              "      <td>207.562</td>\n",
              "      <td>132.431</td>\n",
              "      <td>260.997</td>\n",
              "      <td>79,5</td>\n",
              "      <td>50,7</td>\n",
              "    </tr>\n",
              "    <tr>\n",
              "      <th>2</th>\n",
              "      <td>13</td>\n",
              "      <td>AMAZONAS</td>\n",
              "      <td>mai/25</td>\n",
              "      <td>1.047.834</td>\n",
              "      <td>644.977</td>\n",
              "      <td>1.079.752</td>\n",
              "      <td>97,0</td>\n",
              "      <td>59,7</td>\n",
              "    </tr>\n",
              "    <tr>\n",
              "      <th>3</th>\n",
              "      <td>14</td>\n",
              "      <td>RORAIMA</td>\n",
              "      <td>mai/25</td>\n",
              "      <td>146.771</td>\n",
              "      <td>80.590</td>\n",
              "      <td>177.337</td>\n",
              "      <td>82,8</td>\n",
              "      <td>45,4</td>\n",
              "    </tr>\n",
              "    <tr>\n",
              "      <th>4</th>\n",
              "      <td>15</td>\n",
              "      <td>PARÁ</td>\n",
              "      <td>mai/25</td>\n",
              "      <td>2.256.997</td>\n",
              "      <td>1.345.437</td>\n",
              "      <td>2.442.494</td>\n",
              "      <td>92,4</td>\n",
              "      <td>55,1</td>\n",
              "    </tr>\n",
              "  </tbody>\n",
              "</table>\n",
              "</div>"
            ],
            "text/plain": [
              "   Cod        UF Referência          CAD          PBF        Domic CAD_Par  \\\n",
              "0   11  RONDÔNIA     mai/25     357.491      133.495      555.023     64,4   \n",
              "1   12      ACRE     mai/25     207.562      132.431      260.997     79,5   \n",
              "2   13  AMAZONAS     mai/25   1.047.834      644.977    1.079.752     97,0   \n",
              "3   14   RORAIMA     mai/25     146.771       80.590      177.337     82,8   \n",
              "4   15      PARÁ     mai/25   2.256.997    1.345.437    2.442.494     92,4   \n",
              "\n",
              "  PBF_Par  \n",
              "0    24,1  \n",
              "1    50,7  \n",
              "2    59,7  \n",
              "3    45,4  \n",
              "4    55,1  "
            ]
          },
          "execution_count": 59,
          "metadata": {},
          "output_type": "execute_result"
        }
      ],
      "source": [
        "df8.head()"
      ]
    },
    {
      "cell_type": "code",
      "execution_count": 60,
      "metadata": {
        "colab": {
          "base_uri": "https://localhost:8080/"
        },
        "id": "i73ilgJ_Gqb5",
        "outputId": "ed88d70b-c425-4a41-b04e-1fce26c811ff"
      },
      "outputs": [
        {
          "data": {
            "text/plain": [
              "(27, 8)"
            ]
          },
          "execution_count": 60,
          "metadata": {},
          "output_type": "execute_result"
        }
      ],
      "source": [
        "df8.shape"
      ]
    },
    {
      "cell_type": "code",
      "execution_count": 61,
      "metadata": {
        "colab": {
          "base_uri": "https://localhost:8080/",
          "height": 335
        },
        "id": "jZmMH-v9ptUy",
        "outputId": "ccc080a5-ebde-485b-83b2-5d2c3b024895"
      },
      "outputs": [
        {
          "data": {
            "text/plain": [
              "Cod           0\n",
              "UF            0\n",
              "Referência    0\n",
              "CAD           0\n",
              "PBF           0\n",
              "Domic         0\n",
              "CAD_Par       0\n",
              "PBF_Par       0\n",
              "dtype: int64"
            ]
          },
          "execution_count": 61,
          "metadata": {},
          "output_type": "execute_result"
        }
      ],
      "source": [
        "df8.isnull().sum()"
      ]
    },
    {
      "cell_type": "code",
      "execution_count": 65,
      "metadata": {},
      "outputs": [
        {
          "name": "stdout",
          "output_type": "stream",
          "text": [
            "\n",
            "Shape final: (8385, 19)\n"
          ]
        }
      ],
      "source": [
        "# 1. Filtrar df3 e df4 para remover o código estadual \"35\"\n",
        "df3_limpo = df3_restrito.query(\"cod_ibge != 35\").copy()\n",
        "df4_limpo = df4_restrito.query(\"cod_ibge != 35\").copy()\n",
        "\n",
        "# Padronizar nome da coluna\n",
        "df3_limpo = df3_limpo.rename(columns={\"cod_ibge\": \"Cod_Mun\"})\n",
        "df4_limpo = df4_limpo.rename(columns={\"cod_ibge\": \"Cod_Mun\"})\n",
        "\n",
        "# 2. Extrair ano em df5 e df7\n",
        "for df in [df5, df7]:\n",
        "    df[\"ano\"] = (\n",
        "        df[\"Referência\"]\n",
        "        .str.extract(r\"(\\d{2})$\")[0]   # pega os dois últimos dígitos\n",
        "        .astype(int)\n",
        "        .apply(lambda x: 2000 + x if x < 50 else 1900 + x)\n",
        "    )\n",
        "\n",
        "# 3. Calcular média anual por município (df5 e df7)\n",
        "df5_ano = df5.groupby([\"Cod_Mun\", \"ano\"], as_index=False).mean(numeric_only=True)\n",
        "df7_ano = df7.groupby([\"Cod_Mun\", \"ano\"], as_index=False).mean(numeric_only=True)\n",
        "\n",
        "# 4. Merge de todos os DataFrames\n",
        "df_merged = (\n",
        "    df3_limpo\n",
        "    .merge(df4_limpo, on=[\"Cod_Mun\", \"ano\"], how=\"outer\")\n",
        "    .merge(df5_ano, on=[\"Cod_Mun\", \"ano\"], how=\"outer\")\n",
        "    .merge(df7_ano, on=[\"Cod_Mun\", \"ano\"], how=\"outer\")\n",
        ")\n",
        "\n",
        "# 5. Limpeza final\n",
        "df_merged = df_merged.sort_values([\"Cod_Mun\", \"ano\"]).reset_index(drop=True)\n",
        "\n",
        "print(f\"\\nShape final: {df_merged.shape}\")"
      ]
    },
    {
      "cell_type": "code",
      "execution_count": 66,
      "metadata": {},
      "outputs": [
        {
          "data": {
            "text/html": [
              "<div>\n",
              "<style scoped>\n",
              "    .dataframe tbody tr th:only-of-type {\n",
              "        vertical-align: middle;\n",
              "    }\n",
              "\n",
              "    .dataframe tbody tr th {\n",
              "        vertical-align: top;\n",
              "    }\n",
              "\n",
              "    .dataframe thead th {\n",
              "        text-align: right;\n",
              "    }\n",
              "</style>\n",
              "<table border=\"1\" class=\"dataframe\">\n",
              "  <thead>\n",
              "    <tr style=\"text-align: right;\">\n",
              "      <th></th>\n",
              "      <th>ano</th>\n",
              "      <th>Cod_Mun</th>\n",
              "      <th>n_fam_rua</th>\n",
              "      <th>pes_rf_ate_meio_sm</th>\n",
              "      <th>pes_insc_cadun</th>\n",
              "      <th>perc_rf_ate_meio_sm</th>\n",
              "      <th>Pes_PBF</th>\n",
              "      <th>Fam_PBF</th>\n",
              "      <th>MapSeq</th>\n",
              "      <th>F_CAD_EP</th>\n",
              "      <th>Fam_Aux</th>\n",
              "      <th>Fam_PBF_Aux</th>\n",
              "      <th>Fam_PBF_2</th>\n",
              "      <th>MapSeq_Aux</th>\n",
              "      <th>PCD_BPC</th>\n",
              "      <th>Ido_BPC</th>\n",
              "      <th>Pop_65_mais</th>\n",
              "      <th>Pop_2020</th>\n",
              "      <th>65_menos_Idoso_BPC</th>\n",
              "    </tr>\n",
              "  </thead>\n",
              "  <tbody>\n",
              "    <tr>\n",
              "      <th>0</th>\n",
              "      <td>2013</td>\n",
              "      <td>3500105</td>\n",
              "      <td>0.0</td>\n",
              "      <td>8027.0</td>\n",
              "      <td>9360.0</td>\n",
              "      <td>85,8</td>\n",
              "      <td>NaN</td>\n",
              "      <td>NaN</td>\n",
              "      <td>NaN</td>\n",
              "      <td>NaN</td>\n",
              "      <td>NaN</td>\n",
              "      <td>NaN</td>\n",
              "      <td>NaN</td>\n",
              "      <td>NaN</td>\n",
              "      <td>NaN</td>\n",
              "      <td>NaN</td>\n",
              "      <td>NaN</td>\n",
              "      <td>NaN</td>\n",
              "      <td>NaN</td>\n",
              "    </tr>\n",
              "    <tr>\n",
              "      <th>1</th>\n",
              "      <td>2014</td>\n",
              "      <td>3500105</td>\n",
              "      <td>0.0</td>\n",
              "      <td>8070.0</td>\n",
              "      <td>9582.0</td>\n",
              "      <td>84,2</td>\n",
              "      <td>NaN</td>\n",
              "      <td>NaN</td>\n",
              "      <td>NaN</td>\n",
              "      <td>NaN</td>\n",
              "      <td>NaN</td>\n",
              "      <td>NaN</td>\n",
              "      <td>NaN</td>\n",
              "      <td>NaN</td>\n",
              "      <td>NaN</td>\n",
              "      <td>NaN</td>\n",
              "      <td>NaN</td>\n",
              "      <td>NaN</td>\n",
              "      <td>NaN</td>\n",
              "    </tr>\n",
              "    <tr>\n",
              "      <th>2</th>\n",
              "      <td>2015</td>\n",
              "      <td>3500105</td>\n",
              "      <td>0.0</td>\n",
              "      <td>4782.0</td>\n",
              "      <td>6310.0</td>\n",
              "      <td>75,8</td>\n",
              "      <td>NaN</td>\n",
              "      <td>NaN</td>\n",
              "      <td>NaN</td>\n",
              "      <td>NaN</td>\n",
              "      <td>NaN</td>\n",
              "      <td>NaN</td>\n",
              "      <td>NaN</td>\n",
              "      <td>NaN</td>\n",
              "      <td>NaN</td>\n",
              "      <td>NaN</td>\n",
              "      <td>NaN</td>\n",
              "      <td>NaN</td>\n",
              "      <td>NaN</td>\n",
              "    </tr>\n",
              "    <tr>\n",
              "      <th>3</th>\n",
              "      <td>2016</td>\n",
              "      <td>3500105</td>\n",
              "      <td>0.0</td>\n",
              "      <td>3478.0</td>\n",
              "      <td>4960.0</td>\n",
              "      <td>70,1</td>\n",
              "      <td>NaN</td>\n",
              "      <td>NaN</td>\n",
              "      <td>NaN</td>\n",
              "      <td>NaN</td>\n",
              "      <td>NaN</td>\n",
              "      <td>NaN</td>\n",
              "      <td>NaN</td>\n",
              "      <td>NaN</td>\n",
              "      <td>NaN</td>\n",
              "      <td>NaN</td>\n",
              "      <td>NaN</td>\n",
              "      <td>NaN</td>\n",
              "      <td>NaN</td>\n",
              "    </tr>\n",
              "    <tr>\n",
              "      <th>4</th>\n",
              "      <td>2017</td>\n",
              "      <td>3500105</td>\n",
              "      <td>0.0</td>\n",
              "      <td>3369.0</td>\n",
              "      <td>5270.0</td>\n",
              "      <td>63,9</td>\n",
              "      <td>NaN</td>\n",
              "      <td>NaN</td>\n",
              "      <td>NaN</td>\n",
              "      <td>NaN</td>\n",
              "      <td>NaN</td>\n",
              "      <td>NaN</td>\n",
              "      <td>NaN</td>\n",
              "      <td>NaN</td>\n",
              "      <td>NaN</td>\n",
              "      <td>NaN</td>\n",
              "      <td>NaN</td>\n",
              "      <td>NaN</td>\n",
              "      <td>NaN</td>\n",
              "    </tr>\n",
              "  </tbody>\n",
              "</table>\n",
              "</div>"
            ],
            "text/plain": [
              "    ano  Cod_Mun  n_fam_rua  pes_rf_ate_meio_sm  pes_insc_cadun  \\\n",
              "0  2013  3500105        0.0              8027.0          9360.0   \n",
              "1  2014  3500105        0.0              8070.0          9582.0   \n",
              "2  2015  3500105        0.0              4782.0          6310.0   \n",
              "3  2016  3500105        0.0              3478.0          4960.0   \n",
              "4  2017  3500105        0.0              3369.0          5270.0   \n",
              "\n",
              "  perc_rf_ate_meio_sm  Pes_PBF  Fam_PBF  MapSeq  F_CAD_EP  Fam_Aux  \\\n",
              "0                85,8      NaN      NaN     NaN       NaN      NaN   \n",
              "1                84,2      NaN      NaN     NaN       NaN      NaN   \n",
              "2                75,8      NaN      NaN     NaN       NaN      NaN   \n",
              "3                70,1      NaN      NaN     NaN       NaN      NaN   \n",
              "4                63,9      NaN      NaN     NaN       NaN      NaN   \n",
              "\n",
              "   Fam_PBF_Aux  Fam_PBF_2  MapSeq_Aux  PCD_BPC  Ido_BPC  Pop_65_mais  \\\n",
              "0          NaN        NaN         NaN      NaN      NaN          NaN   \n",
              "1          NaN        NaN         NaN      NaN      NaN          NaN   \n",
              "2          NaN        NaN         NaN      NaN      NaN          NaN   \n",
              "3          NaN        NaN         NaN      NaN      NaN          NaN   \n",
              "4          NaN        NaN         NaN      NaN      NaN          NaN   \n",
              "\n",
              "   Pop_2020  65_menos_Idoso_BPC  \n",
              "0       NaN                 NaN  \n",
              "1       NaN                 NaN  \n",
              "2       NaN                 NaN  \n",
              "3       NaN                 NaN  \n",
              "4       NaN                 NaN  "
            ]
          },
          "execution_count": 66,
          "metadata": {},
          "output_type": "execute_result"
        }
      ],
      "source": [
        "df_merged.head()"
      ]
    },
    {
      "cell_type": "code",
      "execution_count": null,
      "metadata": {},
      "outputs": [],
      "source": []
    },
    {
      "cell_type": "code",
      "execution_count": null,
      "metadata": {},
      "outputs": [],
      "source": []
    }
  ],
  "metadata": {
    "colab": {
      "provenance": []
    },
    "kernelspec": {
      "display_name": "base",
      "language": "python",
      "name": "python3"
    },
    "language_info": {
      "codemirror_mode": {
        "name": "ipython",
        "version": 3
      },
      "file_extension": ".py",
      "mimetype": "text/x-python",
      "name": "python",
      "nbconvert_exporter": "python",
      "pygments_lexer": "ipython3",
      "version": "3.13.5"
    }
  },
  "nbformat": 4,
  "nbformat_minor": 0
}
