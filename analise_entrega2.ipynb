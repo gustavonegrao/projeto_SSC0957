{
 "cells": [
  {
   "cell_type": "markdown",
   "id": "49f4ae1c",
   "metadata": {},
   "source": [
    "## Correlação macroeconomica x social\n",
    "\n",
    "Setores com PIB em crescimento têm redução de vulnerabilidade : familias em situação de rua, % de familias com renda <= 0.5 SM\n",
    " \n",
    "Setores com PIB em crescimento têm aumento de emprego formal \n",
    "\n",
    "IPCA do setor de alimentos × % da população em vulnerabilidade"
   ]
  },
  {
   "cell_type": "markdown",
   "id": "7478cc08",
   "metadata": {},
   "source": [
    "## Análise de cluster\n",
    "\n",
    "Agrupar municipios com padrões semelhantes de vulnerabilidade social + PIB setorial . Ex: alta industria e alta pobreza\n",
    "\n",
    "Agrupar municipios com padrões semelhantes de emprego formal. Ex: alta industria e baixo emprego formal\n"
   ]
  },
  {
   "cell_type": "markdown",
   "id": "841b71cc",
   "metadata": {},
   "source": [
    "## Analisar impacto \n",
    "\n",
    "Presença de BPC × envelhecimento populacional"
   ]
  },
  {
   "cell_type": "markdown",
   "id": "f70aa846",
   "metadata": {},
   "source": []
  }
 ],
 "metadata": {
  "language_info": {
   "name": "python"
  }
 },
 "nbformat": 4,
 "nbformat_minor": 5
}
