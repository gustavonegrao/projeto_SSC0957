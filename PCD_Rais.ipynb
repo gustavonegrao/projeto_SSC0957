{
  "cells": [
    {
      "cell_type": "code",
      "execution_count": 1,
      "metadata": {
        "id": "K3ofnihJWdm5"
      },
      "outputs": [],
      "source": [
        "import pandas as pd\n",
        "import numpy as np\n",
        "import matplotlib.pyplot as plt\n",
        "import seaborn as sns"
      ]
    },
    {
      "cell_type": "code",
      "execution_count": 68,
      "metadata": {
        "id": "XGPg0GBFWiIr"
      },
      "outputs": [],
      "source": [
        "#https://repositorio.seade.gov.br/dataset/?groups=seade-trabalho\n",
        "#https://repositorio.seade.gov.br/dataset/emprego-rais-e-arquivos-auxiliares\n",
        "#http://repositorio.seade.gov.br/dataset/ocupacao-e-rendimento"
      ]
    },
    {
      "cell_type": "code",
      "execution_count": 5,
      "metadata": {
        "colab": {
          "base_uri": "https://localhost:8080/"
        },
        "id": "mh6qHy2cWjTr",
        "outputId": "d7b23590-3d5e-4ba7-f6ed-609eb1150e29"
      },
      "outputs": [],
      "source": [
        "#!pip install gdown"
      ]
    },
    {
      "cell_type": "code",
      "execution_count": 6,
      "metadata": {
        "colab": {
          "base_uri": "https://localhost:8080/"
        },
        "id": "2aQzr0-9WkfV",
        "outputId": "96ad69ca-4484-438e-980a-9d445cae7992"
      },
      "outputs": [],
      "source": [
        "#rais 2012-2020\n",
        "#!gdown 1nufL8-ySHgduIe8AYXtwxK1BAkwPxdt4"
      ]
    },
    {
      "cell_type": "code",
      "execution_count": 7,
      "metadata": {
        "colab": {
          "base_uri": "https://localhost:8080/"
        },
        "id": "ka-VLZ9pWlyc",
        "outputId": "2258e69c-831c-4f9b-daa9-cfcc9c458815"
      },
      "outputs": [],
      "source": [
        "#dicionário rais 2012-2020\n",
        "#!gdown 1YelMiKISRjBikAZ1aRX4XwCFGKV1g4go"
      ]
    },
    {
      "cell_type": "markdown",
      "metadata": {
        "id": "Lx-HuozVWq4_"
      },
      "source": [
        "#Objetivo\n",
        "Utilizar dados públicos disponibilizados pela Fundação SEADE e pelo Portal da Transparência do Estado de São Paulo para analisar a evolução do mercado de trabalho formal, ocupações e renda, aplicando modelos de séries temporais para identificar sazonalidades, impactos de políticas públicas e prever tendências."
      ]
    },
    {
      "cell_type": "code",
      "execution_count": 9,
      "metadata": {
        "id": "I-zJ7CETWnPA"
      },
      "outputs": [],
      "source": [
        "# Leitura do dicionário\n",
        "dic = pd.read_csv(\"base_rais/dicvar_rais_painel_2012a2020.csv\", sep= ';', encoding='latin1')"
      ]
    },
    {
      "cell_type": "code",
      "execution_count": 10,
      "metadata": {
        "id": "LyxC_PUYWuPl"
      },
      "outputs": [],
      "source": [
        "# Remover todas as colunas cujo nome começa com \"Unnamed\"\n",
        "dic = dic.loc[:, ~dic.columns.str.contains(\"^Unnamed\")]"
      ]
    },
    {
      "cell_type": "code",
      "execution_count": 11,
      "metadata": {
        "colab": {
          "base_uri": "https://localhost:8080/",
          "height": 537
        },
        "id": "sqgDXCZxWv06",
        "outputId": "0bbcfa2a-76ea-4b61-f715-14427c2fbb8b"
      },
      "outputs": [
        {
          "data": {
            "text/html": [
              "<div>\n",
              "<style scoped>\n",
              "    .dataframe tbody tr th:only-of-type {\n",
              "        vertical-align: middle;\n",
              "    }\n",
              "\n",
              "    .dataframe tbody tr th {\n",
              "        vertical-align: top;\n",
              "    }\n",
              "\n",
              "    .dataframe thead th {\n",
              "        text-align: right;\n",
              "    }\n",
              "</style>\n",
              "<table border=\"1\" class=\"dataframe\">\n",
              "  <thead>\n",
              "    <tr style=\"text-align: right;\">\n",
              "      <th></th>\n",
              "      <th>variavel</th>\n",
              "      <th>tipo</th>\n",
              "      <th>descricao</th>\n",
              "      <th>categorias</th>\n",
              "      <th>fonte</th>\n",
              "      <th>serie_disponivel</th>\n",
              "    </tr>\n",
              "  </thead>\n",
              "  <tbody>\n",
              "    <tr>\n",
              "      <th>0</th>\n",
              "      <td>ano</td>\n",
              "      <td>Número</td>\n",
              "      <td>Ano de referência, no formato aaaa.</td>\n",
              "      <td>NaN</td>\n",
              "      <td>Ministério do Trabalho e Emprego  MTE. Relaçã...</td>\n",
              "      <td>2012 - 2020</td>\n",
              "    </tr>\n",
              "    <tr>\n",
              "      <th>1</th>\n",
              "      <td>cod_ibge</td>\n",
              "      <td>Número</td>\n",
              "      <td>Código com 7 dígitos, correspondente ao código...</td>\n",
              "      <td>NaN</td>\n",
              "      <td>Ministério do Trabalho e Emprego  MTE. Relaçã...</td>\n",
              "      <td>2012 - 2020</td>\n",
              "    </tr>\n",
              "    <tr>\n",
              "      <th>2</th>\n",
              "      <td>cbo2002_familia</td>\n",
              "      <td>Número</td>\n",
              "      <td>Código com 4 dígitos correspondente à Família ...</td>\n",
              "      <td>NaN</td>\n",
              "      <td>Ministério do Trabalho e Emprego  MTE. Relaçã...</td>\n",
              "      <td>2012 - 2020</td>\n",
              "    </tr>\n",
              "    <tr>\n",
              "      <th>3</th>\n",
              "      <td>clas_cnae_20</td>\n",
              "      <td>Número</td>\n",
              "      <td>Código das categorias de Classe da CNAE versão...</td>\n",
              "      <td>NaN</td>\n",
              "      <td>Ministério do Trabalho e Emprego  MTE. Relaçã...</td>\n",
              "      <td>2012 - 2020</td>\n",
              "    </tr>\n",
              "    <tr>\n",
              "      <th>4</th>\n",
              "      <td>gr_instrucao</td>\n",
              "      <td>Número</td>\n",
              "      <td>Corresponde à categoria referente à escolarida...</td>\n",
              "      <td>1 - Analfabeto; 2 - Até a 5ª Incompleta; 3 - 5...</td>\n",
              "      <td>Ministério do Trabalho e Emprego  MTE. Relaçã...</td>\n",
              "      <td>2012 - 2020</td>\n",
              "    </tr>\n",
              "    <tr>\n",
              "      <th>5</th>\n",
              "      <td>tamestab</td>\n",
              "      <td>Número</td>\n",
              "      <td>Corresponde às categorias referente ao número ...</td>\n",
              "      <td>2 - De 1 a 4; 3 - De 5 a 9; 4 - De 10 a 19; 5 ...</td>\n",
              "      <td>Ministério do Trabalho e Emprego  MTE. Relaçã...</td>\n",
              "      <td>2012 - 2020</td>\n",
              "    </tr>\n",
              "    <tr>\n",
              "      <th>6</th>\n",
              "      <td>massa_rendimentos</td>\n",
              "      <td>Número</td>\n",
              "      <td>Massa de Rendimentos resultante da soma dos re...</td>\n",
              "      <td>NaN</td>\n",
              "      <td>Ministério do Trabalho e Emprego  MTE. Relaçã...</td>\n",
              "      <td>2012 - 2020</td>\n",
              "    </tr>\n",
              "    <tr>\n",
              "      <th>7</th>\n",
              "      <td>emprego_formal</td>\n",
              "      <td>Número</td>\n",
              "      <td>Número de empregados no ano e na localidade de...</td>\n",
              "      <td>NaN</td>\n",
              "      <td>Ministério do Trabalho e Emprego  MTE. Relaçã...</td>\n",
              "      <td>2012 - 2020</td>\n",
              "    </tr>\n",
              "    <tr>\n",
              "      <th>8</th>\n",
              "      <td>emp_c_sal</td>\n",
              "      <td>Número</td>\n",
              "      <td>Número de empregados no ano e na localidade de...</td>\n",
              "      <td>NaN</td>\n",
              "      <td>Ministério do Trabalho e Emprego  MTE. Relaçã...</td>\n",
              "      <td>2012 - 2020</td>\n",
              "    </tr>\n",
              "    <tr>\n",
              "      <th>9</th>\n",
              "      <td>escolaridade</td>\n",
              "      <td>Número</td>\n",
              "      <td>Corresponde à categoria referente à escolarida...</td>\n",
              "      <td>0 - Analfabeto; 1 - Fundamental incompleto ; 2...</td>\n",
              "      <td>Ministério do Trabalho e Emprego  MTE. Relaçã...</td>\n",
              "      <td>2012 - 2020</td>\n",
              "    </tr>\n",
              "  </tbody>\n",
              "</table>\n",
              "</div>"
            ],
            "text/plain": [
              "            variavel    tipo  \\\n",
              "0                ano  Número   \n",
              "1           cod_ibge  Número   \n",
              "2    cbo2002_familia  Número   \n",
              "3       clas_cnae_20  Número   \n",
              "4       gr_instrucao  Número   \n",
              "5           tamestab  Número   \n",
              "6  massa_rendimentos  Número   \n",
              "7     emprego_formal  Número   \n",
              "8          emp_c_sal  Número   \n",
              "9       escolaridade  Número   \n",
              "\n",
              "                                           descricao  \\\n",
              "0                Ano de referência, no formato aaaa.   \n",
              "1  Código com 7 dígitos, correspondente ao código...   \n",
              "2  Código com 4 dígitos correspondente à Família ...   \n",
              "3  Código das categorias de Classe da CNAE versão...   \n",
              "4  Corresponde à categoria referente à escolarida...   \n",
              "5  Corresponde às categorias referente ao número ...   \n",
              "6  Massa de Rendimentos resultante da soma dos re...   \n",
              "7  Número de empregados no ano e na localidade de...   \n",
              "8  Número de empregados no ano e na localidade de...   \n",
              "9  Corresponde à categoria referente à escolarida...   \n",
              "\n",
              "                                          categorias  \\\n",
              "0                                                NaN   \n",
              "1                                                NaN   \n",
              "2                                                NaN   \n",
              "3                                                NaN   \n",
              "4  1 - Analfabeto; 2 - Até a 5ª Incompleta; 3 - 5...   \n",
              "5  2 - De 1 a 4; 3 - De 5 a 9; 4 - De 10 a 19; 5 ...   \n",
              "6                                                NaN   \n",
              "7                                                NaN   \n",
              "8                                                NaN   \n",
              "9  0 - Analfabeto; 1 - Fundamental incompleto ; 2...   \n",
              "\n",
              "                                               fonte serie_disponivel  \n",
              "0  Ministério do Trabalho e Emprego  MTE. Relaçã...      2012 - 2020  \n",
              "1  Ministério do Trabalho e Emprego  MTE. Relaçã...      2012 - 2020  \n",
              "2  Ministério do Trabalho e Emprego  MTE. Relaçã...      2012 - 2020  \n",
              "3  Ministério do Trabalho e Emprego  MTE. Relaçã...      2012 - 2020  \n",
              "4  Ministério do Trabalho e Emprego  MTE. Relaçã...      2012 - 2020  \n",
              "5  Ministério do Trabalho e Emprego  MTE. Relaçã...      2012 - 2020  \n",
              "6  Ministério do Trabalho e Emprego  MTE. Relaçã...      2012 - 2020  \n",
              "7  Ministério do Trabalho e Emprego  MTE. Relaçã...      2012 - 2020  \n",
              "8  Ministério do Trabalho e Emprego  MTE. Relaçã...      2012 - 2020  \n",
              "9  Ministério do Trabalho e Emprego  MTE. Relaçã...      2012 - 2020  "
            ]
          },
          "execution_count": 11,
          "metadata": {},
          "output_type": "execute_result"
        }
      ],
      "source": [
        "dic.head(10)"
      ]
    },
    {
      "cell_type": "code",
      "execution_count": 12,
      "metadata": {
        "colab": {
          "base_uri": "https://localhost:8080/"
        },
        "id": "ha0z5_RbYFgU",
        "outputId": "84783dcd-5b23-4d5d-8bf6-664e2e0083cf"
      },
      "outputs": [
        {
          "data": {
            "text/plain": [
              "array([nan,\n",
              "       '1 - Analfabeto; 2 - Até a 5ª Incompleta; 3 - 5ª completo fundamental; 4 - 6ª a 9ª fundamental; 5 - Fundamental completo; 6 - Médio incompleto; 7 - Médio completo; 8 - Superior incompleto; 9 - Superior completo;10 - Mestrado;11 - Doutorado.',\n",
              "       '2 - De 1 a 4; 3 - De 5 a 9; 4 - De 10 a 19; 5 - De 20 a 49; 6 - De 50 a 99; 7 - De 100 a 249; 8 - De 250 a 499; 9 - De 500 a 999; 10 - 1.000 ou mais',\n",
              "       '0 - Analfabeto; 1 - Fundamental incompleto ; 2 - Fundamental completo e Médio incompleto; 3 - Médio completo ; 4 - Superior completo.'],\n",
              "      dtype=object)"
            ]
          },
          "execution_count": 12,
          "metadata": {},
          "output_type": "execute_result"
        }
      ],
      "source": [
        "dic.categorias.unique()"
      ]
    },
    {
      "cell_type": "code",
      "execution_count": 14,
      "metadata": {
        "colab": {
          "base_uri": "https://localhost:8080/"
        },
        "id": "QEUpe3-diHVt",
        "outputId": "0a52c58a-05c6-4a80-9cb3-058f690a9e27"
      },
      "outputs": [
        {
          "data": {
            "text/plain": [
              "array(['Ano de referência, no formato aaaa.',\n",
              "       'Código com 7 dígitos, correspondente ao código IBGE do município, incluindo o dígito de controle. ',\n",
              "       'Código com 4 dígitos correspondente à Família ocupacional da Classificação Brasileira de Ocupações - CBO de 2002.',\n",
              "       'Código das categorias de Classe da CNAE versão 2.0',\n",
              "       'Corresponde à categoria referente à escolaridade dos empregados.',\n",
              "       'Corresponde às categorias referente ao número de empregados vinculados.\\n',\n",
              "       'Massa de Rendimentos resultante da soma dos rendimentos individuais recebidos em dezembro de cada ano.',\n",
              "       'Número de empregados no ano e na localidade de referência.',\n",
              "       'Número de empregados no ano e na localidade de referência que receberam salário em dezembro do ano de referência.',\n",
              "       'Corresponde à categoria referente à escolaridade agregada em grupos dos empregados.'],\n",
              "      dtype=object)"
            ]
          },
          "execution_count": 14,
          "metadata": {},
          "output_type": "execute_result"
        }
      ],
      "source": [
        "dic.descricao.unique()"
      ]
    },
    {
      "cell_type": "markdown",
      "metadata": {
        "id": "5aD7VCQiWzkw"
      },
      "source": [
        "# Emprego e salário por setor\n",
        "\n",
        "O tratamento estatístico das informações captadas pela Rais permite que os dados divulgados sejam desagregados em níveis de município, classe de atividade econômica e ocupação. Assim, este cadastro contém o número de empregos por gênero, faixa etária, grau de instrução e escolaridade, faixa de rendimento, rendimento médio e massa salarial, nacionalidade e, mais recentemente, raça/cor e tipo de deficiência\n"
      ]
    },
    {
      "cell_type": "code",
      "execution_count": 15,
      "metadata": {
        "colab": {
          "base_uri": "https://localhost:8080/"
        },
        "id": "vQWjS4VyWxkk",
        "outputId": "66139e4f-086f-4569-8594-7e49f3b0824b"
      },
      "outputs": [
        {
          "name": "stderr",
          "output_type": "stream",
          "text": [
            "C:\\Users\\gusta\\AppData\\Local\\Temp\\ipykernel_57460\\3597168498.py:1: DtypeWarning: Columns (2) have mixed types. Specify dtype option on import or set low_memory=False.\n",
            "  df = pd.read_csv(\"base_rais/Rais_2012 - 2020.csv\", sep=';')\n"
          ]
        }
      ],
      "source": [
        "df = pd.read_csv(\"base_rais/Rais_2012 - 2020.csv\", sep=';')"
      ]
    },
    {
      "cell_type": "code",
      "execution_count": 16,
      "metadata": {
        "id": "6xLl_744W2-w"
      },
      "outputs": [],
      "source": [
        "# Converter 'massa_rendimentos' (string com vírgula) -> float\n",
        "if \"massa_rendimentos\" in df.columns:\n",
        "    df[\"massa_rendimentos_num\"] = (\n",
        "        df[\"massa_rendimentos\"]\n",
        "        .astype(str)\n",
        "        .str.replace(\".\", \"\", regex=False)      # remove separador de milhar caso exista\n",
        "        .str.replace(\",\", \".\", regex=False)     # troca vírgula por ponto\n",
        "        .replace({\"\": np.nan})\n",
        "        .astype(float)\n",
        "    )"
      ]
    },
    {
      "cell_type": "code",
      "execution_count": 17,
      "metadata": {
        "colab": {
          "base_uri": "https://localhost:8080/",
          "height": 226
        },
        "id": "CZ0CiO8dW4b8",
        "outputId": "b301ab40-d2ef-4396-ef7e-7b6c7a589d10"
      },
      "outputs": [
        {
          "data": {
            "text/html": [
              "<div>\n",
              "<style scoped>\n",
              "    .dataframe tbody tr th:only-of-type {\n",
              "        vertical-align: middle;\n",
              "    }\n",
              "\n",
              "    .dataframe tbody tr th {\n",
              "        vertical-align: top;\n",
              "    }\n",
              "\n",
              "    .dataframe thead th {\n",
              "        text-align: right;\n",
              "    }\n",
              "</style>\n",
              "<table border=\"1\" class=\"dataframe\">\n",
              "  <thead>\n",
              "    <tr style=\"text-align: right;\">\n",
              "      <th></th>\n",
              "      <th>ANO</th>\n",
              "      <th>Cod_ibge</th>\n",
              "      <th>CBO2002_FAMILIA</th>\n",
              "      <th>CLAS_CNAE_20</th>\n",
              "      <th>GR_INSTRUCAO</th>\n",
              "      <th>TAMESTAB</th>\n",
              "      <th>massa_rendimentos</th>\n",
              "      <th>Emprego_formal</th>\n",
              "      <th>EMP_C_SAL</th>\n",
              "      <th>Escolaridade</th>\n",
              "      <th>massa_rendimentos_num</th>\n",
              "    </tr>\n",
              "  </thead>\n",
              "  <tbody>\n",
              "    <tr>\n",
              "      <th>0</th>\n",
              "      <td>2012</td>\n",
              "      <td>3500105</td>\n",
              "      <td>1210</td>\n",
              "      <td>41204</td>\n",
              "      <td>9</td>\n",
              "      <td>5</td>\n",
              "      <td>2777,45</td>\n",
              "      <td>1</td>\n",
              "      <td>1</td>\n",
              "      <td>4</td>\n",
              "      <td>2777.45</td>\n",
              "    </tr>\n",
              "    <tr>\n",
              "      <th>1</th>\n",
              "      <td>2012</td>\n",
              "      <td>3500105</td>\n",
              "      <td>1210</td>\n",
              "      <td>46834</td>\n",
              "      <td>7</td>\n",
              "      <td>7</td>\n",
              "      <td>28063</td>\n",
              "      <td>1</td>\n",
              "      <td>1</td>\n",
              "      <td>3</td>\n",
              "      <td>28063.00</td>\n",
              "    </tr>\n",
              "    <tr>\n",
              "      <th>2</th>\n",
              "      <td>2012</td>\n",
              "      <td>3500105</td>\n",
              "      <td>1210</td>\n",
              "      <td>46834</td>\n",
              "      <td>9</td>\n",
              "      <td>7</td>\n",
              "      <td>102849,5</td>\n",
              "      <td>2</td>\n",
              "      <td>2</td>\n",
              "      <td>4</td>\n",
              "      <td>102849.50</td>\n",
              "    </tr>\n",
              "    <tr>\n",
              "      <th>3</th>\n",
              "      <td>2012</td>\n",
              "      <td>3500105</td>\n",
              "      <td>1210</td>\n",
              "      <td>85317</td>\n",
              "      <td>9</td>\n",
              "      <td>8</td>\n",
              "      <td>12558,02</td>\n",
              "      <td>2</td>\n",
              "      <td>2</td>\n",
              "      <td>4</td>\n",
              "      <td>12558.02</td>\n",
              "    </tr>\n",
              "    <tr>\n",
              "      <th>4</th>\n",
              "      <td>2012</td>\n",
              "      <td>3500105</td>\n",
              "      <td>1210</td>\n",
              "      <td>85414</td>\n",
              "      <td>7</td>\n",
              "      <td>3</td>\n",
              "      <td>700</td>\n",
              "      <td>1</td>\n",
              "      <td>1</td>\n",
              "      <td>3</td>\n",
              "      <td>700.00</td>\n",
              "    </tr>\n",
              "  </tbody>\n",
              "</table>\n",
              "</div>"
            ],
            "text/plain": [
              "    ANO  Cod_ibge CBO2002_FAMILIA  CLAS_CNAE_20  GR_INSTRUCAO  TAMESTAB  \\\n",
              "0  2012   3500105            1210         41204             9         5   \n",
              "1  2012   3500105            1210         46834             7         7   \n",
              "2  2012   3500105            1210         46834             9         7   \n",
              "3  2012   3500105            1210         85317             9         8   \n",
              "4  2012   3500105            1210         85414             7         3   \n",
              "\n",
              "  massa_rendimentos  Emprego_formal  EMP_C_SAL  Escolaridade  \\\n",
              "0           2777,45               1          1             4   \n",
              "1             28063               1          1             3   \n",
              "2          102849,5               2          2             4   \n",
              "3          12558,02               2          2             4   \n",
              "4               700               1          1             3   \n",
              "\n",
              "   massa_rendimentos_num  \n",
              "0                2777.45  \n",
              "1               28063.00  \n",
              "2              102849.50  \n",
              "3               12558.02  \n",
              "4                 700.00  "
            ]
          },
          "execution_count": 17,
          "metadata": {},
          "output_type": "execute_result"
        }
      ],
      "source": [
        "df.head()"
      ]
    },
    {
      "cell_type": "code",
      "execution_count": 18,
      "metadata": {
        "colab": {
          "base_uri": "https://localhost:8080/"
        },
        "id": "HxJw5w1vW5sF",
        "outputId": "f6ffacbb-741f-4d87-bf72-d740c37d292e"
      },
      "outputs": [
        {
          "name": "stdout",
          "output_type": "stream",
          "text": [
            "<class 'pandas.core.frame.DataFrame'>\n",
            "RangeIndex: 22969962 entries, 0 to 22969961\n",
            "Data columns (total 11 columns):\n",
            " #   Column                 Dtype  \n",
            "---  ------                 -----  \n",
            " 0   ANO                    int64  \n",
            " 1   Cod_ibge               int64  \n",
            " 2   CBO2002_FAMILIA        object \n",
            " 3   CLAS_CNAE_20           int64  \n",
            " 4   GR_INSTRUCAO           int64  \n",
            " 5   TAMESTAB               int64  \n",
            " 6   massa_rendimentos      object \n",
            " 7   Emprego_formal         int64  \n",
            " 8   EMP_C_SAL              int64  \n",
            " 9   Escolaridade           int64  \n",
            " 10  massa_rendimentos_num  float64\n",
            "dtypes: float64(1), int64(8), object(2)\n",
            "memory usage: 1.9+ GB\n"
          ]
        }
      ],
      "source": [
        "df.info()"
      ]
    },
    {
      "cell_type": "markdown",
      "metadata": {
        "id": "W9i6FSrVjBMW"
      },
      "source": [
        "## Diminuir a granularidade dos empregos para seção\n",
        "\n",
        "por meio do código relacionar com industria, serviço, serviços de adm_publica"
      ]
    },
    {
      "cell_type": "code",
      "execution_count": 12,
      "metadata": {
        "id": "Gug4t1fEPPYb"
      },
      "outputs": [],
      "source": [
        "#df.CLAS_CNAE_20.unique()"
      ]
    },
    {
      "cell_type": "code",
      "execution_count": 19,
      "metadata": {
        "id": "BMJAmJzrQYdU"
      },
      "outputs": [],
      "source": [
        "# gerar código completo : se tiver 4 dígitos, acrescentar um 0 no inicio\n",
        "df['CLAS_CNAE_20'] = df['CLAS_CNAE_20'].astype(str).str.zfill(5)"
      ]
    },
    {
      "cell_type": "code",
      "execution_count": 14,
      "metadata": {
        "id": "o3kI4p87STWJ"
      },
      "outputs": [],
      "source": [
        "#df.CLAS_CNAE_20.unique()"
      ]
    },
    {
      "cell_type": "markdown",
      "metadata": {
        "id": "cc8Ol-JtQxvX"
      },
      "source": [
        "seção é demarcada por : https://concla.ibge.gov.br/busca-online-cnae.html?view=estrutura"
      ]
    },
    {
      "cell_type": "code",
      "execution_count": 20,
      "metadata": {
        "id": "AkmTK7nkQxSy"
      },
      "outputs": [],
      "source": [
        "df['divisao_cnae'] = df['CLAS_CNAE_20'].astype(str).str[:2].astype(int)\n",
        "\n",
        "# Função para mapear a divisão para o setor\n",
        "def mapear_setor(div):\n",
        "    if 1 <= div <= 3:\n",
        "        return 'Agropecuária'\n",
        "    elif 5 <= div <= 9:\n",
        "        return 'Indústrias Extrativas'\n",
        "    elif 10 <= div <= 33:\n",
        "        return 'Indústria de Transformação'\n",
        "    elif div == 35:\n",
        "        return 'Eletricidade e Gás'\n",
        "    elif 36 <= div <= 39:\n",
        "        return 'Saneamento e Resíduos'\n",
        "    elif 41 <= div <= 43:\n",
        "        return 'Construção'\n",
        "    elif 45 <= div <= 47:\n",
        "        return 'Comércio'\n",
        "    elif 49 <= div <= 53:\n",
        "        return 'Transporte e Correios'\n",
        "    elif 55 <= div <= 56:\n",
        "        return 'Alojamento e Alimentação'\n",
        "    elif 58 <= div <= 63:\n",
        "        return 'Informação e Comunicação'\n",
        "    elif 64 <= div <= 66:\n",
        "        return 'Serviços Financeiros'\n",
        "    elif div == 68:\n",
        "        return 'Atividades Imobiliárias'\n",
        "    elif 69 <= div <= 75:\n",
        "        return 'Atividades Profissionais e Técnicas'\n",
        "    elif 77 <= div <= 82:\n",
        "        return 'Serviços Administrativos'\n",
        "    elif div == 84:\n",
        "        return 'Administração Pública'\n",
        "    elif div == 85:\n",
        "        return 'Educação'\n",
        "    elif 86 <= div <= 88:\n",
        "        return 'Saúde'\n",
        "    elif 90 <= div <= 93:\n",
        "        return 'Artes e Cultura'\n",
        "    elif 94 <= div <= 96:\n",
        "        return 'Outros Serviços'\n",
        "    elif div == 97:\n",
        "        return 'Serviços Domésticos'\n",
        "    elif div == 99:\n",
        "        return 'Organismos Internacionais'\n",
        "    else:\n",
        "        return 'Desconhecido'\n",
        "\n",
        "# Aplicando a função\n",
        "df['secao_cnae'] = df['divisao_cnae'].apply(mapear_setor)\n"
      ]
    },
    {
      "cell_type": "code",
      "execution_count": 21,
      "metadata": {
        "id": "Jpet6trSYG_r"
      },
      "outputs": [],
      "source": [
        "df.columns = df.columns.str.lower()"
      ]
    },
    {
      "cell_type": "markdown",
      "metadata": {
        "id": "JduQVCx0aORu"
      },
      "source": [
        "## Explorar"
      ]
    },
    {
      "cell_type": "code",
      "execution_count": 22,
      "metadata": {
        "colab": {
          "base_uri": "https://localhost:8080/"
        },
        "id": "IIPKp5I9ag-m",
        "outputId": "2c518ae9-cdc6-44db-c631-5a5836874a78"
      },
      "outputs": [
        {
          "data": {
            "text/plain": [
              "Index(['ano', 'cod_ibge', 'cbo2002_familia', 'clas_cnae_20', 'gr_instrucao',\n",
              "       'tamestab', 'massa_rendimentos', 'emprego_formal', 'emp_c_sal',\n",
              "       'escolaridade', 'massa_rendimentos_num', 'divisao_cnae', 'secao_cnae'],\n",
              "      dtype='object')"
            ]
          },
          "execution_count": 22,
          "metadata": {},
          "output_type": "execute_result"
        }
      ],
      "source": [
        "df.columns"
      ]
    },
    {
      "cell_type": "code",
      "execution_count": 23,
      "metadata": {
        "id": "_BcqDXKBYKfK"
      },
      "outputs": [],
      "source": [
        "df_rendimento_emprego = df.groupby(['ano', 'cod_ibge', 'secao_cnae']).agg({'massa_rendimentos_num': 'sum', 'emprego_formal': 'sum','emp_c_sal': 'sum'}).reset_index()"
      ]
    },
    {
      "cell_type": "code",
      "execution_count": 24,
      "metadata": {
        "id": "3_s6Q77aazhf"
      },
      "outputs": [],
      "source": [
        "df_rendimento_emprego['rendimento_medio_c_sal'] = df_rendimento_emprego['massa_rendimentos_num'] / df_rendimento_emprego['emp_c_sal']"
      ]
    },
    {
      "cell_type": "code",
      "execution_count": 25,
      "metadata": {
        "id": "ZbE3siIia9So"
      },
      "outputs": [
        {
          "data": {
            "text/html": [
              "<div>\n",
              "<style scoped>\n",
              "    .dataframe tbody tr th:only-of-type {\n",
              "        vertical-align: middle;\n",
              "    }\n",
              "\n",
              "    .dataframe tbody tr th {\n",
              "        vertical-align: top;\n",
              "    }\n",
              "\n",
              "    .dataframe thead th {\n",
              "        text-align: right;\n",
              "    }\n",
              "</style>\n",
              "<table border=\"1\" class=\"dataframe\">\n",
              "  <thead>\n",
              "    <tr style=\"text-align: right;\">\n",
              "      <th></th>\n",
              "      <th>ano</th>\n",
              "      <th>cod_ibge</th>\n",
              "      <th>secao_cnae</th>\n",
              "      <th>massa_rendimentos_num</th>\n",
              "      <th>emprego_formal</th>\n",
              "      <th>emp_c_sal</th>\n",
              "      <th>rendimento_medio_c_sal</th>\n",
              "    </tr>\n",
              "  </thead>\n",
              "  <tbody>\n",
              "    <tr>\n",
              "      <th>39609</th>\n",
              "      <td>2015</td>\n",
              "      <td>3552809</td>\n",
              "      <td>Eletricidade e Gás</td>\n",
              "      <td>52266.16</td>\n",
              "      <td>2</td>\n",
              "      <td>2</td>\n",
              "      <td>26133.080000</td>\n",
              "    </tr>\n",
              "    <tr>\n",
              "      <th>29437</th>\n",
              "      <td>2014</td>\n",
              "      <td>3552809</td>\n",
              "      <td>Eletricidade e Gás</td>\n",
              "      <td>49201.73</td>\n",
              "      <td>2</td>\n",
              "      <td>2</td>\n",
              "      <td>24600.865000</td>\n",
              "    </tr>\n",
              "    <tr>\n",
              "      <th>19305</th>\n",
              "      <td>2013</td>\n",
              "      <td>3552809</td>\n",
              "      <td>Eletricidade e Gás</td>\n",
              "      <td>46608.88</td>\n",
              "      <td>2</td>\n",
              "      <td>2</td>\n",
              "      <td>23304.440000</td>\n",
              "    </tr>\n",
              "    <tr>\n",
              "      <th>9188</th>\n",
              "      <td>2012</td>\n",
              "      <td>3552809</td>\n",
              "      <td>Eletricidade e Gás</td>\n",
              "      <td>43388.99</td>\n",
              "      <td>2</td>\n",
              "      <td>2</td>\n",
              "      <td>21694.495000</td>\n",
              "    </tr>\n",
              "    <tr>\n",
              "      <th>34225</th>\n",
              "      <td>2015</td>\n",
              "      <td>3521705</td>\n",
              "      <td>Eletricidade e Gás</td>\n",
              "      <td>193449.43</td>\n",
              "      <td>9</td>\n",
              "      <td>9</td>\n",
              "      <td>21494.381111</td>\n",
              "    </tr>\n",
              "    <tr>\n",
              "      <th>79482</th>\n",
              "      <td>2019</td>\n",
              "      <td>3548500</td>\n",
              "      <td>Indústrias Extrativas</td>\n",
              "      <td>21988730.53</td>\n",
              "      <td>2846</td>\n",
              "      <td>1036</td>\n",
              "      <td>21224.643369</td>\n",
              "    </tr>\n",
              "    <tr>\n",
              "      <th>69312</th>\n",
              "      <td>2018</td>\n",
              "      <td>3548500</td>\n",
              "      <td>Indústrias Extrativas</td>\n",
              "      <td>54063764.31</td>\n",
              "      <td>2629</td>\n",
              "      <td>2574</td>\n",
              "      <td>21003.793438</td>\n",
              "    </tr>\n",
              "    <tr>\n",
              "      <th>44393</th>\n",
              "      <td>2016</td>\n",
              "      <td>3521705</td>\n",
              "      <td>Eletricidade e Gás</td>\n",
              "      <td>187379.68</td>\n",
              "      <td>9</td>\n",
              "      <td>9</td>\n",
              "      <td>20819.964444</td>\n",
              "    </tr>\n",
              "    <tr>\n",
              "      <th>59146</th>\n",
              "      <td>2017</td>\n",
              "      <td>3548500</td>\n",
              "      <td>Indústrias Extrativas</td>\n",
              "      <td>54020869.57</td>\n",
              "      <td>2680</td>\n",
              "      <td>2629</td>\n",
              "      <td>20548.067543</td>\n",
              "    </tr>\n",
              "    <tr>\n",
              "      <th>89679</th>\n",
              "      <td>2020</td>\n",
              "      <td>3548500</td>\n",
              "      <td>Indústrias Extrativas</td>\n",
              "      <td>57042058.64</td>\n",
              "      <td>2906</td>\n",
              "      <td>2844</td>\n",
              "      <td>20056.982644</td>\n",
              "    </tr>\n",
              "    <tr>\n",
              "      <th>32200</th>\n",
              "      <td>2015</td>\n",
              "      <td>3510500</td>\n",
              "      <td>Eletricidade e Gás</td>\n",
              "      <td>5094553.52</td>\n",
              "      <td>261</td>\n",
              "      <td>261</td>\n",
              "      <td>19519.362146</td>\n",
              "    </tr>\n",
              "    <tr>\n",
              "      <th>62678</th>\n",
              "      <td>2018</td>\n",
              "      <td>3510500</td>\n",
              "      <td>Eletricidade e Gás</td>\n",
              "      <td>4996589.17</td>\n",
              "      <td>263</td>\n",
              "      <td>259</td>\n",
              "      <td>19291.850077</td>\n",
              "    </tr>\n",
              "    <tr>\n",
              "      <th>38851</th>\n",
              "      <td>2015</td>\n",
              "      <td>3548500</td>\n",
              "      <td>Indústrias Extrativas</td>\n",
              "      <td>34823173.20</td>\n",
              "      <td>1969</td>\n",
              "      <td>1922</td>\n",
              "      <td>18118.196254</td>\n",
              "    </tr>\n",
              "    <tr>\n",
              "      <th>63155</th>\n",
              "      <td>2018</td>\n",
              "      <td>3513504</td>\n",
              "      <td>Eletricidade e Gás</td>\n",
              "      <td>1301007.12</td>\n",
              "      <td>81</td>\n",
              "      <td>73</td>\n",
              "      <td>17822.015342</td>\n",
              "    </tr>\n",
              "    <tr>\n",
              "      <th>49008</th>\n",
              "      <td>2016</td>\n",
              "      <td>3548500</td>\n",
              "      <td>Indústrias Extrativas</td>\n",
              "      <td>41036375.74</td>\n",
              "      <td>2359</td>\n",
              "      <td>2320</td>\n",
              "      <td>17688.092991</td>\n",
              "    </tr>\n",
              "    <tr>\n",
              "      <th>74866</th>\n",
              "      <td>2019</td>\n",
              "      <td>3521705</td>\n",
              "      <td>Eletricidade e Gás</td>\n",
              "      <td>334364.98</td>\n",
              "      <td>21</td>\n",
              "      <td>20</td>\n",
              "      <td>16718.249000</td>\n",
              "    </tr>\n",
              "    <tr>\n",
              "      <th>47022</th>\n",
              "      <td>2016</td>\n",
              "      <td>3537008</td>\n",
              "      <td>Eletricidade e Gás</td>\n",
              "      <td>1007488.44</td>\n",
              "      <td>65</td>\n",
              "      <td>62</td>\n",
              "      <td>16249.813548</td>\n",
              "    </tr>\n",
              "    <tr>\n",
              "      <th>42378</th>\n",
              "      <td>2016</td>\n",
              "      <td>3510500</td>\n",
              "      <td>Eletricidade e Gás</td>\n",
              "      <td>4462987.06</td>\n",
              "      <td>278</td>\n",
              "      <td>275</td>\n",
              "      <td>16229.043855</td>\n",
              "    </tr>\n",
              "    <tr>\n",
              "      <th>24073</th>\n",
              "      <td>2014</td>\n",
              "      <td>3521705</td>\n",
              "      <td>Eletricidade e Gás</td>\n",
              "      <td>161905.45</td>\n",
              "      <td>10</td>\n",
              "      <td>10</td>\n",
              "      <td>16190.545000</td>\n",
              "    </tr>\n",
              "    <tr>\n",
              "      <th>28682</th>\n",
              "      <td>2014</td>\n",
              "      <td>3548500</td>\n",
              "      <td>Indústrias Extrativas</td>\n",
              "      <td>13787564.05</td>\n",
              "      <td>890</td>\n",
              "      <td>854</td>\n",
              "      <td>16144.688583</td>\n",
              "    </tr>\n",
              "  </tbody>\n",
              "</table>\n",
              "</div>"
            ],
            "text/plain": [
              "        ano  cod_ibge             secao_cnae  massa_rendimentos_num  \\\n",
              "39609  2015   3552809     Eletricidade e Gás               52266.16   \n",
              "29437  2014   3552809     Eletricidade e Gás               49201.73   \n",
              "19305  2013   3552809     Eletricidade e Gás               46608.88   \n",
              "9188   2012   3552809     Eletricidade e Gás               43388.99   \n",
              "34225  2015   3521705     Eletricidade e Gás              193449.43   \n",
              "79482  2019   3548500  Indústrias Extrativas            21988730.53   \n",
              "69312  2018   3548500  Indústrias Extrativas            54063764.31   \n",
              "44393  2016   3521705     Eletricidade e Gás              187379.68   \n",
              "59146  2017   3548500  Indústrias Extrativas            54020869.57   \n",
              "89679  2020   3548500  Indústrias Extrativas            57042058.64   \n",
              "32200  2015   3510500     Eletricidade e Gás             5094553.52   \n",
              "62678  2018   3510500     Eletricidade e Gás             4996589.17   \n",
              "38851  2015   3548500  Indústrias Extrativas            34823173.20   \n",
              "63155  2018   3513504     Eletricidade e Gás             1301007.12   \n",
              "49008  2016   3548500  Indústrias Extrativas            41036375.74   \n",
              "74866  2019   3521705     Eletricidade e Gás              334364.98   \n",
              "47022  2016   3537008     Eletricidade e Gás             1007488.44   \n",
              "42378  2016   3510500     Eletricidade e Gás             4462987.06   \n",
              "24073  2014   3521705     Eletricidade e Gás              161905.45   \n",
              "28682  2014   3548500  Indústrias Extrativas            13787564.05   \n",
              "\n",
              "       emprego_formal  emp_c_sal  rendimento_medio_c_sal  \n",
              "39609               2          2            26133.080000  \n",
              "29437               2          2            24600.865000  \n",
              "19305               2          2            23304.440000  \n",
              "9188                2          2            21694.495000  \n",
              "34225               9          9            21494.381111  \n",
              "79482            2846       1036            21224.643369  \n",
              "69312            2629       2574            21003.793438  \n",
              "44393               9          9            20819.964444  \n",
              "59146            2680       2629            20548.067543  \n",
              "89679            2906       2844            20056.982644  \n",
              "32200             261        261            19519.362146  \n",
              "62678             263        259            19291.850077  \n",
              "38851            1969       1922            18118.196254  \n",
              "63155              81         73            17822.015342  \n",
              "49008            2359       2320            17688.092991  \n",
              "74866              21         20            16718.249000  \n",
              "47022              65         62            16249.813548  \n",
              "42378             278        275            16229.043855  \n",
              "24073              10         10            16190.545000  \n",
              "28682             890        854            16144.688583  "
            ]
          },
          "execution_count": 25,
          "metadata": {},
          "output_type": "execute_result"
        }
      ],
      "source": [
        "df_rendimento_emprego.sort_values(by = 'rendimento_medio_c_sal', ascending=False).head(20)"
      ]
    },
    {
      "cell_type": "code",
      "execution_count": 26,
      "metadata": {
        "id": "24KKdfOJcQ6O"
      },
      "outputs": [
        {
          "data": {
            "text/html": [
              "<div>\n",
              "<style scoped>\n",
              "    .dataframe tbody tr th:only-of-type {\n",
              "        vertical-align: middle;\n",
              "    }\n",
              "\n",
              "    .dataframe tbody tr th {\n",
              "        vertical-align: top;\n",
              "    }\n",
              "\n",
              "    .dataframe thead th {\n",
              "        text-align: right;\n",
              "    }\n",
              "</style>\n",
              "<table border=\"1\" class=\"dataframe\">\n",
              "  <thead>\n",
              "    <tr style=\"text-align: right;\">\n",
              "      <th></th>\n",
              "      <th>ano</th>\n",
              "      <th>cod_ibge</th>\n",
              "      <th>secao_cnae</th>\n",
              "      <th>massa_rendimentos_num</th>\n",
              "      <th>emprego_formal</th>\n",
              "      <th>emp_c_sal</th>\n",
              "      <th>rendimento_medio_c_sal</th>\n",
              "    </tr>\n",
              "  </thead>\n",
              "  <tbody>\n",
              "    <tr>\n",
              "      <th>1254</th>\n",
              "      <td>2012</td>\n",
              "      <td>3507209</td>\n",
              "      <td>Alojamento e Alimentação</td>\n",
              "      <td>187.93</td>\n",
              "      <td>1</td>\n",
              "      <td>1</td>\n",
              "      <td>187.93</td>\n",
              "    </tr>\n",
              "    <tr>\n",
              "      <th>9452</th>\n",
              "      <td>2012</td>\n",
              "      <td>3554201</td>\n",
              "      <td>Saúde</td>\n",
              "      <td>212.84</td>\n",
              "      <td>1</td>\n",
              "      <td>1</td>\n",
              "      <td>212.84</td>\n",
              "    </tr>\n",
              "    <tr>\n",
              "      <th>30831</th>\n",
              "      <td>2015</td>\n",
              "      <td>3503109</td>\n",
              "      <td>Informação e Comunicação</td>\n",
              "      <td>274.08</td>\n",
              "      <td>1</td>\n",
              "      <td>1</td>\n",
              "      <td>274.08</td>\n",
              "    </tr>\n",
              "    <tr>\n",
              "      <th>7413</th>\n",
              "      <td>2012</td>\n",
              "      <td>3542305</td>\n",
              "      <td>Educação</td>\n",
              "      <td>281.88</td>\n",
              "      <td>1</td>\n",
              "      <td>1</td>\n",
              "      <td>281.88</td>\n",
              "    </tr>\n",
              "    <tr>\n",
              "      <th>18812</th>\n",
              "      <td>2013</td>\n",
              "      <td>3550001</td>\n",
              "      <td>Artes e Cultura</td>\n",
              "      <td>286.37</td>\n",
              "      <td>1</td>\n",
              "      <td>1</td>\n",
              "      <td>286.37</td>\n",
              "    </tr>\n",
              "    <tr>\n",
              "      <th>29575</th>\n",
              "      <td>2014</td>\n",
              "      <td>3553658</td>\n",
              "      <td>Construção</td>\n",
              "      <td>300.00</td>\n",
              "      <td>1</td>\n",
              "      <td>1</td>\n",
              "      <td>300.00</td>\n",
              "    </tr>\n",
              "    <tr>\n",
              "      <th>69803</th>\n",
              "      <td>2018</td>\n",
              "      <td>3551306</td>\n",
              "      <td>Saúde</td>\n",
              "      <td>300.00</td>\n",
              "      <td>1</td>\n",
              "      <td>1</td>\n",
              "      <td>300.00</td>\n",
              "    </tr>\n",
              "    <tr>\n",
              "      <th>23607</th>\n",
              "      <td>2014</td>\n",
              "      <td>3519204</td>\n",
              "      <td>Educação</td>\n",
              "      <td>301.96</td>\n",
              "      <td>2</td>\n",
              "      <td>1</td>\n",
              "      <td>301.96</td>\n",
              "    </tr>\n",
              "    <tr>\n",
              "      <th>51171</th>\n",
              "      <td>2017</td>\n",
              "      <td>3503109</td>\n",
              "      <td>Informação e Comunicação</td>\n",
              "      <td>306.24</td>\n",
              "      <td>1</td>\n",
              "      <td>1</td>\n",
              "      <td>306.24</td>\n",
              "    </tr>\n",
              "    <tr>\n",
              "      <th>48536</th>\n",
              "      <td>2016</td>\n",
              "      <td>3545704</td>\n",
              "      <td>Atividades Imobiliárias</td>\n",
              "      <td>309.15</td>\n",
              "      <td>1</td>\n",
              "      <td>1</td>\n",
              "      <td>309.15</td>\n",
              "    </tr>\n",
              "    <tr>\n",
              "      <th>5543</th>\n",
              "      <td>2012</td>\n",
              "      <td>3531506</td>\n",
              "      <td>Atividades Imobiliárias</td>\n",
              "      <td>311.00</td>\n",
              "      <td>1</td>\n",
              "      <td>1</td>\n",
              "      <td>311.00</td>\n",
              "    </tr>\n",
              "    <tr>\n",
              "      <th>18162</th>\n",
              "      <td>2013</td>\n",
              "      <td>3546207</td>\n",
              "      <td>Saúde</td>\n",
              "      <td>315.12</td>\n",
              "      <td>1</td>\n",
              "      <td>1</td>\n",
              "      <td>315.12</td>\n",
              "    </tr>\n",
              "    <tr>\n",
              "      <th>101</th>\n",
              "      <td>2012</td>\n",
              "      <td>3500600</td>\n",
              "      <td>Artes e Cultura</td>\n",
              "      <td>1580.15</td>\n",
              "      <td>5</td>\n",
              "      <td>5</td>\n",
              "      <td>316.03</td>\n",
              "    </tr>\n",
              "    <tr>\n",
              "      <th>14760</th>\n",
              "      <td>2013</td>\n",
              "      <td>3526308</td>\n",
              "      <td>Artes e Cultura</td>\n",
              "      <td>323.22</td>\n",
              "      <td>1</td>\n",
              "      <td>1</td>\n",
              "      <td>323.22</td>\n",
              "    </tr>\n",
              "    <tr>\n",
              "      <th>61309</th>\n",
              "      <td>2018</td>\n",
              "      <td>3503109</td>\n",
              "      <td>Informação e Comunicação</td>\n",
              "      <td>331.00</td>\n",
              "      <td>1</td>\n",
              "      <td>1</td>\n",
              "      <td>331.00</td>\n",
              "    </tr>\n",
              "    <tr>\n",
              "      <th>84964</th>\n",
              "      <td>2020</td>\n",
              "      <td>3521101</td>\n",
              "      <td>Educação</td>\n",
              "      <td>331.39</td>\n",
              "      <td>6</td>\n",
              "      <td>1</td>\n",
              "      <td>331.39</td>\n",
              "    </tr>\n",
              "    <tr>\n",
              "      <th>82050</th>\n",
              "      <td>2020</td>\n",
              "      <td>3505351</td>\n",
              "      <td>Educação</td>\n",
              "      <td>333.60</td>\n",
              "      <td>2</td>\n",
              "      <td>1</td>\n",
              "      <td>333.60</td>\n",
              "    </tr>\n",
              "    <tr>\n",
              "      <th>7417</th>\n",
              "      <td>2012</td>\n",
              "      <td>3542305</td>\n",
              "      <td>Saúde</td>\n",
              "      <td>345.00</td>\n",
              "      <td>1</td>\n",
              "      <td>1</td>\n",
              "      <td>345.00</td>\n",
              "    </tr>\n",
              "    <tr>\n",
              "      <th>8122</th>\n",
              "      <td>2012</td>\n",
              "      <td>3546603</td>\n",
              "      <td>Serviços Domésticos</td>\n",
              "      <td>345.00</td>\n",
              "      <td>1</td>\n",
              "      <td>1</td>\n",
              "      <td>345.00</td>\n",
              "    </tr>\n",
              "    <tr>\n",
              "      <th>5693</th>\n",
              "      <td>2012</td>\n",
              "      <td>3532306</td>\n",
              "      <td>Saúde</td>\n",
              "      <td>345.00</td>\n",
              "      <td>1</td>\n",
              "      <td>1</td>\n",
              "      <td>345.00</td>\n",
              "    </tr>\n",
              "  </tbody>\n",
              "</table>\n",
              "</div>"
            ],
            "text/plain": [
              "        ano  cod_ibge                secao_cnae  massa_rendimentos_num  \\\n",
              "1254   2012   3507209  Alojamento e Alimentação                 187.93   \n",
              "9452   2012   3554201                     Saúde                 212.84   \n",
              "30831  2015   3503109  Informação e Comunicação                 274.08   \n",
              "7413   2012   3542305                  Educação                 281.88   \n",
              "18812  2013   3550001           Artes e Cultura                 286.37   \n",
              "29575  2014   3553658                Construção                 300.00   \n",
              "69803  2018   3551306                     Saúde                 300.00   \n",
              "23607  2014   3519204                  Educação                 301.96   \n",
              "51171  2017   3503109  Informação e Comunicação                 306.24   \n",
              "48536  2016   3545704   Atividades Imobiliárias                 309.15   \n",
              "5543   2012   3531506   Atividades Imobiliárias                 311.00   \n",
              "18162  2013   3546207                     Saúde                 315.12   \n",
              "101    2012   3500600           Artes e Cultura                1580.15   \n",
              "14760  2013   3526308           Artes e Cultura                 323.22   \n",
              "61309  2018   3503109  Informação e Comunicação                 331.00   \n",
              "84964  2020   3521101                  Educação                 331.39   \n",
              "82050  2020   3505351                  Educação                 333.60   \n",
              "7417   2012   3542305                     Saúde                 345.00   \n",
              "8122   2012   3546603       Serviços Domésticos                 345.00   \n",
              "5693   2012   3532306                     Saúde                 345.00   \n",
              "\n",
              "       emprego_formal  emp_c_sal  rendimento_medio_c_sal  \n",
              "1254                1          1                  187.93  \n",
              "9452                1          1                  212.84  \n",
              "30831               1          1                  274.08  \n",
              "7413                1          1                  281.88  \n",
              "18812               1          1                  286.37  \n",
              "29575               1          1                  300.00  \n",
              "69803               1          1                  300.00  \n",
              "23607               2          1                  301.96  \n",
              "51171               1          1                  306.24  \n",
              "48536               1          1                  309.15  \n",
              "5543                1          1                  311.00  \n",
              "18162               1          1                  315.12  \n",
              "101                 5          5                  316.03  \n",
              "14760               1          1                  323.22  \n",
              "61309               1          1                  331.00  \n",
              "84964               6          1                  331.39  \n",
              "82050               2          1                  333.60  \n",
              "7417                1          1                  345.00  \n",
              "8122                1          1                  345.00  \n",
              "5693                1          1                  345.00  "
            ]
          },
          "execution_count": 26,
          "metadata": {},
          "output_type": "execute_result"
        }
      ],
      "source": [
        "df_rendimento_emprego.sort_values(by = 'rendimento_medio_c_sal', ascending=True).head(20)"
      ]
    },
    {
      "cell_type": "code",
      "execution_count": 27,
      "metadata": {
        "colab": {
          "background_save": true
        },
        "id": "dZENrHId8JUB",
        "outputId": "17796d4d-b412-44b3-8129-6c82d72f950c"
      },
      "outputs": [
        {
          "data": {
            "image/png": "[encoded data removed]",
            "text/plain": [
              "<Figure size 800x500 with 1 Axes>"
            ]
          },
          "metadata": {},
          "output_type": "display_data"
        }
      ],
      "source": [
        "# Distribuição de salários (massa de rendimentos)\n",
        "plt.figure(figsize=(8,5))\n",
        "sns.histplot(\n",
        "    data=df,\n",
        "    x=\"massa_rendimentos_num\",\n",
        "    bins=50,\n",
        "    log_scale=True,   # eixo Y em escala log\n",
        "    color=\"royalblue\"\n",
        ")\n",
        "plt.title(\"Distribuição salários RAIS\")\n",
        "plt.xlabel(\"Salário (R$)\")\n",
        "plt.ylabel(\"Frequência (log)\")\n",
        "plt.show()"
      ]
    },
    {
      "cell_type": "code",
      "execution_count": 28,
      "metadata": {
        "colab": {
          "background_save": true
        },
        "id": "hkTdrHYE8PGd",
        "outputId": "64b3796c-6d4c-41b2-baee-112095839a75"
      },
      "outputs": [
        {
          "name": "stdout",
          "output_type": "stream",
          "text": [
            "secao_cnae\n",
            "Comércio                      5957203\n",
            "Indústria de Transformação    5945131\n",
            "Serviços Administrativos      1488997\n",
            "Construção                    1279461\n",
            "Transporte e Correios         1030794\n",
            "Agropecuária                   893700\n",
            "Educação                       872360\n",
            "Saúde                          854949\n",
            "Outros Serviços                824416\n",
            "Alojamento e Alimentação       781020\n",
            "Name: count, dtype: int64\n"
          ]
        }
      ],
      "source": [
        "# Top 10 setores (CNAE_secao) por número de vínculos\n",
        "print(df[\"secao_cnae\"].value_counts().head(10))"
      ]
    },
    {
      "cell_type": "markdown",
      "metadata": {
        "id": "QSLMUotjjVMu"
      },
      "source": [
        "## Relacionar fatores economicos no RAIS\n",
        "\n",
        "PIB, inflação, por enquanto"
      ]
    },
    {
      "cell_type": "markdown",
      "metadata": {
        "id": "EgbAaOIAkCOu"
      },
      "source": [
        "carregando inflação"
      ]
    },
    {
      "cell_type": "code",
      "execution_count": 29,
      "metadata": {
        "colab": {
          "background_save": true
        },
        "id": "_EGI1L_RjCV7",
        "outputId": "a271a5c2-b136-4fd0-a442-8fb9c78f524c"
      },
      "outputs": [],
      "source": [
        "#!gdown 1Bkpci0JLcsEnlszv_xWrG61xzx55jxNH"
      ]
    },
    {
      "cell_type": "code",
      "execution_count": null,
      "metadata": {
        "colab": {
          "background_save": true
        },
        "id": "Wam3TJmp59B4",
        "outputId": "5ad53414-4bb7-4832-ae7f-d0ebd1b27e14"
      },
      "outputs": [
        {
          "name": "stdout",
          "output_type": "stream",
          "text": [
            "Requirement already satisfied: openpyxl in c:\\users\\marcos\\anaconda3\\lib\\site-packages (3.1.5)\n",
            "Requirement already satisfied: et-xmlfile in c:\\users\\marcos\\anaconda3\\lib\\site-packages (from openpyxl) (1.1.0)\n"
          ]
        }
      ],
      "source": [
        "#!pip install openpyxl"
      ]
    },
    {
      "cell_type": "code",
      "execution_count": 30,
      "metadata": {
        "colab": {
          "background_save": true
        },
        "id": "Oh78DTtfjFZn"
      },
      "outputs": [],
      "source": [
        "df_inflacao = pd.read_excel('IPCA_setor/ipca_setor_anualizado.xlsx')"
      ]
    },
    {
      "cell_type": "code",
      "execution_count": 31,
      "metadata": {},
      "outputs": [
        {
          "data": {
            "text/html": [
              "<div>\n",
              "<style scoped>\n",
              "    .dataframe tbody tr th:only-of-type {\n",
              "        vertical-align: middle;\n",
              "    }\n",
              "\n",
              "    .dataframe tbody tr th {\n",
              "        vertical-align: top;\n",
              "    }\n",
              "\n",
              "    .dataframe thead th {\n",
              "        text-align: right;\n",
              "    }\n",
              "</style>\n",
              "<table border=\"1\" class=\"dataframe\">\n",
              "  <thead>\n",
              "    <tr style=\"text-align: right;\">\n",
              "      <th></th>\n",
              "      <th>ano</th>\n",
              "      <th>ipca_alimentos_bebidas</th>\n",
              "      <th>ipca_artigos_residencia</th>\n",
              "      <th>ipca_comunicacao</th>\n",
              "      <th>ipca_despesas_pessoais</th>\n",
              "      <th>ipca_educacao</th>\n",
              "      <th>ipca_habitacao</th>\n",
              "      <th>ipca_saude_cuidados_pessoais</th>\n",
              "      <th>ipca_transportes</th>\n",
              "      <th>ipca_vestuario</th>\n",
              "      <th>ipca_geral</th>\n",
              "    </tr>\n",
              "  </thead>\n",
              "  <tbody>\n",
              "    <tr>\n",
              "      <th>0</th>\n",
              "      <td>2012</td>\n",
              "      <td>9.862794</td>\n",
              "      <td>0.846219</td>\n",
              "      <td>0.759539</td>\n",
              "      <td>10.156268</td>\n",
              "      <td>7.792614</td>\n",
              "      <td>6.811951</td>\n",
              "      <td>5.943856</td>\n",
              "      <td>0.374033</td>\n",
              "      <td>5.800558</td>\n",
              "      <td>5.838569</td>\n",
              "    </tr>\n",
              "  </tbody>\n",
              "</table>\n",
              "</div>"
            ],
            "text/plain": [
              "    ano  ipca_alimentos_bebidas  ipca_artigos_residencia  ipca_comunicacao  \\\n",
              "0  2012                9.862794                 0.846219          0.759539   \n",
              "\n",
              "   ipca_despesas_pessoais  ipca_educacao  ipca_habitacao  \\\n",
              "0               10.156268       7.792614        6.811951   \n",
              "\n",
              "   ipca_saude_cuidados_pessoais  ipca_transportes  ipca_vestuario  ipca_geral  \n",
              "0                      5.943856          0.374033        5.800558    5.838569  "
            ]
          },
          "execution_count": 31,
          "metadata": {},
          "output_type": "execute_result"
        }
      ],
      "source": [
        "df_inflacao.head(1)"
      ]
    },
    {
      "cell_type": "code",
      "execution_count": 32,
      "metadata": {
        "colab": {
          "background_save": true
        },
        "id": "LEA180_LjifS"
      },
      "outputs": [],
      "source": [
        "df_inflacao = df_inflacao[(df_inflacao['ano'] >= 2012) & (df_inflacao['ano'] <= 2020) ]"
      ]
    },
    {
      "cell_type": "code",
      "execution_count": 33,
      "metadata": {
        "colab": {
          "background_save": true
        },
        "id": "SR7vKS090eC5",
        "outputId": "b5f69139-ef05-448c-aef4-525c6244c4bf"
      },
      "outputs": [
        {
          "name": "stdout",
          "output_type": "stream",
          "text": [
            "<class 'pandas.core.frame.DataFrame'>\n",
            "RangeIndex: 9 entries, 0 to 8\n",
            "Data columns (total 11 columns):\n",
            " #   Column                        Non-Null Count  Dtype  \n",
            "---  ------                        --------------  -----  \n",
            " 0   ano                           9 non-null      int64  \n",
            " 1   ipca_alimentos_bebidas        9 non-null      float64\n",
            " 2   ipca_artigos_residencia       9 non-null      float64\n",
            " 3   ipca_comunicacao              9 non-null      float64\n",
            " 4   ipca_despesas_pessoais        9 non-null      float64\n",
            " 5   ipca_educacao                 9 non-null      float64\n",
            " 6   ipca_habitacao                9 non-null      float64\n",
            " 7   ipca_saude_cuidados_pessoais  9 non-null      float64\n",
            " 8   ipca_transportes              9 non-null      float64\n",
            " 9   ipca_vestuario                9 non-null      float64\n",
            " 10  ipca_geral                    9 non-null      float64\n",
            "dtypes: float64(10), int64(1)\n",
            "memory usage: 924.0 bytes\n"
          ]
        },
        {
          "data": {
            "text/html": [
              "<div>\n",
              "<style scoped>\n",
              "    .dataframe tbody tr th:only-of-type {\n",
              "        vertical-align: middle;\n",
              "    }\n",
              "\n",
              "    .dataframe tbody tr th {\n",
              "        vertical-align: top;\n",
              "    }\n",
              "\n",
              "    .dataframe thead th {\n",
              "        text-align: right;\n",
              "    }\n",
              "</style>\n",
              "<table border=\"1\" class=\"dataframe\">\n",
              "  <thead>\n",
              "    <tr style=\"text-align: right;\">\n",
              "      <th></th>\n",
              "      <th>ano</th>\n",
              "      <th>ipca_alimentos_bebidas</th>\n",
              "      <th>ipca_artigos_residencia</th>\n",
              "      <th>ipca_comunicacao</th>\n",
              "      <th>ipca_despesas_pessoais</th>\n",
              "      <th>ipca_educacao</th>\n",
              "      <th>ipca_habitacao</th>\n",
              "      <th>ipca_saude_cuidados_pessoais</th>\n",
              "      <th>ipca_transportes</th>\n",
              "      <th>ipca_vestuario</th>\n",
              "      <th>ipca_geral</th>\n",
              "    </tr>\n",
              "  </thead>\n",
              "  <tbody>\n",
              "    <tr>\n",
              "      <th>0</th>\n",
              "      <td>2012</td>\n",
              "      <td>9.862794</td>\n",
              "      <td>0.846219</td>\n",
              "      <td>0.759539</td>\n",
              "      <td>10.156268</td>\n",
              "      <td>7.792614</td>\n",
              "      <td>6.811951</td>\n",
              "      <td>5.943856</td>\n",
              "      <td>0.374033</td>\n",
              "      <td>5.800558</td>\n",
              "      <td>5.838569</td>\n",
              "    </tr>\n",
              "    <tr>\n",
              "      <th>1</th>\n",
              "      <td>2013</td>\n",
              "      <td>8.477348</td>\n",
              "      <td>7.116327</td>\n",
              "      <td>1.506580</td>\n",
              "      <td>8.398714</td>\n",
              "      <td>7.922577</td>\n",
              "      <td>3.409809</td>\n",
              "      <td>6.947191</td>\n",
              "      <td>3.295580</td>\n",
              "      <td>5.373638</td>\n",
              "      <td>5.910818</td>\n",
              "    </tr>\n",
              "    <tr>\n",
              "      <th>2</th>\n",
              "      <td>2014</td>\n",
              "      <td>8.031129</td>\n",
              "      <td>5.496404</td>\n",
              "      <td>-1.509972</td>\n",
              "      <td>8.305893</td>\n",
              "      <td>8.452358</td>\n",
              "      <td>8.803604</td>\n",
              "      <td>6.970412</td>\n",
              "      <td>3.758790</td>\n",
              "      <td>3.649534</td>\n",
              "      <td>6.407617</td>\n",
              "    </tr>\n",
              "    <tr>\n",
              "      <th>3</th>\n",
              "      <td>2015</td>\n",
              "      <td>12.008131</td>\n",
              "      <td>5.382886</td>\n",
              "      <td>2.096074</td>\n",
              "      <td>9.510231</td>\n",
              "      <td>9.248743</td>\n",
              "      <td>18.336453</td>\n",
              "      <td>9.202803</td>\n",
              "      <td>10.167379</td>\n",
              "      <td>4.469602</td>\n",
              "      <td>10.673498</td>\n",
              "    </tr>\n",
              "    <tr>\n",
              "      <th>4</th>\n",
              "      <td>2016</td>\n",
              "      <td>8.610738</td>\n",
              "      <td>3.412772</td>\n",
              "      <td>1.270565</td>\n",
              "      <td>8.009707</td>\n",
              "      <td>8.865806</td>\n",
              "      <td>2.839685</td>\n",
              "      <td>11.045369</td>\n",
              "      <td>4.236124</td>\n",
              "      <td>3.539347</td>\n",
              "      <td>6.288055</td>\n",
              "    </tr>\n",
              "  </tbody>\n",
              "</table>\n",
              "</div>"
            ],
            "text/plain": [
              "    ano  ipca_alimentos_bebidas  ipca_artigos_residencia  ipca_comunicacao  \\\n",
              "0  2012                9.862794                 0.846219          0.759539   \n",
              "1  2013                8.477348                 7.116327          1.506580   \n",
              "2  2014                8.031129                 5.496404         -1.509972   \n",
              "3  2015               12.008131                 5.382886          2.096074   \n",
              "4  2016                8.610738                 3.412772          1.270565   \n",
              "\n",
              "   ipca_despesas_pessoais  ipca_educacao  ipca_habitacao  \\\n",
              "0               10.156268       7.792614        6.811951   \n",
              "1                8.398714       7.922577        3.409809   \n",
              "2                8.305893       8.452358        8.803604   \n",
              "3                9.510231       9.248743       18.336453   \n",
              "4                8.009707       8.865806        2.839685   \n",
              "\n",
              "   ipca_saude_cuidados_pessoais  ipca_transportes  ipca_vestuario  ipca_geral  \n",
              "0                      5.943856          0.374033        5.800558    5.838569  \n",
              "1                      6.947191          3.295580        5.373638    5.910818  \n",
              "2                      6.970412          3.758790        3.649534    6.407617  \n",
              "3                      9.202803         10.167379        4.469602   10.673498  \n",
              "4                     11.045369          4.236124        3.539347    6.288055  "
            ]
          },
          "execution_count": 33,
          "metadata": {},
          "output_type": "execute_result"
        }
      ],
      "source": [
        "df_inflacao.info()\n",
        "df_inflacao.head()"
      ]
    },
    {
      "cell_type": "code",
      "execution_count": 35,
      "metadata": {
        "colab": {
          "background_save": true
        },
        "id": "aAqYv70I8xo3",
        "outputId": "e19dfce6-88e2-43d1-8188-f9cc381eee96"
      },
      "outputs": [
        {
          "data": {
            "image/png": "[encoded data removed]",
            "text/plain": [
              "<Figure size 640x480 with 1 Axes>"
            ]
          },
          "metadata": {},
          "output_type": "display_data"
        }
      ],
      "source": [
        "df_inflacao.set_index(\"ano\")[\"ipca_geral\"].plot(marker=\"o\", title=\"IPCA acumulado por ano\")\n",
        "plt.show()"
      ]
    },
    {
      "cell_type": "markdown",
      "metadata": {
        "id": "nmZkZpxYkD7O"
      },
      "source": [
        "Carregando PIB"
      ]
    },
    {
      "cell_type": "code",
      "execution_count": 37,
      "metadata": {
        "colab": {
          "background_save": true
        },
        "id": "Qpl1JwK2jTQc",
        "outputId": "059006c5-a79b-425c-8a0c-b3503c5b623c"
      },
      "outputs": [],
      "source": [
        "#!gdown 1MDZ4LdpIy6fa5IihxUp0btoOMYArZnU4"
      ]
    },
    {
      "cell_type": "code",
      "execution_count": 38,
      "metadata": {
        "colab": {
          "background_save": true
        },
        "id": "7fK1UkOexAjf"
      },
      "outputs": [],
      "source": [
        "df_pib = pd.read_excel('PIB/pib.xlsx')"
      ]
    },
    {
      "cell_type": "code",
      "execution_count": 39,
      "metadata": {
        "colab": {
          "background_save": true
        },
        "id": "qzoFOwygxEfM"
      },
      "outputs": [],
      "source": [
        "df_pib = df_pib[(df_pib['ano'] >= 2012) & (df_pib['ano'] <= 2020) ]"
      ]
    },
    {
      "cell_type": "code",
      "execution_count": 40,
      "metadata": {
        "colab": {
          "background_save": true
        },
        "id": "tkiR0B3y0Qfw",
        "outputId": "a54f008a-375e-4bae-ab96-ffc43407b734"
      },
      "outputs": [
        {
          "name": "stdout",
          "output_type": "stream",
          "text": [
            "<class 'pandas.core.frame.DataFrame'>\n",
            "Index: 5805 entries, 10 to 12254\n",
            "Data columns (total 10 columns):\n",
            " #   Column                Non-Null Count  Dtype \n",
            "---  ------                --------------  ----- \n",
            " 0   cod_ibge              5805 non-null   int64 \n",
            " 1   localidade            5805 non-null   object\n",
            " 2   ano                   5805 non-null   int64 \n",
            " 3   agropecuaria          5805 non-null   int64 \n",
            " 4   impostos_liq_sub      5805 non-null   int64 \n",
            " 5   industria             5805 non-null   int64 \n",
            " 6   pib                   5805 non-null   int64 \n",
            " 7   servicos              5805 non-null   int64 \n",
            " 8   servicos_adm_publica  5805 non-null   int64 \n",
            " 9   valor_add             5805 non-null   int64 \n",
            "dtypes: int64(9), object(1)\n",
            "memory usage: 498.9+ KB\n"
          ]
        },
        {
          "data": {
            "text/html": [
              "<div>\n",
              "<style scoped>\n",
              "    .dataframe tbody tr th:only-of-type {\n",
              "        vertical-align: middle;\n",
              "    }\n",
              "\n",
              "    .dataframe tbody tr th {\n",
              "        vertical-align: top;\n",
              "    }\n",
              "\n",
              "    .dataframe thead th {\n",
              "        text-align: right;\n",
              "    }\n",
              "</style>\n",
              "<table border=\"1\" class=\"dataframe\">\n",
              "  <thead>\n",
              "    <tr style=\"text-align: right;\">\n",
              "      <th></th>\n",
              "      <th>cod_ibge</th>\n",
              "      <th>localidade</th>\n",
              "      <th>ano</th>\n",
              "      <th>agropecuaria</th>\n",
              "      <th>impostos_liq_sub</th>\n",
              "      <th>industria</th>\n",
              "      <th>pib</th>\n",
              "      <th>servicos</th>\n",
              "      <th>servicos_adm_publica</th>\n",
              "      <th>valor_add</th>\n",
              "    </tr>\n",
              "  </thead>\n",
              "  <tbody>\n",
              "    <tr>\n",
              "      <th>10</th>\n",
              "      <td>3500105</td>\n",
              "      <td>Adamantina</td>\n",
              "      <td>2012</td>\n",
              "      <td>38489908</td>\n",
              "      <td>62842352</td>\n",
              "      <td>114027855</td>\n",
              "      <td>743683942</td>\n",
              "      <td>421933183</td>\n",
              "      <td>106390645</td>\n",
              "      <td>680841590</td>\n",
              "    </tr>\n",
              "    <tr>\n",
              "      <th>11</th>\n",
              "      <td>3500105</td>\n",
              "      <td>Adamantina</td>\n",
              "      <td>2013</td>\n",
              "      <td>42724447</td>\n",
              "      <td>65448614</td>\n",
              "      <td>109703205</td>\n",
              "      <td>815579342</td>\n",
              "      <td>474748989</td>\n",
              "      <td>122954088</td>\n",
              "      <td>750130729</td>\n",
              "    </tr>\n",
              "    <tr>\n",
              "      <th>12</th>\n",
              "      <td>3500105</td>\n",
              "      <td>Adamantina</td>\n",
              "      <td>2014</td>\n",
              "      <td>36676315</td>\n",
              "      <td>63577528</td>\n",
              "      <td>110761270</td>\n",
              "      <td>862888665</td>\n",
              "      <td>517361503</td>\n",
              "      <td>134512050</td>\n",
              "      <td>799311137</td>\n",
              "    </tr>\n",
              "    <tr>\n",
              "      <th>13</th>\n",
              "      <td>3500105</td>\n",
              "      <td>Adamantina</td>\n",
              "      <td>2015</td>\n",
              "      <td>35561201</td>\n",
              "      <td>69638632</td>\n",
              "      <td>268213546</td>\n",
              "      <td>1059096842</td>\n",
              "      <td>540799992</td>\n",
              "      <td>144883471</td>\n",
              "      <td>989458210</td>\n",
              "    </tr>\n",
              "    <tr>\n",
              "      <th>14</th>\n",
              "      <td>3500105</td>\n",
              "      <td>Adamantina</td>\n",
              "      <td>2016</td>\n",
              "      <td>41846000</td>\n",
              "      <td>72693082</td>\n",
              "      <td>129807378</td>\n",
              "      <td>979975651</td>\n",
              "      <td>584588161</td>\n",
              "      <td>151041030</td>\n",
              "      <td>907282569</td>\n",
              "    </tr>\n",
              "  </tbody>\n",
              "</table>\n",
              "</div>"
            ],
            "text/plain": [
              "    cod_ibge  localidade   ano  agropecuaria  impostos_liq_sub  industria  \\\n",
              "10   3500105  Adamantina  2012      38489908          62842352  114027855   \n",
              "11   3500105  Adamantina  2013      42724447          65448614  109703205   \n",
              "12   3500105  Adamantina  2014      36676315          63577528  110761270   \n",
              "13   3500105  Adamantina  2015      35561201          69638632  268213546   \n",
              "14   3500105  Adamantina  2016      41846000          72693082  129807378   \n",
              "\n",
              "           pib   servicos  servicos_adm_publica  valor_add  \n",
              "10   743683942  421933183             106390645  680841590  \n",
              "11   815579342  474748989             122954088  750130729  \n",
              "12   862888665  517361503             134512050  799311137  \n",
              "13  1059096842  540799992             144883471  989458210  \n",
              "14   979975651  584588161             151041030  907282569  "
            ]
          },
          "execution_count": 40,
          "metadata": {},
          "output_type": "execute_result"
        }
      ],
      "source": [
        "df_pib.info()\n",
        "df_pib.head()"
      ]
    },
    {
      "cell_type": "code",
      "execution_count": 41,
      "metadata": {
        "colab": {
          "background_save": true
        },
        "id": "oAfONMkI8iD_",
        "outputId": "b8b70fa7-4161-409f-9603-85057bafec3c"
      },
      "outputs": [
        {
          "data": {
            "image/png": "[encoded data removed]",
            "text/plain": [
              "<Figure size 640x480 with 1 Axes>"
            ]
          },
          "metadata": {},
          "output_type": "display_data"
        }
      ],
      "source": [
        "# Evolução do PIB agregado por ano\n",
        "df_pib.groupby(\"ano\")[\"pib\"].sum().plot(title=\"PIB total por ano\")\n",
        "plt.show()"
      ]
    },
    {
      "cell_type": "code",
      "execution_count": 42,
      "metadata": {
        "colab": {
          "background_save": true
        },
        "id": "uRxSG8ZuxKFg",
        "outputId": "2034af1b-363a-41fc-8efc-7f2687f7b9ad"
      },
      "outputs": [
        {
          "data": {
            "text/plain": [
              "[]"
            ]
          },
          "execution_count": 42,
          "metadata": {},
          "output_type": "execute_result"
        }
      ],
      "source": [
        "#verificar se o codigo_ibge está condizente\n",
        "cod_pib = df_pib.cod_ibge.unique()\n",
        "cod_emp = df.cod_ibge.unique()\n",
        "list(set(cod_emp) - set(cod_pib))"
      ]
    },
    {
      "cell_type": "markdown",
      "metadata": {
        "id": "cmG5dOy8yVdo"
      },
      "source": [
        "Join entre as bases"
      ]
    },
    {
      "cell_type": "code",
      "execution_count": 45,
      "metadata": {
        "colab": {
          "background_save": true
        },
        "id": "2lfoJYQYyCnA"
      },
      "outputs": [],
      "source": [
        "# RAIS\n",
        "if \"ANO\" in df.columns:\n",
        "    df = df.rename(columns={\"ANO\":\"ano\"})\n",
        "if \"Cod_ibge\" in df.columns:\n",
        "    df = df.rename(columns={\"Cod_ibge\":\"cod_ibge\"})\n",
        "\n",
        "df[\"ano\"] = df[\"ano\"].astype(\"int64\", errors=\"ignore\")\n",
        "if \"cod_ibge\" in df.columns:\n",
        "    df[\"cod_ibge\"] = df[\"cod_ibge\"].astype(\"int64\", errors=\"ignore\")"
      ]
    },
    {
      "cell_type": "code",
      "execution_count": 43,
      "metadata": {
        "colab": {
          "background_save": true
        },
        "id": "K7aV8Ln04_TV"
      },
      "outputs": [],
      "source": [
        "# PIB (municipal)\n",
        "df_pib = df_pib.rename(columns=str.lower)  # garante: 'ano', 'cod_ibge', ...\n",
        "df_pib[\"ano\"] = df_pib[\"ano\"].astype(\"int64\")\n",
        "df_pib[\"cod_ibge\"] = df_pib[\"cod_ibge\"].astype(\"int64\")\n"
      ]
    },
    {
      "cell_type": "code",
      "execution_count": 44,
      "metadata": {
        "colab": {
          "background_save": true
        },
        "id": "WNgLFSgP5Cuj"
      },
      "outputs": [],
      "source": [
        "# Inflação (nacional por ano)\n",
        "df_inflacao = df_inflacao.rename(columns=str.lower)  # garante: 'ano', 'ipca_acumulado'\n",
        "df_inflacao[\"ano\"] = df_inflacao[\"ano\"].astype(\"int64\")"
      ]
    },
    {
      "cell_type": "code",
      "execution_count": 46,
      "metadata": {
        "colab": {
          "background_save": true
        },
        "id": "zzidq6nE5FIm",
        "outputId": "646b2479-2d85-4262-81aa-2002992d2485"
      },
      "outputs": [
        {
          "name": "stdout",
          "output_type": "stream",
          "text": [
            "[check] Duplicatas em df_pib por (ano,cod_ibge): 0\n",
            "[check] Duplicatas em df_inflacao por ano: 0\n"
          ]
        }
      ],
      "source": [
        "# Sanidade das chaves \n",
        "# PIB deve ser 1 linha por (ano, cod_ibge)\n",
        "dup_pib = df_pib.duplicated(subset=[\"ano\",\"cod_ibge\"]).sum()\n",
        "print(f\"[check] Duplicatas em df_pib por (ano,cod_ibge): {dup_pib}\")\n",
        "\n",
        "# Inflação deve ser 1 linha por ano\n",
        "dup_inf = df_inflacao.duplicated(subset=[\"ano\"]).sum()\n",
        "print(f\"[check] Duplicatas em df_inflacao por ano: {dup_inf}\")"
      ]
    },
    {
      "cell_type": "code",
      "execution_count": 47,
      "metadata": {
        "id": "e1CFRGLb5LHb"
      },
      "outputs": [
        {
          "name": "stdout",
          "output_type": "stream",
          "text": [
            "[merge] df_rais_pib: (22969962, 20)\n"
          ]
        }
      ],
      "source": [
        "# Merge RAIS + PIB por (ano, cod_ibge) \n",
        "pib_cols = [c for c in df_pib.columns if c not in (\"ano\",\"cod_ibge\",\"localidade\")]\n",
        "df_pib_pref = df_pib[[\"ano\",\"cod_ibge\"] + pib_cols].copy()\n",
        "df_pib_pref = df_pib_pref.rename(columns={c: f\"pib_{c}\" for c in pib_cols})\n",
        "\n",
        "df_rais_pib = df.merge(df_pib_pref, on=[\"ano\",\"cod_ibge\"], how=\"left\", validate=\"m:1\")\n",
        "print(f\"[merge] df_rais_pib: {df_rais_pib.shape}\")\n"
      ]
    },
    {
      "cell_type": "code",
      "execution_count": 39,
      "metadata": {
        "id": "bjMrMr4z5No-"
      },
      "outputs": [
        {
          "name": "stdout",
          "output_type": "stream",
          "text": [
            "[merge] df_rais_pib_inf: (22969962, 21)\n"
          ]
        }
      ],
      "source": [
        "#  Merge com inflação (ano) \n",
        "df_rais_pib_inf = df_rais_pib.merge(df_inflacao, on=\"ano\", how=\"left\", validate=\"m:1\")\n",
        "print(f\"[merge] df_rais_pib_inf: {df_rais_pib_inf.shape}\")"
      ]
    },
    {
      "cell_type": "code",
      "execution_count": 40,
      "metadata": {
        "id": "RUl7hSMY6JFB"
      },
      "outputs": [
        {
          "name": "stdout",
          "output_type": "stream",
          "text": [
            "[cov] Cobertura PIB: 100.0% | Cobertura IPCA: 100.0%\n"
          ]
        }
      ],
      "source": [
        "# Checagens rápidas de cobertura \n",
        "tot = len(df)\n",
        "cov_pib = df_rais_pib[\"pib_pib\"].notna().mean() if \"pib_pib\" in df_rais_pib.columns else float(\"nan\")\n",
        "cov_ipca = df_rais_pib_inf[\"ipca_acumulado\"].notna().mean() if \"ipca_acumulado\" in df_rais_pib_inf.columns else float(\"nan\")\n",
        "print(f\"[cov] Cobertura PIB: {cov_pib:.1%} | Cobertura IPCA: {cov_ipca:.1%}\")"
      ]
    },
    {
      "cell_type": "code",
      "execution_count": 41,
      "metadata": {
        "id": "ktFSYSjL6L8d"
      },
      "outputs": [
        {
          "name": "stdout",
          "output_type": "stream",
          "text": [
            "    ano  cod_ibge  ipca_acumulado  pib_agropecuaria  pib_impostos_liq_sub  \\\n",
            "0  2012   3500105            5.84          38489908              62842352   \n",
            "1  2012   3500105            5.84          38489908              62842352   \n",
            "2  2012   3500105            5.84          38489908              62842352   \n",
            "3  2012   3500105            5.84          38489908              62842352   \n",
            "4  2012   3500105            5.84          38489908              62842352   \n",
            "\n",
            "   pib_industria    pib_pib  pib_servicos  pib_servicos_adm_publica  \n",
            "0      114027855  743683942     421933183                 106390645  \n",
            "1      114027855  743683942     421933183                 106390645  \n",
            "2      114027855  743683942     421933183                 106390645  \n",
            "3      114027855  743683942     421933183                 106390645  \n",
            "4      114027855  743683942     421933183                 106390645  \n"
          ]
        }
      ],
      "source": [
        "# Amostra de colunas resultantes\n",
        "preview_cols = [\"ano\",\"cod_ibge\",\"ipca_acumulado\"]\n",
        "preview_cols += [c for c in df_rais_pib_inf.columns if c.startswith(\"pib_\")][:6]  # primeiras 6 do PIB\n",
        "print(df_rais_pib_inf[preview_cols].head())"
      ]
    },
    {
      "cell_type": "code",
      "execution_count": 42,
      "metadata": {},
      "outputs": [],
      "source": [
        "df_merged = df_rais_pib_inf.copy()"
      ]
    },
    {
      "cell_type": "code",
      "execution_count": 43,
      "metadata": {
        "id": "fRysIuJe7DUv"
      },
      "outputs": [
        {
          "data": {
            "text/plain": [
              "ano                  0.0\n",
              "cod_ibge             0.0\n",
              "cbo2002_familia      0.0\n",
              "clas_cnae_20         0.0\n",
              "gr_instrucao         0.0\n",
              "tamestab             0.0\n",
              "massa_rendimentos    0.0\n",
              "emprego_formal       0.0\n",
              "emp_c_sal            0.0\n",
              "escolaridade         0.0\n",
              "dtype: float64"
            ]
          },
          "execution_count": 43,
          "metadata": {},
          "output_type": "execute_result"
        }
      ],
      "source": [
        "df_merged.isna().mean().sort_values(ascending=False).head(10)\n"
      ]
    },
    {
      "cell_type": "code",
      "execution_count": 44,
      "metadata": {},
      "outputs": [
        {
          "data": {
            "image/png": "[encoded data removed]",
            "text/plain": [
              "<Figure size 640x480 with 1 Axes>"
            ]
          },
          "metadata": {},
          "output_type": "display_data"
        }
      ],
      "source": [
        "# Número de vínculos por ano\n",
        "df_merged.groupby(\"ano\")[\"cod_ibge\"].count().plot(title=\"Número de vínculos por ano\")\n",
        "plt.show()"
      ]
    },
    {
      "cell_type": "markdown",
      "metadata": {},
      "source": [
        "## Agregar informações do Cadunico"
      ]
    },
    {
      "cell_type": "markdown",
      "metadata": {},
      "source": []
    }
  ],
  "metadata": {
    "accelerator": "TPU",
    "colab": {
      "gpuType": "V5E1",
      "provenance": []
    },
    "kernelspec": {
      "display_name": "Python 3",
      "language": "python",
      "name": "python3"
    },
    "language_info": {
      "codemirror_mode": {
        "name": "ipython",
        "version": 3
      },
      "file_extension": ".py",
      "mimetype": "text/x-python",
      "name": "python",
      "nbconvert_exporter": "python",
      "pygments_lexer": "ipython3",
      "version": "3.13.1"
    }
  },
  "nbformat": 4,
  "nbformat_minor": 0
}
